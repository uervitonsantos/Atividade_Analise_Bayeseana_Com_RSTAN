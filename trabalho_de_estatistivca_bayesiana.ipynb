{
  "nbformat": 4,
  "nbformat_minor": 0,
  "metadata": {
    "colab": {
      "provenance": [],
      "collapsed_sections": [],
      "mount_file_id": "1lWzbmEwcbRBxk-OnrGSVKo1TOn0ZUIrO",
      "authorship_tag": "ABX9TyOmIpIdrtyw0yneK9swQTzv",
      "include_colab_link": true
    },
    "kernelspec": {
      "name": "python3",
      "display_name": "Python 3"
    },
    "language_info": {
      "name": "python"
    }
  },
  "cells": [
    {
      "cell_type": "markdown",
      "metadata": {
        "id": "view-in-github",
        "colab_type": "text"
      },
      "source": [
        "<a href=\"https://colab.research.google.com/github/uervitonsantos/Atividade_Analise_Bayeseana_Com_RSTAN/blob/main/trabalho_de_estatistivca_bayesiana.ipynb\" target=\"_parent\"><img src=\"https://colab.research.google.com/assets/colab-badge.svg\" alt=\"Open In Colab\"/></a>"
      ]
    },
    {
      "cell_type": "code",
      "execution_count": null,
      "metadata": {
        "id": "uxG1zpiUk7BC"
      },
      "outputs": [],
      "source": [
        "!pip install rpy2==3.5.4"
      ]
    },
    {
      "cell_type": "code",
      "source": [
        "%load_ext rpy2.ipython"
      ],
      "metadata": {
        "id": "HEnRk48rlCfM"
      },
      "execution_count": 3,
      "outputs": []
    },
    {
      "cell_type": "code",
      "source": [
        "%%R\n",
        "install.packages(\"rstanarm\")"
      ],
      "metadata": {
        "id": "7prB6B__lQL3"
      },
      "execution_count": null,
      "outputs": []
    },
    {
      "cell_type": "code",
      "source": [
        "%%R\n",
        "library(ggplot2)\n",
        "library(dplyr)\n",
        "library(bayesplot)\n",
        "library(rstanarm)\n",
        "theme_set(bayesplot::theme_default())"
      ],
      "metadata": {
        "id": "WkU4IGumoLDj"
      },
      "execution_count": 64,
      "outputs": []
    },
    {
      "cell_type": "code",
      "source": [
        "%%R\n",
        "df <- read.csv(\"/content/drive/MyDrive/Colab Notebooks/DateSet/Motor_Bomba.csv\", header = TRUE, sep = \";\", dec = \",\")"
      ],
      "metadata": {
        "id": "6PO1f8pezShw"
      },
      "execution_count": 65,
      "outputs": []
    },
    {
      "cell_type": "code",
      "source": [
        "%%R\n",
        "str(df)"
      ],
      "metadata": {
        "colab": {
          "base_uri": "https://localhost:8080/"
        },
        "id": "pXqCBqbB0BAi",
        "outputId": "23316cd5-f64b-486b-b240-d42fa2150fd1"
      },
      "execution_count": 66,
      "outputs": [
        {
          "output_type": "stream",
          "name": "stdout",
          "text": [
            "'data.frame':\t363 obs. of  22 variables:\n",
            " $ Ano                            : int  2016 2016 2016 2016 2016 2016 2016 2016 2016 2016 ...\n",
            " $ Dia                            : int  2 3 4 5 6 7 8 9 10 11 ...\n",
            " $ FALHA                          : int  0 0 0 0 0 0 0 0 0 0 ...\n",
            " $ Temp..Estator.Fase.U           : int  38 38 38 38 38 38 38 38 38 38 ...\n",
            " $ Temp..Estator.Fase.V           : int  40 40 40 40 40 40 40 40 40 40 ...\n",
            " $ Temp..Estator.Fase.WA          : int  37 37 37 37 37 37 37 36 36 36 ...\n",
            " $ Temp..Estator.Fase.WB          : int  39 39 39 39 39 39 39 39 39 39 ...\n",
            " $ Vibração.Bomba.LA              : int  0 0 0 0 0 0 0 0 0 0 ...\n",
            " $ Vazão.Bomba                    : int  0 0 0 0 0 0 0 0 0 0 ...\n",
            " $ Corrente                       : int  0 0 0 0 0 0 0 0 0 0 ...\n",
            " $ Pressão.Desc.                  : int  0 0 0 0 0 0 0 0 0 0 ...\n",
            " $ Pressão.Suc                    : int  0 0 0 0 0 0 0 0 0 0 ...\n",
            " $ Posição.FCV                    : int  0 0 0 0 0 0 0 0 0 0 ...\n",
            " $ Temp..externo.mancal.escora.LNA: int  21 21 21 21 21 21 21 21 21 21 ...\n",
            " $ Temp..interno.mancal.escora.LNA: int  21 21 21 21 21 21 21 21 21 21 ...\n",
            " $ Pressão.Selo.LA                : int  0 0 0 0 0 0 0 0 0 0 ...\n",
            " $ Pressão.Selo.LNA               : int  0 0 0 0 0 0 0 0 0 0 ...\n",
            " $ Temp..mancal.LA.bomba          : int  23 23 23 23 23 23 23 23 23 23 ...\n",
            " $ Temp..mancal.LA.motor          : int  29 29 29 29 29 29 29 29 29 29 ...\n",
            " $ Temp..mancal.LNA.bomba         : int  17 17 17 17 17 17 17 17 17 17 ...\n",
            " $ Temp..mancal.LNA.motor         : int  25 25 25 25 25 25 25 25 25 25 ...\n",
            " $ Temp..Oleo.ULF                 : int  21 21 21 21 21 21 21 21 21 21 ...\n"
          ]
        }
      ]
    },
    {
      "cell_type": "code",
      "source": [
        "%%R\n",
        "p <- ggplot(df, aes(Dia, FALHA)) + \n",
        "  geom_point()\n",
        "\n",
        "  p"
      ],
      "metadata": {
        "colab": {
          "base_uri": "https://localhost:8080/",
          "height": 497
        },
        "id": "YvJCpbHjLlg2",
        "outputId": "057fbe87-872c-40af-9bbc-110c48ec42b7"
      },
      "execution_count": 80,
      "outputs": [
        {
          "output_type": "display_data",
          "data": {
            "image/png": "[encoded data removed]"
          },
          "metadata": {}
        }
      ]
    },
    {
      "cell_type": "code",
      "source": [
        "%%R\n",
        "sd(df$FALHA) %>% log"
      ],
      "metadata": {
        "colab": {
          "base_uri": "https://localhost:8080/"
        },
        "id": "E-vVlGK5SJDJ",
        "outputId": "da608612-6fbb-4c7b-fa6f-f4789264a395"
      },
      "execution_count": 91,
      "outputs": [
        {
          "output_type": "stream",
          "name": "stdout",
          "text": [
            "[1] -1.720177\n"
          ]
        }
      ]
    },
    {
      "cell_type": "code",
      "source": [
        "%%R\n",
        "sd(df$Dia) %>% log"
      ],
      "metadata": {
        "colab": {
          "base_uri": "https://localhost:8080/"
        },
        "id": "fsndkeCESx7r",
        "outputId": "1940a209-c74d-4f81-e0d0-cc06b9137b3f"
      },
      "execution_count": 92,
      "outputs": [
        {
          "output_type": "stream",
          "name": "stdout",
          "text": [
            "[1] 4.653325\n"
          ]
        }
      ]
    },
    {
      "cell_type": "code",
      "source": [
        "%%R\n",
        "sd(df$Temp..mancal.LA.motor) %>% log"
      ],
      "metadata": {
        "colab": {
          "base_uri": "https://localhost:8080/"
        },
        "id": "6DRvAoa6S1D0",
        "outputId": "6daf5965-f645-43e6-96be-7ee335e77201"
      },
      "execution_count": 93,
      "outputs": [
        {
          "output_type": "stream",
          "name": "stdout",
          "text": [
            "[1] 2.052306\n"
          ]
        }
      ]
    },
    {
      "cell_type": "code",
      "source": [
        "%%R\n",
        "# Estimate Bayesian version with stan_glm\n",
        "stan_glm1 <- stan_glm(formula = FALHA ~ Dia + Temp..Estator.Fase.U +\n",
        "                      offset(log(Dia)),\n",
        "                      data = df,  \n",
        "                      family = poisson, \n",
        "                    #   prior = normal(c(0, 0, 0), c(0.1, 5, 5)),\n",
        "                    #   prior_intercept = normal(0, 2.5)\n",
        "                    )\n",
        "summary(stan_glm1)"
      ],
      "metadata": {
        "colab": {
          "base_uri": "https://localhost:8080/"
        },
        "id": "9GbUWccDy_eo",
        "outputId": "be7e9c3c-988f-491f-8137-ea7fd3ec0639"
      },
      "execution_count": 138,
      "outputs": [
        {
          "output_type": "stream",
          "name": "stdout",
          "text": [
            "\n",
            "SAMPLING FOR MODEL 'count' NOW (CHAIN 1).\n",
            "Chain 1: \n",
            "Chain 1: Gradient evaluation took 7.5e-05 seconds\n",
            "Chain 1: 1000 transitions using 10 leapfrog steps per transition would take 0.75 seconds.\n",
            "Chain 1: Adjust your expectations accordingly!\n",
            "Chain 1: \n",
            "Chain 1: \n",
            "Chain 1: Iteration:    1 / 2000 [  0%]  (Warmup)\n",
            "Chain 1: Iteration:  200 / 2000 [ 10%]  (Warmup)\n",
            "Chain 1: Iteration:  400 / 2000 [ 20%]  (Warmup)\n",
            "Chain 1: Iteration:  600 / 2000 [ 30%]  (Warmup)\n",
            "Chain 1: Iteration:  800 / 2000 [ 40%]  (Warmup)\n",
            "Chain 1: Iteration: 1000 / 2000 [ 50%]  (Warmup)\n",
            "Chain 1: Iteration: 1001 / 2000 [ 50%]  (Sampling)\n",
            "Chain 1: Iteration: 1200 / 2000 [ 60%]  (Sampling)\n",
            "Chain 1: Iteration: 1400 / 2000 [ 70%]  (Sampling)\n",
            "Chain 1: Iteration: 1600 / 2000 [ 80%]  (Sampling)\n",
            "Chain 1: Iteration: 1800 / 2000 [ 90%]  (Sampling)\n",
            "Chain 1: Iteration: 2000 / 2000 [100%]  (Sampling)\n",
            "Chain 1: \n",
            "Chain 1:  Elapsed Time: 0.68776 seconds (Warm-up)\n",
            "Chain 1:                0.447674 seconds (Sampling)\n",
            "Chain 1:                1.13543 seconds (Total)\n",
            "Chain 1: \n",
            "\n",
            "SAMPLING FOR MODEL 'count' NOW (CHAIN 2).\n",
            "Chain 2: \n",
            "Chain 2: Gradient evaluation took 6.1e-05 seconds\n",
            "Chain 2: 1000 transitions using 10 leapfrog steps per transition would take 0.61 seconds.\n",
            "Chain 2: Adjust your expectations accordingly!\n",
            "Chain 2: \n",
            "Chain 2: \n",
            "Chain 2: Iteration:    1 / 2000 [  0%]  (Warmup)\n",
            "Chain 2: Iteration:  200 / 2000 [ 10%]  (Warmup)\n",
            "Chain 2: Iteration:  400 / 2000 [ 20%]  (Warmup)\n",
            "Chain 2: Iteration:  600 / 2000 [ 30%]  (Warmup)\n",
            "Chain 2: Iteration:  800 / 2000 [ 40%]  (Warmup)\n",
            "Chain 2: Iteration: 1000 / 2000 [ 50%]  (Warmup)\n",
            "Chain 2: Iteration: 1001 / 2000 [ 50%]  (Sampling)\n",
            "Chain 2: Iteration: 1200 / 2000 [ 60%]  (Sampling)\n",
            "Chain 2: Iteration: 1400 / 2000 [ 70%]  (Sampling)\n",
            "Chain 2: Iteration: 1600 / 2000 [ 80%]  (Sampling)\n",
            "Chain 2: Iteration: 1800 / 2000 [ 90%]  (Sampling)\n",
            "Chain 2: Iteration: 2000 / 2000 [100%]  (Sampling)\n",
            "Chain 2: \n",
            "Chain 2:  Elapsed Time: 0.554575 seconds (Warm-up)\n",
            "Chain 2:                0.445316 seconds (Sampling)\n",
            "Chain 2:                0.999891 seconds (Total)\n",
            "Chain 2: \n",
            "\n",
            "SAMPLING FOR MODEL 'count' NOW (CHAIN 3).\n",
            "Chain 3: \n",
            "Chain 3: Gradient evaluation took 6.5e-05 seconds\n",
            "Chain 3: 1000 transitions using 10 leapfrog steps per transition would take 0.65 seconds.\n",
            "Chain 3: Adjust your expectations accordingly!\n",
            "Chain 3: \n",
            "Chain 3: \n",
            "Chain 3: Iteration:    1 / 2000 [  0%]  (Warmup)\n",
            "Chain 3: Iteration:  200 / 2000 [ 10%]  (Warmup)\n",
            "Chain 3: Iteration:  400 / 2000 [ 20%]  (Warmup)\n",
            "Chain 3: Iteration:  600 / 2000 [ 30%]  (Warmup)\n",
            "Chain 3: Iteration:  800 / 2000 [ 40%]  (Warmup)\n",
            "Chain 3: Iteration: 1000 / 2000 [ 50%]  (Warmup)\n",
            "Chain 3: Iteration: 1001 / 2000 [ 50%]  (Sampling)\n",
            "Chain 3: Iteration: 1200 / 2000 [ 60%]  (Sampling)\n",
            "Chain 3: Iteration: 1400 / 2000 [ 70%]  (Sampling)\n",
            "Chain 3: Iteration: 1600 / 2000 [ 80%]  (Sampling)\n",
            "Chain 3: Iteration: 1800 / 2000 [ 90%]  (Sampling)\n",
            "Chain 3: Iteration: 2000 / 2000 [100%]  (Sampling)\n",
            "Chain 3: \n",
            "Chain 3:  Elapsed Time: 0.568822 seconds (Warm-up)\n",
            "Chain 3:                0.435664 seconds (Sampling)\n",
            "Chain 3:                1.00449 seconds (Total)\n",
            "Chain 3: \n",
            "\n",
            "SAMPLING FOR MODEL 'count' NOW (CHAIN 4).\n",
            "Chain 4: \n",
            "Chain 4: Gradient evaluation took 6.6e-05 seconds\n",
            "Chain 4: 1000 transitions using 10 leapfrog steps per transition would take 0.66 seconds.\n",
            "Chain 4: Adjust your expectations accordingly!\n",
            "Chain 4: \n",
            "Chain 4: \n",
            "Chain 4: Iteration:    1 / 2000 [  0%]  (Warmup)\n",
            "Chain 4: Iteration:  200 / 2000 [ 10%]  (Warmup)\n",
            "Chain 4: Iteration:  400 / 2000 [ 20%]  (Warmup)\n",
            "Chain 4: Iteration:  600 / 2000 [ 30%]  (Warmup)\n",
            "Chain 4: Iteration:  800 / 2000 [ 40%]  (Warmup)\n",
            "Chain 4: Iteration: 1000 / 2000 [ 50%]  (Warmup)\n",
            "Chain 4: Iteration: 1001 / 2000 [ 50%]  (Sampling)\n",
            "Chain 4: Iteration: 1200 / 2000 [ 60%]  (Sampling)\n",
            "Chain 4: Iteration: 1400 / 2000 [ 70%]  (Sampling)\n",
            "Chain 4: Iteration: 1600 / 2000 [ 80%]  (Sampling)\n",
            "Chain 4: Iteration: 1800 / 2000 [ 90%]  (Sampling)\n",
            "Chain 4: Iteration: 2000 / 2000 [100%]  (Sampling)\n",
            "Chain 4: \n",
            "Chain 4:  Elapsed Time: 0.599304 seconds (Warm-up)\n",
            "Chain 4:                0.459405 seconds (Sampling)\n",
            "Chain 4:                1.05871 seconds (Total)\n",
            "Chain 4: \n",
            "\n",
            "Model Info:\n",
            " function:     stan_glm\n",
            " family:       poisson [log]\n",
            " formula:      FALHA ~ Dia + Temp..Estator.Fase.U + offset(log(Dia))\n",
            " algorithm:    sampling\n",
            " sample:       4000 (posterior sample size)\n",
            " priors:       see help('prior_summary')\n",
            " observations: 363\n",
            " predictors:   3\n",
            "\n",
            "Estimates:\n",
            "                       mean   sd   10%   50%   90%\n",
            "(Intercept)          -6.6    0.7 -7.5  -6.6  -5.7 \n",
            "Dia                   0.0    0.0  0.0   0.0   0.0 \n",
            "Temp..Estator.Fase.U  0.0    0.0 -0.1   0.0   0.0 \n",
            "\n",
            "Fit Diagnostics:\n",
            "           mean   sd   10%   50%   90%\n",
            "mean_PPD 0.0    0.0  0.0   0.0   0.1  \n",
            "\n",
            "The mean_ppd is the sample average posterior predictive distribution of the outcome variable (for details see help('summary.stanreg')).\n",
            "\n",
            "MCMC diagnostics\n",
            "                     mcse Rhat n_eff\n",
            "(Intercept)          0.0  1.0  3826 \n",
            "Dia                  0.0  1.0  1134 \n",
            "Temp..Estator.Fase.U 0.0  1.0  1170 \n",
            "mean_PPD             0.0  1.0  2971 \n",
            "log-posterior        0.0  1.0  1306 \n",
            "\n",
            "For each parameter, mcse is Monte Carlo standard error, n_eff is a crude measure of effective sample size, and Rhat is the potential scale reduction factor on split chains (at convergence Rhat=1).\n"
          ]
        }
      ]
    }
  ]
}