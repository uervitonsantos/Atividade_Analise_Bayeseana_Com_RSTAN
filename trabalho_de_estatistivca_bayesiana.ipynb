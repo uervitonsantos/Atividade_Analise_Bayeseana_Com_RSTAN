{
  "nbformat": 4,
  "nbformat_minor": 0,
  "metadata": {
    "colab": {
      "provenance": [],
      "collapsed_sections": [],
      "mount_file_id": "1lWzbmEwcbRBxk-OnrGSVKo1TOn0ZUIrO",
      "authorship_tag": "ABX9TyNHlHO4bHEOnzifR21xynl2",
      "include_colab_link": true
    },
    "kernelspec": {
      "name": "python3",
      "display_name": "Python 3"
    },
    "language_info": {
      "name": "python"
    }
  },
  "cells": [
    {
      "cell_type": "markdown",
      "metadata": {
        "id": "view-in-github",
        "colab_type": "text"
      },
      "source": [
        "<a href=\"https://colab.research.google.com/github/uervitonsantos/Atividade_Analise_Bayeseana_Com_RSTAN/blob/main/trabalho_de_estatistivca_bayesiana.ipynb\" target=\"_parent\"><img src=\"https://colab.research.google.com/assets/colab-badge.svg\" alt=\"Open In Colab\"/></a>"
      ]
    },
    {
      "cell_type": "code",
      "execution_count": null,
      "metadata": {
        "id": "uxG1zpiUk7BC"
      },
      "outputs": [],
      "source": [
        "!pip install rpy2==3.5.4"
      ]
    },
    {
      "cell_type": "code",
      "source": [
        "%load_ext rpy2.ipython"
      ],
      "metadata": {
        "id": "HEnRk48rlCfM"
      },
      "execution_count": 3,
      "outputs": []
    },
    {
      "cell_type": "code",
      "source": [
        "%%R\n",
        "install.packages(\"rstanarm\")"
      ],
      "metadata": {
        "id": "7prB6B__lQL3"
      },
      "execution_count": null,
      "outputs": []
    },
    {
      "cell_type": "code",
      "source": [
        "%%R\n",
        "library(ggplot2)\n",
        "library(dplyr)\n",
        "library(bayesplot)\n",
        "library(rstanarm)\n",
        "theme_set(bayesplot::theme_default())"
      ],
      "metadata": {
        "id": "WkU4IGumoLDj"
      },
      "execution_count": 64,
      "outputs": []
    },
    {
      "cell_type": "code",
      "source": [
        "%%R\n",
        "df <- read.csv(\"/content/drive/MyDrive/Colab Notebooks/DateSet/Motor_Bomba.csv\", header = TRUE, sep = \";\", dec = \",\")"
      ],
      "metadata": {
        "id": "6PO1f8pezShw"
      },
      "execution_count": 65,
      "outputs": []
    },
    {
      "cell_type": "code",
      "source": [
        "%%R\n",
        "str(df)"
      ],
      "metadata": {
        "colab": {
          "base_uri": "https://localhost:8080/"
        },
        "id": "pXqCBqbB0BAi",
        "outputId": "23316cd5-f64b-486b-b240-d42fa2150fd1"
      },
      "execution_count": 66,
      "outputs": [
        {
          "output_type": "stream",
          "name": "stdout",
          "text": [
            "'data.frame':\t363 obs. of  22 variables:\n",
            " $ Ano                            : int  2016 2016 2016 2016 2016 2016 2016 2016 2016 2016 ...\n",
            " $ Dia                            : int  2 3 4 5 6 7 8 9 10 11 ...\n",
            " $ FALHA                          : int  0 0 0 0 0 0 0 0 0 0 ...\n",
            " $ Temp..Estator.Fase.U           : int  38 38 38 38 38 38 38 38 38 38 ...\n",
            " $ Temp..Estator.Fase.V           : int  40 40 40 40 40 40 40 40 40 40 ...\n",
            " $ Temp..Estator.Fase.WA          : int  37 37 37 37 37 37 37 36 36 36 ...\n",
            " $ Temp..Estator.Fase.WB          : int  39 39 39 39 39 39 39 39 39 39 ...\n",
            " $ Vibração.Bomba.LA              : int  0 0 0 0 0 0 0 0 0 0 ...\n",
            " $ Vazão.Bomba                    : int  0 0 0 0 0 0 0 0 0 0 ...\n",
            " $ Corrente                       : int  0 0 0 0 0 0 0 0 0 0 ...\n",
            " $ Pressão.Desc.                  : int  0 0 0 0 0 0 0 0 0 0 ...\n",
            " $ Pressão.Suc                    : int  0 0 0 0 0 0 0 0 0 0 ...\n",
            " $ Posição.FCV                    : int  0 0 0 0 0 0 0 0 0 0 ...\n",
            " $ Temp..externo.mancal.escora.LNA: int  21 21 21 21 21 21 21 21 21 21 ...\n",
            " $ Temp..interno.mancal.escora.LNA: int  21 21 21 21 21 21 21 21 21 21 ...\n",
            " $ Pressão.Selo.LA                : int  0 0 0 0 0 0 0 0 0 0 ...\n",
            " $ Pressão.Selo.LNA               : int  0 0 0 0 0 0 0 0 0 0 ...\n",
            " $ Temp..mancal.LA.bomba          : int  23 23 23 23 23 23 23 23 23 23 ...\n",
            " $ Temp..mancal.LA.motor          : int  29 29 29 29 29 29 29 29 29 29 ...\n",
            " $ Temp..mancal.LNA.bomba         : int  17 17 17 17 17 17 17 17 17 17 ...\n",
            " $ Temp..mancal.LNA.motor         : int  25 25 25 25 25 25 25 25 25 25 ...\n",
            " $ Temp..Oleo.ULF                 : int  21 21 21 21 21 21 21 21 21 21 ...\n"
          ]
        }
      ]
    },
    {
      "cell_type": "code",
      "source": [
        "%%R\n",
        "p <- ggplot(df, aes(Dia, FALHA)) + \n",
        "  geom_point()\n",
        "\n",
        "  p"
      ],
      "metadata": {
        "colab": {
          "base_uri": "https://localhost:8080/",
          "height": 497
        },
        "id": "YvJCpbHjLlg2",
        "outputId": "057fbe87-872c-40af-9bbc-110c48ec42b7"
      },
      "execution_count": 80,
      "outputs": [
        {
          "output_type": "display_data",
          "data": {
            "image/png": "[encoded data removed]"
          },
          "metadata": {}
        }
      ]
    },
    {
      "cell_type": "code",
      "source": [
        "%%R\n",
        "sd(df$FALHA) %>% log"
      ],
      "metadata": {
        "colab": {
          "base_uri": "https://localhost:8080/"
        },
        "id": "E-vVlGK5SJDJ",
        "outputId": "da608612-6fbb-4c7b-fa6f-f4789264a395"
      },
      "execution_count": 91,
      "outputs": [
        {
          "output_type": "stream",
          "name": "stdout",
          "text": [
            "[1] -1.720177\n"
          ]
        }
      ]
    },
    {
      "cell_type": "code",
      "source": [
        "%%R\n",
        "sd(df$Dia) %>% log"
      ],
      "metadata": {
        "colab": {
          "base_uri": "https://localhost:8080/"
        },
        "id": "fsndkeCESx7r",
        "outputId": "1940a209-c74d-4f81-e0d0-cc06b9137b3f"
      },
      "execution_count": 92,
      "outputs": [
        {
          "output_type": "stream",
          "name": "stdout",
          "text": [
            "[1] 4.653325\n"
          ]
        }
      ]
    },
    {
      "cell_type": "code",
      "source": [
        "%%R\n",
        "sd(df$Temp..mancal.LA.motor) %>% log"
      ],
      "metadata": {
        "colab": {
          "base_uri": "https://localhost:8080/"
        },
        "id": "6DRvAoa6S1D0",
        "outputId": "6daf5965-f645-43e6-96be-7ee335e77201"
      },
      "execution_count": 93,
      "outputs": [
        {
          "output_type": "stream",
          "name": "stdout",
          "text": [
            "[1] 2.052306\n"
          ]
        }
      ]
    },
    {
      "cell_type": "code",
      "source": [
        "%%R\n",
        "# Estimate Bayesian version with stan_glm\n",
        "stan_glm1 <- stan_glm(formula = FALHA ~ Dia + Temp..Estator.Fase.U +                       \n",
        "  Temp..Estator.Fase.V +                       \n",
        "  Temp..Estator.Fase.WA +                      \n",
        "  Temp..Estator.Fase.WB +                      \n",
        "  Vibração.Bomba.LA +                          \n",
        "  Vazão.Bomba +                              \n",
        "  Corrente +                                   \n",
        "  Pressão.Desc. +                              \n",
        "  Pressão.Suc +                                \n",
        "  #Posição.FCV +                               \n",
        "  Temp..externo.mancal.escora.LNA +            \n",
        "  Temp..interno.mancal.escora.LNA +            \n",
        "  Pressão.Selo.LA +                            \n",
        "  Pressão.Selo.LNA +                           \n",
        "  Temp..mancal.LA.bomba +                      \n",
        "  Temp..mancal.LA.motor +                      \n",
        "  Temp..mancal.LNA.bomba +                     \n",
        "  Temp..mancal.LNA.motor +                     \n",
        "  Temp..Oleo.ULF,\n",
        "                      offset(log(Dia)),\n",
        "                      data = df,  \n",
        "                      family = poisson, \n",
        "                    #   prior = normal(c(0, 0, 0), c(0.1, 5, 5)),\n",
        "                    #   prior_intercept = normal(0, 2.5)\n",
        "                    )\n",
        "summary(stan_glm1)"
      ],
      "metadata": {
        "colab": {
          "base_uri": "https://localhost:8080/"
        },
        "id": "9GbUWccDy_eo",
        "outputId": "6e00f1eb-0c46-42ad-df0f-0cbc89009aed"
      },
      "execution_count": 150,
      "outputs": [
        {
          "output_type": "stream",
          "name": "stdout",
          "text": [
            "\n",
            "SAMPLING FOR MODEL 'count' NOW (CHAIN 1).\n",
            "Chain 1: \n",
            "Chain 1: Gradient evaluation took 0.000197 seconds\n",
            "Chain 1: 1000 transitions using 10 leapfrog steps per transition would take 1.97 seconds.\n",
            "Chain 1: Adjust your expectations accordingly!\n",
            "Chain 1: \n",
            "Chain 1: \n",
            "Chain 1: Iteration:    1 / 2000 [  0%]  (Warmup)\n",
            "Chain 1: Iteration:  200 / 2000 [ 10%]  (Warmup)\n",
            "Chain 1: Iteration:  400 / 2000 [ 20%]  (Warmup)\n",
            "Chain 1: Iteration:  600 / 2000 [ 30%]  (Warmup)\n",
            "Chain 1: Iteration:  800 / 2000 [ 40%]  (Warmup)\n",
            "Chain 1: Iteration: 1000 / 2000 [ 50%]  (Warmup)\n",
            "Chain 1: Iteration: 1001 / 2000 [ 50%]  (Sampling)\n",
            "Chain 1: Iteration: 1200 / 2000 [ 60%]  (Sampling)\n",
            "Chain 1: Iteration: 1400 / 2000 [ 70%]  (Sampling)\n",
            "Chain 1: Iteration: 1600 / 2000 [ 80%]  (Sampling)\n",
            "Chain 1: Iteration: 1800 / 2000 [ 90%]  (Sampling)\n",
            "Chain 1: Iteration: 2000 / 2000 [100%]  (Sampling)\n",
            "Chain 1: \n",
            "Chain 1:  Elapsed Time: 27.7496 seconds (Warm-up)\n",
            "Chain 1:                22.3536 seconds (Sampling)\n",
            "Chain 1:                50.1032 seconds (Total)\n",
            "Chain 1: \n",
            "\n",
            "SAMPLING FOR MODEL 'count' NOW (CHAIN 2).\n",
            "Chain 2: \n",
            "Chain 2: Gradient evaluation took 0.000193 seconds\n",
            "Chain 2: 1000 transitions using 10 leapfrog steps per transition would take 1.93 seconds.\n",
            "Chain 2: Adjust your expectations accordingly!\n",
            "Chain 2: \n",
            "Chain 2: \n",
            "Chain 2: Iteration:    1 / 2000 [  0%]  (Warmup)\n",
            "Chain 2: Iteration:  200 / 2000 [ 10%]  (Warmup)\n",
            "Chain 2: Iteration:  400 / 2000 [ 20%]  (Warmup)\n",
            "Chain 2: Iteration:  600 / 2000 [ 30%]  (Warmup)\n",
            "Chain 2: Iteration:  800 / 2000 [ 40%]  (Warmup)\n",
            "Chain 2: Iteration: 1000 / 2000 [ 50%]  (Warmup)\n",
            "Chain 2: Iteration: 1001 / 2000 [ 50%]  (Sampling)\n",
            "Chain 2: Iteration: 1200 / 2000 [ 60%]  (Sampling)\n",
            "Chain 2: Iteration: 1400 / 2000 [ 70%]  (Sampling)\n",
            "Chain 2: Iteration: 1600 / 2000 [ 80%]  (Sampling)\n",
            "Chain 2: Iteration: 1800 / 2000 [ 90%]  (Sampling)\n",
            "Chain 2: Iteration: 2000 / 2000 [100%]  (Sampling)\n",
            "Chain 2: \n",
            "Chain 2:  Elapsed Time: 26.5972 seconds (Warm-up)\n",
            "Chain 2:                33.0013 seconds (Sampling)\n",
            "Chain 2:                59.5985 seconds (Total)\n",
            "Chain 2: \n",
            "\n",
            "SAMPLING FOR MODEL 'count' NOW (CHAIN 3).\n",
            "Chain 3: \n",
            "Chain 3: Gradient evaluation took 0.000207 seconds\n",
            "Chain 3: 1000 transitions using 10 leapfrog steps per transition would take 2.07 seconds.\n",
            "Chain 3: Adjust your expectations accordingly!\n",
            "Chain 3: \n",
            "Chain 3: \n",
            "Chain 3: Iteration:    1 / 2000 [  0%]  (Warmup)\n",
            "Chain 3: Iteration:  200 / 2000 [ 10%]  (Warmup)\n",
            "Chain 3: Iteration:  400 / 2000 [ 20%]  (Warmup)\n",
            "Chain 3: Iteration:  600 / 2000 [ 30%]  (Warmup)\n",
            "Chain 3: Iteration:  800 / 2000 [ 40%]  (Warmup)\n",
            "Chain 3: Iteration: 1000 / 2000 [ 50%]  (Warmup)\n",
            "Chain 3: Iteration: 1001 / 2000 [ 50%]  (Sampling)\n",
            "Chain 3: Iteration: 1200 / 2000 [ 60%]  (Sampling)\n",
            "Chain 3: Iteration: 1400 / 2000 [ 70%]  (Sampling)\n",
            "Chain 3: Iteration: 1600 / 2000 [ 80%]  (Sampling)\n",
            "Chain 3: Iteration: 1800 / 2000 [ 90%]  (Sampling)\n",
            "Chain 3: Iteration: 2000 / 2000 [100%]  (Sampling)\n",
            "Chain 3: \n",
            "Chain 3:  Elapsed Time: 24.1186 seconds (Warm-up)\n",
            "Chain 3:                22.6212 seconds (Sampling)\n",
            "Chain 3:                46.7398 seconds (Total)\n",
            "Chain 3: \n",
            "\n",
            "SAMPLING FOR MODEL 'count' NOW (CHAIN 4).\n",
            "Chain 4: \n",
            "Chain 4: Gradient evaluation took 0.000186 seconds\n",
            "Chain 4: 1000 transitions using 10 leapfrog steps per transition would take 1.86 seconds.\n",
            "Chain 4: Adjust your expectations accordingly!\n",
            "Chain 4: \n",
            "Chain 4: \n",
            "Chain 4: Iteration:    1 / 2000 [  0%]  (Warmup)\n",
            "Chain 4: Iteration:  200 / 2000 [ 10%]  (Warmup)\n",
            "Chain 4: Iteration:  400 / 2000 [ 20%]  (Warmup)\n",
            "Chain 4: Iteration:  600 / 2000 [ 30%]  (Warmup)\n",
            "Chain 4: Iteration:  800 / 2000 [ 40%]  (Warmup)\n",
            "Chain 4: Iteration: 1000 / 2000 [ 50%]  (Warmup)\n",
            "Chain 4: Iteration: 1001 / 2000 [ 50%]  (Sampling)\n",
            "Chain 4: Iteration: 1200 / 2000 [ 60%]  (Sampling)\n",
            "Chain 4: Iteration: 1400 / 2000 [ 70%]  (Sampling)\n",
            "Chain 4: Iteration: 1600 / 2000 [ 80%]  (Sampling)\n",
            "Chain 4: Iteration: 1800 / 2000 [ 90%]  (Sampling)\n",
            "Chain 4: Iteration: 2000 / 2000 [100%]  (Sampling)\n",
            "Chain 4: \n",
            "Chain 4:  Elapsed Time: 24.5469 seconds (Warm-up)\n",
            "Chain 4:                25.2233 seconds (Sampling)\n",
            "Chain 4:                49.7702 seconds (Total)\n",
            "Chain 4: \n",
            "\n",
            "Model Info:\n",
            " function:     stan_glm\n",
            " family:       poisson [log]\n",
            " formula:      FALHA ~ Dia + Temp..Estator.Fase.U + Temp..Estator.Fase.V + Temp..Estator.Fase.WA + \n",
            "\t   Temp..Estator.Fase.WB + Vibração.Bomba.LA + Vazão.Bomba + \n",
            "\t   Corrente + Pressão.Desc. + Pressão.Suc + Temp..externo.mancal.escora.LNA + \n",
            "\t   Temp..interno.mancal.escora.LNA + Pressão.Selo.LA + Pressão.Selo.LNA + \n",
            "\t   Temp..mancal.LA.bomba + Temp..mancal.LA.motor + Temp..mancal.LNA.bomba + \n",
            "\t   Temp..mancal.LNA.motor + Temp..Oleo.ULF\n",
            " algorithm:    sampling\n",
            " sample:       4000 (posterior sample size)\n",
            " priors:       see help('prior_summary')\n",
            " observations: 363\n",
            " predictors:   20\n",
            "\n",
            "Estimates:\n",
            "                                  mean   sd    10%   50%   90%\n",
            "(Intercept)                     -16.1    4.7 -22.4 -16.1 -10.3\n",
            "Dia                               0.0    0.0   0.0   0.0   0.0\n",
            "Temp..Estator.Fase.U             -0.2    0.1  -0.3  -0.2  -0.1\n",
            "Temp..Estator.Fase.V              0.0    0.1  -0.1   0.0   0.1\n",
            "Temp..Estator.Fase.WA            -0.1    0.0  -0.1  -0.1   0.0\n",
            "Temp..Estator.Fase.WB            -0.1    0.1  -0.2  -0.1   0.1\n",
            "Vibração.Bomba.LA                 1.6    4.5  -4.2   1.6   7.3\n",
            "Vazão.Bomba                       0.0    0.0   0.0   0.0   0.0\n",
            "Corrente                          0.0    0.0   0.0   0.0   0.0\n",
            "Pressão.Desc.                     0.0    0.1  -0.1   0.0   0.1\n",
            "Pressão.Suc                      -0.7    1.4  -2.4  -0.6   1.2\n",
            "Temp..externo.mancal.escora.LNA  -0.1    0.2  -0.3  -0.1   0.2\n",
            "Temp..interno.mancal.escora.LNA  -0.1    0.2  -0.4  -0.1   0.2\n",
            "Pressão.Selo.LA                  -0.6    1.4  -2.5  -0.6   1.2\n",
            "Pressão.Selo.LNA                 -0.7    1.4  -2.5  -0.7   1.0\n",
            "Temp..mancal.LA.bomba             0.3    0.3   0.0   0.3   0.7\n",
            "Temp..mancal.LA.motor             0.1    0.2  -0.2   0.1   0.4\n",
            "Temp..mancal.LNA.bomba            0.2    0.2   0.0   0.2   0.4\n",
            "Temp..mancal.LNA.motor            0.5    0.3   0.2   0.5   0.9\n",
            "Temp..Oleo.ULF                   -0.1    0.3  -0.4  -0.1   0.3\n",
            "\n",
            "Fit Diagnostics:\n",
            "           mean   sd   10%   50%   90%\n",
            "mean_PPD 0.0    0.0  0.0   0.0   0.0  \n",
            "\n",
            "The mean_ppd is the sample average posterior predictive distribution of the outcome variable (for details see help('summary.stanreg')).\n",
            "\n",
            "MCMC diagnostics\n",
            "                                mcse Rhat n_eff\n",
            "(Intercept)                     0.1  1.0  3525 \n",
            "Dia                             0.0  1.0  3176 \n",
            "Temp..Estator.Fase.U            0.0  1.0  3982 \n",
            "Temp..Estator.Fase.V            0.0  1.0  3678 \n",
            "Temp..Estator.Fase.WA           0.0  1.0  4863 \n",
            "Temp..Estator.Fase.WB           0.0  1.0  3308 \n",
            "Vibração.Bomba.LA               0.1  1.0  4220 \n",
            "Vazão.Bomba                     0.0  1.0  4160 \n",
            "Corrente                        0.0  1.0  4633 \n",
            "Pressão.Desc.                   0.0  1.0  4266 \n",
            "Pressão.Suc                     0.0  1.0  3652 \n",
            "Temp..externo.mancal.escora.LNA 0.0  1.0  4762 \n",
            "Temp..interno.mancal.escora.LNA 0.0  1.0  3760 \n",
            "Pressão.Selo.LA                 0.0  1.0  3477 \n",
            "Pressão.Selo.LNA                0.0  1.0  3659 \n",
            "Temp..mancal.LA.bomba           0.0  1.0  4363 \n",
            "Temp..mancal.LA.motor           0.0  1.0  3728 \n",
            "Temp..mancal.LNA.bomba          0.0  1.0  4636 \n",
            "Temp..mancal.LNA.motor          0.0  1.0  3902 \n",
            "Temp..Oleo.ULF                  0.0  1.0  4093 \n",
            "mean_PPD                        0.0  1.0  4034 \n",
            "log-posterior                   0.1  1.0  1877 \n",
            "\n",
            "For each parameter, mcse is Monte Carlo standard error, n_eff is a crude measure of effective sample size, and Rhat is the potential scale reduction factor on split chains (at convergence Rhat=1).\n"
          ]
        }
      ]
    },
    {
      "cell_type": "code",
      "source": [
        "%%R\n",
        "pp_check(stan_glm1)"
      ],
      "metadata": {
        "colab": {
          "base_uri": "https://localhost:8080/",
          "height": 497
        },
        "id": "vtrBQmH7chKf",
        "outputId": "44716f68-7cca-4b32-f668-ca89e5fdecb0"
      },
      "execution_count": 151,
      "outputs": [
        {
          "output_type": "display_data",
          "data": {
            "image/png": "[encoded data removed]"
          },
          "metadata": {}
        }
      ]
    }
  ]
}