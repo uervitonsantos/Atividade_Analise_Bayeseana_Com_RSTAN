{
  "nbformat": 4,
  "nbformat_minor": 0,
  "metadata": {
    "colab": {
      "provenance": [],
      "toc_visible": true,
      "mount_file_id": "1fXuRd_i4nMSCTLZjrZgZx1ZxCIe8miU1",
      "authorship_tag": "ABX9TyNXbd+2bwepSC6NUd0muYyp",
      "include_colab_link": true
    },
    "kernelspec": {
      "name": "python3",
      "display_name": "Python 3"
    },
    "language_info": {
      "name": "python"
    }
  },
  "cells": [
    {
      "cell_type": "markdown",
      "metadata": {
        "id": "view-in-github",
        "colab_type": "text"
      },
      "source": [
        "<a href=\"https://colab.research.google.com/github/uervitonsantos/Atividade_Analise_Bayseana_Com_RSTAN/blob/main/Atividade_Analise_Bayseana_Com_RSTAN.ipynb\" target=\"_parent\"><img src=\"https://colab.research.google.com/assets/colab-badge.svg\" alt=\"Open In Colab\"/></a>"
      ]
    },
    {
      "cell_type": "markdown",
      "source": [
        "#Atividade de analise inferencial Bayseana com RStan aplicado em um conjundo de dados de confiabilidade de motores\n",
        "\n",
        "Tutorial de referencia: https://ourcodingclub.github.io/tutorials/stan-intro/\n",
        "\n",
        "Bayesian Model with RStan: https://www.kaggle.com/code/dhafer/bayesian-model-with-rstan\n",
        "\n",
        "\n",
        "Fonte dos dados: https://www.kaggle.com/datasets/eduardopoleze/parmetros-operacionais-bombamotor-eltrico\n",
        "\n",
        "Estatística Bayesiana com R e Stan. prof. José Eduardo Storopoli: https://www.youtube.com/watch?v=m_kJwaL2KHQ&list=PLpTXaEnTpmwNwBwwwLTDmCLekoUPtc0cP&index=10\n",
        "\n",
        "Aula Inferência Bayesiana com prof. Gustavo Ferreira: https://www.youtube.com/watch?v=YKZ1euMRsbs&list=PL5nbzsxqG2FPrVmqbLafXqOrE3djThquN\n",
        "\n"
      ],
      "metadata": {
        "id": "RiMTbF6rdYI5"
      }
    },
    {
      "cell_type": "code",
      "source": [
        "%load_ext rpy2.ipython"
      ],
      "metadata": {
        "id": "9EbeZj5aC0-R"
      },
      "execution_count": 1,
      "outputs": []
    },
    {
      "cell_type": "code",
      "source": [
        "# run the next line if you already have rstan installed\n",
        "# remove.packages(c(\"StanHeaders\", \"rstan\"))\n",
        "%%R\n",
        "install.packages(\"rstan\", repos = c(\"https://mc-stan.org/r-packages/\", getOption(\"repos\")))"
      ],
      "metadata": {
        "id": "oLY3ueR7LE1d"
      },
      "execution_count": null,
      "outputs": []
    },
    {
      "cell_type": "code",
      "source": [
        "%%R\n",
        "library(\"rstan\") # observe startup messages\n",
        "library(\"bayesplot\")\n",
        "#library(\"rstanarm\")\n",
        "library(\"ggplot2\")\n",
        "library(\"dplyr\")"
      ],
      "metadata": {
        "id": "jp_z4QnEN84H"
      },
      "execution_count": null,
      "outputs": []
    },
    {
      "cell_type": "code",
      "source": [
        "%%R\n",
        "df <- read.csv(\"/content/drive/MyDrive/Colab Notebooks/DateSet/Dataset_Motor_Bomba_teste.txt\", header = TRUE, sep = \";\", dec = \",\")\n",
        "head(df)"
      ],
      "metadata": {
        "colab": {
          "base_uri": "https://localhost:8080/"
        },
        "id": "xkuMbnDvgFaV",
        "outputId": "50a43979-f091-4598-9458-c30af2b0126c"
      },
      "execution_count": 4,
      "outputs": [
        {
          "output_type": "stream",
          "name": "stdout",
          "text": [
            "      Data.e.Hora Temp..Estator.Fase.U Temp..Estator.Fase.V\n",
            "1 02/01/2016 0:00             38.13657             39.87268\n",
            "2 02/01/2016 0:02             38.13657             39.87268\n",
            "3 02/01/2016 0:04             38.13657             39.87268\n",
            "4 02/01/2016 0:06             38.02083             39.75694\n",
            "5 02/01/2016 0:08             38.02083             39.75694\n",
            "6 02/01/2016 0:10             37.96296             39.69907\n",
            "  Temp..Estator.Fase.WA Temp..Estator.Fase.WB Vibração.Bomba.LA Vazão.Bomba\n",
            "1              36.57407              38.77315        0.00000000           0\n",
            "2              36.57407              38.77315        0.00000000           0\n",
            "3              36.57407              38.77315        0.03674769           0\n",
            "4              36.51620              38.71528        0.00000000           0\n",
            "5              36.51620              38.71528        0.00000000           0\n",
            "6              36.51620              38.59954        0.00000000           0\n",
            "  Corrente Pressão.Desc. Pressão.Suc Posição.FCV\n",
            "1        0     0.2025463           0           0\n",
            "2        0     0.2025463           0           0\n",
            "3        0     0.2025463           0           0\n",
            "4        0     0.2025463           0           0\n",
            "5        0     0.2025463           0           0\n",
            "6        0     0.2025463           0           0\n",
            "  Temp..externo.mancal.escora.LNA Temp..interno.mancal.escora.LNA\n",
            "1                        20.70313                        21.00694\n",
            "2                        20.70313                        21.00694\n",
            "3                        20.70313                        21.00694\n",
            "4                        20.70313                        21.00694\n",
            "5                        20.70313                        20.92014\n",
            "6                        20.70313                        20.92014\n",
            "  Pressão.Selo.LA Pressão.Selo.LNA Temp..mancal.LA.bomba Temp..mancal.LA.motor\n",
            "1               0                0              23.09028              29.38368\n",
            "2               0                0              23.09028              29.38368\n",
            "3               0                0              23.09028              29.34028\n",
            "4               0                0              23.09028              29.34028\n",
            "5               0                0              23.09028              29.34028\n",
            "6               0                0              23.09028              29.34028\n",
            "  Temp..mancal.LNA.bomba Temp..mancal.LNA.motor Temp..Oleo.ULF\n",
            "1               17.01389               25.17361       21.35417\n",
            "2               17.01389               25.17361       21.35417\n",
            "3               17.01389               25.17361       21.35417\n",
            "4               16.97049               25.17361       21.35417\n",
            "5               16.97049               25.17361       21.35417\n",
            "6               16.97049               25.13021       21.35417\n"
          ]
        }
      ]
    },
    {
      "cell_type": "code",
      "source": [
        "%%R\n",
        "names(df)"
      ],
      "metadata": {
        "colab": {
          "base_uri": "https://localhost:8080/"
        },
        "id": "M3iLwNxSR-Tx",
        "outputId": "ecf473ca-5bd8-40f6-b6e1-59e6db65496c"
      },
      "execution_count": 5,
      "outputs": [
        {
          "output_type": "stream",
          "name": "stdout",
          "text": [
            " [1] \"Data.e.Hora\"                     \"Temp..Estator.Fase.U\"           \n",
            " [3] \"Temp..Estator.Fase.V\"            \"Temp..Estator.Fase.WA\"          \n",
            " [5] \"Temp..Estator.Fase.WB\"           \"Vibração.Bomba.LA\"              \n",
            " [7] \"Vazão.Bomba\"                     \"Corrente\"                       \n",
            " [9] \"Pressão.Desc.\"                   \"Pressão.Suc\"                    \n",
            "[11] \"Posição.FCV\"                     \"Temp..externo.mancal.escora.LNA\"\n",
            "[13] \"Temp..interno.mancal.escora.LNA\" \"Pressão.Selo.LA\"                \n",
            "[15] \"Pressão.Selo.LNA\"                \"Temp..mancal.LA.bomba\"          \n",
            "[17] \"Temp..mancal.LA.motor\"           \"Temp..mancal.LNA.bomba\"         \n",
            "[19] \"Temp..mancal.LNA.motor\"          \"Temp..Oleo.ULF\"                 \n"
          ]
        }
      ]
    },
    {
      "cell_type": "code",
      "source": [
        "%%R\n",
        "plot(Pressão.Suc ~ Pressão.Selo.LNA, pch = 2, data = df)"
      ],
      "metadata": {
        "colab": {
          "base_uri": "https://localhost:8080/",
          "height": 497
        },
        "id": "HMQXbTIw0ZWA",
        "outputId": "ff5a86fb-2a83-437d-c72e-317efa49331f"
      },
      "execution_count": 11,
      "outputs": [
        {
          "output_type": "display_data",
          "data": {
            "image/png": "[encoded data removed]"
          },
          "metadata": {}
        }
      ]
    },
    {
      "cell_type": "code",
      "source": [
        "%%R\n",
        "lm1 <- lm(Data.e.Hora ~ Pressão.Desc., data = df)\n",
        "summary(lm1)"
      ],
      "metadata": {
        "id": "NPuPRDiKaTQo"
      },
      "execution_count": null,
      "outputs": []
    },
    {
      "cell_type": "code",
      "source": [
        "%%R\n",
        "abline(lm1, col = 2, lty = 2, lw = 3)"
      ],
      "metadata": {
        "id": "idnMWyPOaxil"
      },
      "execution_count": null,
      "outputs": []
    }
  ]
}