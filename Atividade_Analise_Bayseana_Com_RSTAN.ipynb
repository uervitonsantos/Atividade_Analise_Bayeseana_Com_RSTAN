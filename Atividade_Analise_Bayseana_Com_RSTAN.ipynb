{
  "nbformat": 4,
  "nbformat_minor": 0,
  "metadata": {
    "colab": {
      "provenance": [],
      "mount_file_id": "https://github.com/uervitonsantos/Atividade_Analise_Bayseana_Com_RSTAN/blob/main/Atividade_Analise_Bayseana_Com_RSTAN.ipynb",
      "authorship_tag": "ABX9TyNykfRR0N7Rn4YTdDRCxqS6",
      "include_colab_link": true
    },
    "kernelspec": {
      "name": "python3",
      "display_name": "Python 3"
    },
    "language_info": {
      "name": "python"
    }
  },
  "cells": [
    {
      "cell_type": "markdown",
      "metadata": {
        "id": "view-in-github",
        "colab_type": "text"
      },
      "source": [
        "<a href=\"https://colab.research.google.com/github/uervitonsantos/Atividade_Analise_Bayeseana_Com_RSTAN/blob/main/Atividade_Analise_Bayseana_Com_RSTAN.ipynb\" target=\"_parent\"><img src=\"https://colab.research.google.com/assets/colab-badge.svg\" alt=\"Open In Colab\"/></a>"
      ]
    },
    {
      "cell_type": "markdown",
      "source": [
        "#Atividade de analise inferencial Bayseana com RStan aplicado em um conjundo de dados de confiabilidade de motores\n",
        "\n",
        "Tutorial de referencia: https://ourcodingclub.github.io/tutorials/stan-intro/\n",
        "\n",
        "Bayesian Model with RStan: https://www.kaggle.com/code/dhafer/bayesian-model-with-rstan\n",
        "\n",
        "\n",
        "Fonte dos dados: https://www.kaggle.com/datasets/eduardopoleze/parmetros-operacionais-bombamotor-eltrico\n",
        "\n",
        "Estatística Bayesiana com R e Stan. prof. José Eduardo Storopoli: https://www.youtube.com/watch?v=m_kJwaL2KHQ&list=PLpTXaEnTpmwNwBwwwLTDmCLekoUPtc0cP&index=10\n",
        "\n",
        "Aula Inferência Bayesiana com prof. Gustavo Ferreira: https://www.youtube.com/watch?v=YKZ1euMRsbs&list=PL5nbzsxqG2FPrVmqbLafXqOrE3djThquN\n",
        "\n"
      ],
      "metadata": {
        "id": "RiMTbF6rdYI5"
      }
    },
    {
      "cell_type": "code",
      "source": [
        "%load_ext rpy2.ipython"
      ],
      "metadata": {
        "id": "9EbeZj5aC0-R"
      },
      "execution_count": 1,
      "outputs": []
    },
    {
      "cell_type": "code",
      "source": [
        "# Change 2 to however many cores you can/want to use to parallelize install\n",
        "# If you experience crashes or run out RAM during installation, try changing this to 1\n",
        "%%R\n",
        "Sys.setenv(MAKEFLAGS = \"-j2\")\n",
        "Sys.setenv(\"R_REMOTES_NO_ERRORS_FROM_WARNINGS\" = \"true\")\n",
        "remotes::install_github(\"stan-dev/rstanarm\", INSTALL_opts = \"--no-multiarch\", force = TRUE)"
      ],
      "metadata": {
        "id": "oLY3ueR7LE1d"
      },
      "execution_count": null,
      "outputs": []
    },
    {
      "cell_type": "code",
      "source": [
        "%%R\n",
        "install.packages(\"gdata\")"
      ],
      "metadata": {
        "id": "NqETbKMZFUl3"
      },
      "execution_count": null,
      "outputs": []
    },
    {
      "cell_type": "code",
      "source": [
        "%%R\n",
        "library(rstan) # observe startup messages\n",
        "library(bayesplot)\n",
        "library(ggplot2)\n",
        "library(dplyr)\n",
        "library(magrittr)\n",
        "library(gdata)"
      ],
      "metadata": {
        "id": "jp_z4QnEN84H"
      },
      "execution_count": 58,
      "outputs": []
    },
    {
      "cell_type": "code",
      "source": [
        "%%R\n",
        "df <- read.csv(\"/content/drive/MyDrive/Colab Notebooks/DateSet/Motor_Bomba_1.csv\", header = TRUE, sep = \";\", dec = \",\")\n",
        "head(df)"
      ],
      "metadata": {
        "id": "xkuMbnDvgFaV"
      },
      "execution_count": null,
      "outputs": []
    },
    {
      "cell_type": "code",
      "source": [
        "%%R\n",
        "names(df)"
      ],
      "metadata": {
        "colab": {
          "base_uri": "https://localhost:8080/"
        },
        "id": "M3iLwNxSR-Tx",
        "outputId": "f0abf620-de6e-42fc-b4a4-27f26cfd9e46"
      },
      "execution_count": 61,
      "outputs": [
        {
          "output_type": "stream",
          "name": "stdout",
          "text": [
            " [1] \"Ano\"                             \"Dia\"                            \n",
            " [3] \"Temp..Estator.Fase.U\"            \"Temp..Estator.Fase.V\"           \n",
            " [5] \"Temp..Estator.Fase.WA\"           \"Temp..Estator.Fase.WB\"          \n",
            " [7] \"Vibração.Bomba.LA\"               \"Vazão.Bomba\"                    \n",
            " [9] \"Corrente\"                        \"Pressão.Desc.\"                  \n",
            "[11] \"Pressão.Suc\"                     \"Posição.FCV\"                    \n",
            "[13] \"Temp..externo.mancal.escora.LNA\" \"Temp..interno.mancal.escora.LNA\"\n",
            "[15] \"Pressão.Selo.LA\"                 \"Pressão.Selo.LNA\"               \n",
            "[17] \"Temp..mancal.LA.bomba\"           \"Temp..mancal.LA.motor\"          \n",
            "[19] \"Temp..mancal.LNA.bomba\"          \"Temp..mancal.LNA.motor\"         \n",
            "[21] \"Temp..Oleo.ULF\"                 \n"
          ]
        }
      ]
    },
    {
      "cell_type": "code",
      "source": [
        "%%R\n",
        "str(df)"
      ],
      "metadata": {
        "colab": {
          "base_uri": "https://localhost:8080/"
        },
        "id": "z281WLqXoy0c",
        "outputId": "050004d6-5c45-4ce3-d508-55be13036654"
      },
      "execution_count": 60,
      "outputs": [
        {
          "output_type": "stream",
          "name": "stdout",
          "text": [
            "'data.frame':\t365 obs. of  21 variables:\n",
            " $ Ano                            : int  2016 2016 2016 2016 2016 2016 2016 2016 2016 2016 ...\n",
            " $ Dia                            : int  1 2 3 4 5 6 7 8 9 10 ...\n",
            " $ Temp..Estator.Fase.U           : num  38.1 38.1 38.1 38 38 ...\n",
            " $ Temp..Estator.Fase.V           : num  39.9 39.9 39.9 39.8 39.8 ...\n",
            " $ Temp..Estator.Fase.WA          : num  36.6 36.6 36.6 36.5 36.5 ...\n",
            " $ Temp..Estator.Fase.WB          : num  38.8 38.8 38.8 38.7 38.7 ...\n",
            " $ Vibração.Bomba.LA              : num  0 0 0.0367 0 0 ...\n",
            " $ Vazão.Bomba                    : num  0 0 0 0 0 0 0 0 0 0 ...\n",
            " $ Corrente                       : num  0 0 0 0 0 0 0 0 0 0 ...\n",
            " $ Pressão.Desc.                  : num  0.203 0.203 0.203 0.203 0.203 ...\n",
            " $ Pressão.Suc                    : num  0 0 0 0 0 0 0 0 0 0 ...\n",
            " $ Posição.FCV                    : int  0 0 0 0 0 0 0 0 0 0 ...\n",
            " $ Temp..externo.mancal.escora.LNA: num  20.7 20.7 20.7 20.7 20.7 ...\n",
            " $ Temp..interno.mancal.escora.LNA: num  21 21 21 21 20.9 ...\n",
            " $ Pressão.Selo.LA                : num  0 0 0 0 0 0 0 0 0 0 ...\n",
            " $ Pressão.Selo.LNA               : num  0 0 0 0 0 0 0 0 0 0 ...\n",
            " $ Temp..mancal.LA.bomba          : num  23.1 23.1 23.1 23.1 23.1 ...\n",
            " $ Temp..mancal.LA.motor          : num  29.4 29.4 29.3 29.3 29.3 ...\n",
            " $ Temp..mancal.LNA.bomba         : num  17 17 17 17 17 ...\n",
            " $ Temp..mancal.LNA.motor         : num  25.2 25.2 25.2 25.2 25.2 ...\n",
            " $ Temp..Oleo.ULF                 : num  21.4 21.4 21.4 21.4 21.4 ...\n"
          ]
        }
      ]
    },
    {
      "cell_type": "code",
      "source": [
        "%%R\n",
        "lm1 <- lm(Temp..mancal.LA.motor ~ Dia, data = df)\n",
        "summary(lm1)"
      ],
      "metadata": {
        "colab": {
          "base_uri": "https://localhost:8080/"
        },
        "id": "L81SVJkPDiH6",
        "outputId": "96c3d150-6721-4571-ec5d-1545dedd1e4a"
      },
      "execution_count": 62,
      "outputs": [
        {
          "output_type": "stream",
          "name": "stdout",
          "text": [
            "\n",
            "Call:\n",
            "lm(formula = Temp..mancal.LA.motor ~ Dia, data = df)\n",
            "\n",
            "Residuals:\n",
            "    Min      1Q  Median      3Q     Max \n",
            "-8.6134 -3.1472  0.3514  3.8893  5.5081 \n",
            "\n",
            "Coefficients:\n",
            "             Estimate Std. Error t value Pr(>|t|)    \n",
            "(Intercept) 24.124734   0.434141   55.57   <2e-16 ***\n",
            "Dia          0.062544   0.002056   30.42   <2e-16 ***\n",
            "---\n",
            "Signif. codes:  0 ‘***’ 0.001 ‘**’ 0.01 ‘*’ 0.05 ‘.’ 0.1 ‘ ’ 1\n",
            "\n",
            "Residual standard error: 4.139 on 363 degrees of freedom\n",
            "Multiple R-squared:  0.7183,\tAdjusted R-squared:  0.7175 \n",
            "F-statistic: 925.5 on 1 and 363 DF,  p-value: < 2.2e-16\n",
            "\n"
          ]
        }
      ]
    },
    {
      "cell_type": "code",
      "source": [
        "%%R\n",
        "plot(Temp..mancal.LA.motor ~ Dia, pch = 20, data = df)\n",
        "abline(lm1, col = 2, lty = 2, lw = 3)"
      ],
      "metadata": {
        "colab": {
          "base_uri": "https://localhost:8080/",
          "height": 497
        },
        "id": "afatQKWV-_7A",
        "outputId": "209dc9e0-40bc-4a17-8c77-e46e2923c9f5"
      },
      "execution_count": 63,
      "outputs": [
        {
          "output_type": "display_data",
          "data": {
            "image/png": "[encoded data removed]"
          },
          "metadata": {}
        }
      ]
    },
    {
      "cell_type": "code",
      "source": [
        "%%R\n",
        "x <- I(df$Dia - 01)\n",
        "y <- df$Temp..mancal.LA.motor\n",
        "N <- length(df$Dia)"
      ],
      "metadata": {
        "id": "Cx_ZNE0jD6FY"
      },
      "execution_count": 64,
      "outputs": []
    },
    {
      "cell_type": "code",
      "source": [
        "%%R\n",
        "lm1 <- lm(y ~ x)\n",
        "summary(lm1)"
      ],
      "metadata": {
        "colab": {
          "base_uri": "https://localhost:8080/"
        },
        "id": "PJMVpOtVEHq0",
        "outputId": "a2bc002b-dda9-4b6d-fcc4-961385d0fe32"
      },
      "execution_count": 65,
      "outputs": [
        {
          "output_type": "stream",
          "name": "stdout",
          "text": [
            "\n",
            "Call:\n",
            "lm(formula = y ~ x)\n",
            "\n",
            "Residuals:\n",
            "    Min      1Q  Median      3Q     Max \n",
            "-8.6134 -3.1472  0.3514  3.8893  5.5081 \n",
            "\n",
            "Coefficients:\n",
            "             Estimate Std. Error t value Pr(>|t|)    \n",
            "(Intercept) 24.187279   0.432361   55.94   <2e-16 ***\n",
            "x            0.062544   0.002056   30.42   <2e-16 ***\n",
            "---\n",
            "Signif. codes:  0 ‘***’ 0.001 ‘**’ 0.01 ‘*’ 0.05 ‘.’ 0.1 ‘ ’ 1\n",
            "\n",
            "Residual standard error: 4.139 on 363 degrees of freedom\n",
            "Multiple R-squared:  0.7183,\tAdjusted R-squared:  0.7175 \n",
            "F-statistic: 925.5 on 1 and 363 DF,  p-value: < 2.2e-16\n",
            "\n"
          ]
        }
      ]
    },
    {
      "cell_type": "code",
      "source": [
        "%%R\n",
        "lm_alpha <- summary(lm1)$coeff[1]  # the intercept\n",
        "lm_beta <- summary(lm1)$coeff[2]  # the slope\n",
        "lm_sigma <- sigma(lm1)  # the residual error"
      ],
      "metadata": {
        "id": "avwvJPRPEc7N"
      },
      "execution_count": 66,
      "outputs": []
    },
    {
      "cell_type": "code",
      "source": [
        "%%R\n",
        "stan_data <- list(N = N, x = x, y = y)"
      ],
      "metadata": {
        "id": "52Gxwip9EjaG"
      },
      "execution_count": 67,
      "outputs": []
    },
    {
      "cell_type": "code",
      "source": [
        "%%R\n",
        "write(\"// Stan model for simple linear regression\n",
        "\n",
        "data {\n",
        " int < lower = 1 > N; // Sample size\n",
        " vector[N] x; // Predictor\n",
        " vector[N] y; // Outcome\n",
        "}\n",
        "\n",
        "parameters {\n",
        " real alpha; // Intercept\n",
        " real beta; // Slope (regression coefficients)\n",
        " real < lower = 0 > sigma; // Error SD\n",
        "}\n",
        "\n",
        "model {\n",
        " y ~ normal(alpha + x * beta , sigma);\n",
        "}\n",
        "\n",
        "generated quantities {\n",
        "} // The posterior predictive distribution\",\n",
        "\n",
        "\"stan_model1.stan\")"
      ],
      "metadata": {
        "id": "VWDywI3jF7VT"
      },
      "execution_count": 70,
      "outputs": []
    },
    {
      "cell_type": "code",
      "source": [
        "%%R\n",
        "stanc(\"stan_model1.stan\")"
      ],
      "metadata": {
        "id": "uFA2KNTrGBIW"
      },
      "execution_count": null,
      "outputs": []
    },
    {
      "cell_type": "code",
      "source": [
        "%%R\n",
        "stan_model1 <- \"stan_model1.stan\""
      ],
      "metadata": {
        "id": "vE7-ubH2GEMS"
      },
      "execution_count": 72,
      "outputs": []
    },
    {
      "cell_type": "code",
      "source": [
        "%%R\n",
        "fit <- stan(file = stan_model1, data = stan_data, warmup = 500, iter = 1000, chains = 4, cores = 2, thin = 1)"
      ],
      "metadata": {
        "id": "LnSmjUIgGhlw"
      },
      "execution_count": 73,
      "outputs": []
    },
    {
      "cell_type": "code",
      "source": [
        "%%R\n",
        "fit"
      ],
      "metadata": {
        "colab": {
          "base_uri": "https://localhost:8080/"
        },
        "id": "Q3AHR6ueGmDR",
        "outputId": "ac40bd63-73da-4025-8df1-4c2ed37063ac"
      },
      "execution_count": 76,
      "outputs": [
        {
          "output_type": "stream",
          "name": "stdout",
          "text": [
            "Inference for Stan model: anon_model.\n",
            "4 chains, each with iter=1000; warmup=500; thin=1; \n",
            "post-warmup draws per chain=500, total post-warmup draws=2000.\n",
            "\n",
            "         mean se_mean   sd    2.5%     25%     50%     75%   97.5% n_eff Rhat\n",
            "alpha   24.18    0.01 0.44   23.34   23.89   24.18   24.47   25.06   873 1.01\n",
            "beta     0.06    0.00 0.00    0.06    0.06    0.06    0.06    0.07  1049 1.00\n",
            "sigma    4.16    0.01 0.15    3.88    4.05    4.16    4.26    4.48   756 1.01\n",
            "lp__  -700.02    0.05 1.22 -703.12 -700.57 -699.71 -699.14 -698.63   494 1.00\n",
            "\n",
            "Samples were drawn using NUTS(diag_e) at Sun Oct 30 04:17:30 2022.\n",
            "For each parameter, n_eff is a crude measure of effective sample size,\n",
            "and Rhat is the potential scale reduction factor on split chains (at \n",
            "convergence, Rhat=1).\n"
          ]
        }
      ]
    },
    {
      "cell_type": "code",
      "source": [
        "%%R\n",
        "posterior <- extract(fit)\n",
        "str(posterior)"
      ],
      "metadata": {
        "id": "hnHi2HdqPZiN"
      },
      "execution_count": null,
      "outputs": []
    },
    {
      "cell_type": "code",
      "source": [
        "%%R\n",
        "glm1 <- glm(formula = Ano ~ Dia + Temp..Estator.Fase.U + Temp..Estator.Fase.WA + offset(log(Temp..Oleo.ULF)),\n",
        "            family = poisson(link = \"log\"),\n",
        "            data = df)\n",
        "summary(glm1)"
      ],
      "metadata": {
        "id": "sR_ksaCwgjSP"
      },
      "execution_count": null,
      "outputs": []
    }
  ]
}