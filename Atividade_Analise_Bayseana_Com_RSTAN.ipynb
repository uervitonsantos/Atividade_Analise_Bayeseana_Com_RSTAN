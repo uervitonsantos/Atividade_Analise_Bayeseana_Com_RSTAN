{
  "nbformat": 4,
  "nbformat_minor": 0,
  "metadata": {
    "colab": {
      "provenance": [],
      "mount_file_id": "https://github.com/uervitonsantos/Atividade_Analise_Bayseana_Com_RSTAN/blob/main/Atividade_Analise_Bayseana_Com_RSTAN.ipynb",
      "authorship_tag": "ABX9TyPKMPQkLXTizTeFYVlSS9fV",
      "include_colab_link": true
    },
    "kernelspec": {
      "name": "python3",
      "display_name": "Python 3"
    },
    "language_info": {
      "name": "python"
    }
  },
  "cells": [
    {
      "cell_type": "markdown",
      "metadata": {
        "id": "view-in-github",
        "colab_type": "text"
      },
      "source": [
        "<a href=\"https://colab.research.google.com/github/uervitonsantos/Atividade_Analise_Bayeseana_Com_RSTAN/blob/main/Atividade_Analise_Bayseana_Com_RSTAN.ipynb\" target=\"_parent\"><img src=\"https://colab.research.google.com/assets/colab-badge.svg\" alt=\"Open In Colab\"/></a>"
      ]
    },
    {
      "cell_type": "markdown",
      "source": [
        "#Atividade de analise inferencial Bayseana com RStan aplicado em um conjundo de dados de confiabilidade de motores\n",
        "\n",
        "Tutorial de referencia: https://ourcodingclub.github.io/tutorials/stan-intro/\n",
        "\n",
        "Bayesian Model with RStan: https://www.kaggle.com/code/dhafer/bayesian-model-with-rstan\n",
        "\n",
        "\n",
        "Fonte dos dados: https://www.kaggle.com/datasets/eduardopoleze/parmetros-operacionais-bombamotor-eltrico\n",
        "\n",
        "Estatística Bayesiana com R e Stan. prof. José Eduardo Storopoli: https://www.youtube.com/watch?v=m_kJwaL2KHQ&list=PLpTXaEnTpmwNwBwwwLTDmCLekoUPtc0cP&index=10\n",
        "\n",
        "Aula Inferência Bayesiana com prof. Gustavo Ferreira: https://www.youtube.com/watch?v=YKZ1euMRsbs&list=PL5nbzsxqG2FPrVmqbLafXqOrE3djThquN\n",
        "\n"
      ],
      "metadata": {
        "id": "RiMTbF6rdYI5"
      }
    },
    {
      "cell_type": "code",
      "source": [
        "%load_ext rpy2.ipython"
      ],
      "metadata": {
        "id": "9EbeZj5aC0-R"
      },
      "execution_count": 1,
      "outputs": []
    },
    {
      "cell_type": "code",
      "source": [
        "# Change 2 to however many cores you can/want to use to parallelize install\n",
        "# If you experience crashes or run out RAM during installation, try changing this to 1\n",
        "%%R\n",
        "Sys.setenv(MAKEFLAGS = \"-j2\")\n",
        "Sys.setenv(\"R_REMOTES_NO_ERRORS_FROM_WARNINGS\" = \"true\")\n",
        "remotes::install_github(\"stan-dev/rstanarm\", INSTALL_opts = \"--no-multiarch\", force = TRUE)"
      ],
      "metadata": {
        "id": "oLY3ueR7LE1d"
      },
      "execution_count": null,
      "outputs": []
    },
    {
      "cell_type": "code",
      "source": [
        "%%R\n",
        "install.packages(\"gdata\")"
      ],
      "metadata": {
        "id": "NqETbKMZFUl3"
      },
      "execution_count": null,
      "outputs": []
    },
    {
      "cell_type": "code",
      "source": [
        "%%R\n",
        "library(rstan) # observe startup messages\n",
        "library(bayesplot)\n",
        "library(ggplot2)\n",
        "library(dplyr)\n",
        "library(magrittr)\n",
        "library(gdata)"
      ],
      "metadata": {
        "id": "jp_z4QnEN84H"
      },
      "execution_count": 58,
      "outputs": []
    },
    {
      "cell_type": "code",
      "source": [
        "%%R\n",
        "df <- read.csv(\"/content/drive/MyDrive/Colab Notebooks/DateSet/Motor_Bomba_1.csv\", header = TRUE, sep = \";\", dec = \",\")\n",
        "head(df)"
      ],
      "metadata": {
        "colab": {
          "base_uri": "https://localhost:8080/"
        },
        "id": "xkuMbnDvgFaV",
        "outputId": "a6974696-9168-424c-eb69-214264927c8d"
      },
      "execution_count": 59,
      "outputs": [
        {
          "output_type": "stream",
          "name": "stdout",
          "text": [
            "   Ano Dia Temp..Estator.Fase.U Temp..Estator.Fase.V Temp..Estator.Fase.WA\n",
            "1 2016   1             38.13657             39.87268              36.57407\n",
            "2 2016   2             38.13657             39.87268              36.57407\n",
            "3 2016   3             38.13657             39.87268              36.57407\n",
            "4 2016   4             38.02083             39.75694              36.51620\n",
            "5 2016   5             38.02083             39.75694              36.51620\n",
            "6 2016   6             37.96296             39.69907              36.51620\n",
            "  Temp..Estator.Fase.WB Vibração.Bomba.LA Vazão.Bomba Corrente Pressão.Desc.\n",
            "1              38.77315        0.00000000           0        0     0.2025463\n",
            "2              38.77315        0.00000000           0        0     0.2025463\n",
            "3              38.77315        0.03674769           0        0     0.2025463\n",
            "4              38.71528        0.00000000           0        0     0.2025463\n",
            "5              38.71528        0.00000000           0        0     0.2025463\n",
            "6              38.59954        0.00000000           0        0     0.2025463\n",
            "  Pressão.Suc Posição.FCV Temp..externo.mancal.escora.LNA\n",
            "1           0           0                        20.70313\n",
            "2           0           0                        20.70313\n",
            "3           0           0                        20.70313\n",
            "4           0           0                        20.70313\n",
            "5           0           0                        20.70313\n",
            "6           0           0                        20.70313\n",
            "  Temp..interno.mancal.escora.LNA Pressão.Selo.LA Pressão.Selo.LNA\n",
            "1                        21.00694               0                0\n",
            "2                        21.00694               0                0\n",
            "3                        21.00694               0                0\n",
            "4                        21.00694               0                0\n",
            "5                        20.92014               0                0\n",
            "6                        20.92014               0                0\n",
            "  Temp..mancal.LA.bomba Temp..mancal.LA.motor Temp..mancal.LNA.bomba\n",
            "1              23.09028              29.38368               17.01389\n",
            "2              23.09028              29.38368               17.01389\n",
            "3              23.09028              29.34028               17.01389\n",
            "4              23.09028              29.34028               16.97049\n",
            "5              23.09028              29.34028               16.97049\n",
            "6              23.09028              29.34028               16.97049\n",
            "  Temp..mancal.LNA.motor Temp..Oleo.ULF\n",
            "1               25.17361       21.35417\n",
            "2               25.17361       21.35417\n",
            "3               25.17361       21.35417\n",
            "4               25.17361       21.35417\n",
            "5               25.17361       21.35417\n",
            "6               25.13021       21.35417\n"
          ]
        }
      ]
    },
    {
      "cell_type": "code",
      "source": [
        "%%R\n",
        "str(df)"
      ],
      "metadata": {
        "colab": {
          "base_uri": "https://localhost:8080/"
        },
        "id": "z281WLqXoy0c",
        "outputId": "050004d6-5c45-4ce3-d508-55be13036654"
      },
      "execution_count": 60,
      "outputs": [
        {
          "output_type": "stream",
          "name": "stdout",
          "text": [
            "'data.frame':\t365 obs. of  21 variables:\n",
            " $ Ano                            : int  2016 2016 2016 2016 2016 2016 2016 2016 2016 2016 ...\n",
            " $ Dia                            : int  1 2 3 4 5 6 7 8 9 10 ...\n",
            " $ Temp..Estator.Fase.U           : num  38.1 38.1 38.1 38 38 ...\n",
            " $ Temp..Estator.Fase.V           : num  39.9 39.9 39.9 39.8 39.8 ...\n",
            " $ Temp..Estator.Fase.WA          : num  36.6 36.6 36.6 36.5 36.5 ...\n",
            " $ Temp..Estator.Fase.WB          : num  38.8 38.8 38.8 38.7 38.7 ...\n",
            " $ Vibração.Bomba.LA              : num  0 0 0.0367 0 0 ...\n",
            " $ Vazão.Bomba                    : num  0 0 0 0 0 0 0 0 0 0 ...\n",
            " $ Corrente                       : num  0 0 0 0 0 0 0 0 0 0 ...\n",
            " $ Pressão.Desc.                  : num  0.203 0.203 0.203 0.203 0.203 ...\n",
            " $ Pressão.Suc                    : num  0 0 0 0 0 0 0 0 0 0 ...\n",
            " $ Posição.FCV                    : int  0 0 0 0 0 0 0 0 0 0 ...\n",
            " $ Temp..externo.mancal.escora.LNA: num  20.7 20.7 20.7 20.7 20.7 ...\n",
            " $ Temp..interno.mancal.escora.LNA: num  21 21 21 21 20.9 ...\n",
            " $ Pressão.Selo.LA                : num  0 0 0 0 0 0 0 0 0 0 ...\n",
            " $ Pressão.Selo.LNA               : num  0 0 0 0 0 0 0 0 0 0 ...\n",
            " $ Temp..mancal.LA.bomba          : num  23.1 23.1 23.1 23.1 23.1 ...\n",
            " $ Temp..mancal.LA.motor          : num  29.4 29.4 29.3 29.3 29.3 ...\n",
            " $ Temp..mancal.LNA.bomba         : num  17 17 17 17 17 ...\n",
            " $ Temp..mancal.LNA.motor         : num  25.2 25.2 25.2 25.2 25.2 ...\n",
            " $ Temp..Oleo.ULF                 : num  21.4 21.4 21.4 21.4 21.4 ...\n"
          ]
        }
      ]
    },
    {
      "cell_type": "code",
      "source": [
        "%%R\n",
        "names(df)"
      ],
      "metadata": {
        "colab": {
          "base_uri": "https://localhost:8080/"
        },
        "id": "M3iLwNxSR-Tx",
        "outputId": "f0abf620-de6e-42fc-b4a4-27f26cfd9e46"
      },
      "execution_count": 61,
      "outputs": [
        {
          "output_type": "stream",
          "name": "stdout",
          "text": [
            " [1] \"Ano\"                             \"Dia\"                            \n",
            " [3] \"Temp..Estator.Fase.U\"            \"Temp..Estator.Fase.V\"           \n",
            " [5] \"Temp..Estator.Fase.WA\"           \"Temp..Estator.Fase.WB\"          \n",
            " [7] \"Vibração.Bomba.LA\"               \"Vazão.Bomba\"                    \n",
            " [9] \"Corrente\"                        \"Pressão.Desc.\"                  \n",
            "[11] \"Pressão.Suc\"                     \"Posição.FCV\"                    \n",
            "[13] \"Temp..externo.mancal.escora.LNA\" \"Temp..interno.mancal.escora.LNA\"\n",
            "[15] \"Pressão.Selo.LA\"                 \"Pressão.Selo.LNA\"               \n",
            "[17] \"Temp..mancal.LA.bomba\"           \"Temp..mancal.LA.motor\"          \n",
            "[19] \"Temp..mancal.LNA.bomba\"          \"Temp..mancal.LNA.motor\"         \n",
            "[21] \"Temp..Oleo.ULF\"                 \n"
          ]
        }
      ]
    },
    {
      "cell_type": "code",
      "source": [
        "%%R\n",
        "lm1 <- lm(Temp..mancal.LA.motor ~ Dia, data = df)\n",
        "summary(lm1)"
      ],
      "metadata": {
        "colab": {
          "base_uri": "https://localhost:8080/"
        },
        "id": "L81SVJkPDiH6",
        "outputId": "96c3d150-6721-4571-ec5d-1545dedd1e4a"
      },
      "execution_count": 62,
      "outputs": [
        {
          "output_type": "stream",
          "name": "stdout",
          "text": [
            "\n",
            "Call:\n",
            "lm(formula = Temp..mancal.LA.motor ~ Dia, data = df)\n",
            "\n",
            "Residuals:\n",
            "    Min      1Q  Median      3Q     Max \n",
            "-8.6134 -3.1472  0.3514  3.8893  5.5081 \n",
            "\n",
            "Coefficients:\n",
            "             Estimate Std. Error t value Pr(>|t|)    \n",
            "(Intercept) 24.124734   0.434141   55.57   <2e-16 ***\n",
            "Dia          0.062544   0.002056   30.42   <2e-16 ***\n",
            "---\n",
            "Signif. codes:  0 ‘***’ 0.001 ‘**’ 0.01 ‘*’ 0.05 ‘.’ 0.1 ‘ ’ 1\n",
            "\n",
            "Residual standard error: 4.139 on 363 degrees of freedom\n",
            "Multiple R-squared:  0.7183,\tAdjusted R-squared:  0.7175 \n",
            "F-statistic: 925.5 on 1 and 363 DF,  p-value: < 2.2e-16\n",
            "\n"
          ]
        }
      ]
    },
    {
      "cell_type": "code",
      "source": [
        "%%R\n",
        "plot(Temp..mancal.LA.motor ~ Dia, pch = 20, data = df)\n",
        "abline(lm1, col = 2, lty = 2, lw = 3)"
      ],
      "metadata": {
        "colab": {
          "base_uri": "https://localhost:8080/",
          "height": 497
        },
        "id": "afatQKWV-_7A",
        "outputId": "209dc9e0-40bc-4a17-8c77-e46e2923c9f5"
      },
      "execution_count": 63,
      "outputs": [
        {
          "output_type": "display_data",
          "data": {
            "image/png": "[encoded data removed]"
          },
          "metadata": {}
        }
      ]
    },
    {
      "cell_type": "code",
      "source": [
        "%%R\n",
        "x <- I(df$Dia - 01)\n",
        "y <- df$Temp..mancal.LA.motor\n",
        "N <- length(df$Dia)"
      ],
      "metadata": {
        "id": "Cx_ZNE0jD6FY"
      },
      "execution_count": 64,
      "outputs": []
    },
    {
      "cell_type": "code",
      "source": [
        "%%R\n",
        "lm1 <- lm(y ~ x)\n",
        "summary(lm1)"
      ],
      "metadata": {
        "colab": {
          "base_uri": "https://localhost:8080/"
        },
        "id": "PJMVpOtVEHq0",
        "outputId": "a2bc002b-dda9-4b6d-fcc4-961385d0fe32"
      },
      "execution_count": 65,
      "outputs": [
        {
          "output_type": "stream",
          "name": "stdout",
          "text": [
            "\n",
            "Call:\n",
            "lm(formula = y ~ x)\n",
            "\n",
            "Residuals:\n",
            "    Min      1Q  Median      3Q     Max \n",
            "-8.6134 -3.1472  0.3514  3.8893  5.5081 \n",
            "\n",
            "Coefficients:\n",
            "             Estimate Std. Error t value Pr(>|t|)    \n",
            "(Intercept) 24.187279   0.432361   55.94   <2e-16 ***\n",
            "x            0.062544   0.002056   30.42   <2e-16 ***\n",
            "---\n",
            "Signif. codes:  0 ‘***’ 0.001 ‘**’ 0.01 ‘*’ 0.05 ‘.’ 0.1 ‘ ’ 1\n",
            "\n",
            "Residual standard error: 4.139 on 363 degrees of freedom\n",
            "Multiple R-squared:  0.7183,\tAdjusted R-squared:  0.7175 \n",
            "F-statistic: 925.5 on 1 and 363 DF,  p-value: < 2.2e-16\n",
            "\n"
          ]
        }
      ]
    },
    {
      "cell_type": "code",
      "source": [
        "%%R\n",
        "lm_alpha <- summary(lm1)$coeff[1]  # the intercept\n",
        "lm_beta <- summary(lm1)$coeff[2]  # the slope\n",
        "lm_sigma <- sigma(lm1)  # the residual error"
      ],
      "metadata": {
        "id": "avwvJPRPEc7N"
      },
      "execution_count": 66,
      "outputs": []
    },
    {
      "cell_type": "code",
      "source": [
        "%%R\n",
        "stan_data <- list(N = N, x = x, y = y)"
      ],
      "metadata": {
        "id": "52Gxwip9EjaG"
      },
      "execution_count": 67,
      "outputs": []
    },
    {
      "cell_type": "code",
      "source": [
        "%%R\n",
        "write(\"// Stan model for simple linear regression\n",
        "\n",
        "data {\n",
        " int < lower = 1 > N; // Sample size\n",
        " vector[N] x; // Predictor\n",
        " vector[N] y; // Outcome\n",
        "}\n",
        "\n",
        "parameters {\n",
        " real alpha; // Intercept\n",
        " real beta; // Slope (regression coefficients)\n",
        " real < lower = 0 > sigma; // Error SD\n",
        "}\n",
        "\n",
        "model {\n",
        " y ~ normal(alpha + x * beta , sigma);\n",
        "}\n",
        "\n",
        "generated quantities {\n",
        "} // The posterior predictive distribution\",\n",
        "\n",
        "\"stan_model1.stan\")"
      ],
      "metadata": {
        "id": "VWDywI3jF7VT"
      },
      "execution_count": 70,
      "outputs": []
    },
    {
      "cell_type": "code",
      "source": [
        "%%R\n",
        "stanc(\"stan_model1.stan\")"
      ],
      "metadata": {
        "colab": {
          "base_uri": "https://localhost:8080/"
        },
        "id": "uFA2KNTrGBIW",
        "outputId": "31924e1d-13d4-419b-b1df-35e3c83a27f8"
      },
      "execution_count": 71,
      "outputs": [
        {
          "output_type": "stream",
          "name": "stdout",
          "text": [
            "$status\n",
            "[1] TRUE\n",
            "\n",
            "$model_cppname\n",
            "[1] \"model68037c8f4e89_stan_model1\"\n",
            "\n",
            "$cppcode\n",
            "[1] \"#ifndef USE_STANC3\\n#define USE_STANC3\\n#endif\\n// Code generated by stanc v2.26.1-1-g67504470\\n#include <stan/model/model_header.hpp>\\nnamespace model68037c8f4e89_stan_model1_namespace {\\ninline void validate_positive_index(const char* var_name, const char* expr,\\n                                    int val) {\\n  if (val < 1) {\\n    std::stringstream msg;\\n    msg << \\\"Found dimension size less than one in simplex declaration\\\"\\n        << \\\"; variable=\\\" << var_name << \\\"; dimension size expression=\\\" << expr\\n        << \\\"; expression value=\\\" << val;\\n    std::string msg_str(msg.str());\\n    throw std::invalid_argument(msg_str.c_str());\\n  }\\n}\\ninline void validate_unit_vector_index(const char* var_name, const char* expr,\\n                                       int val) {\\n  if (val <= 1) {\\n    std::stringstream msg;\\n    if (val == 1) {\\n      msg << \\\"Found dimension size one in unit vector declaration.\\\"\\n          << \\\" One-dimensional unit vector is discrete\\\"\\n          << \\\" but the target distribution must be continuous.\\\"\\n          << \\\" variable=\\\" << var_name << \\\"; dimension size expression=\\\" << expr;\\n    } else {\\n      msg << \\\"Found dimension size less than one in unit vector declaration\\\"\\n          << \\\"; variable=\\\" << var_name << \\\"; dimension size expression=\\\" << expr\\n          << \\\"; expression value=\\\" << val;\\n    }\\n    std::string msg_str(msg.str());\\n    throw std::invalid_argument(msg_str.c_str());\\n  }\\n}\\nusing std::istream;\\nusing std::string;\\nusing std::stringstream;\\nusing std::vector;\\nusing std::pow;\\nusing stan::io::dump;\\nusing stan::math::lgamma;\\nusing stan::model::model_base_crtp;\\nusing stan::model::rvalue;\\nusing stan::model::cons_list;\\nusing stan::model::index_uni;\\nusing stan::model::index_max;\\nusing stan::model::index_min;\\nusing stan::model::index_min_max;\\nusing stan::model::index_multi;\\nusing stan::model::index_omni;\\nusing stan::model::nil_index_list;\\nusing namespace stan::math;\\nusing stan::math::pow; \\nstan::math::profile_map profiles__;\\nstatic int current_statement__= 0;\\nstatic const std::vector<string> locations_array__ = {\\\" (found before start of program)\\\",\\n                                                      \\\" (in 'stan_model1', line 8, column 1 to column 12)\\\",\\n                                                      \\\" (in 'stan_model1', line 9, column 1 to column 11)\\\",\\n                                                      \\\" (in 'stan_model1', line 10, column 1 to column 26)\\\",\\n                                                      \\\" (in 'stan_model1', line 13, column 1 to column 38)\\\",\\n                                                      \\\" (in 'stan_model1', line 3, column 1 to column 21)\\\",\\n                                                      \\\" (in 'stan_model1', line 4, column 8 to column 9)\\\",\\n                                                      \\\" (in 'stan_model1', line 4, column 1 to column 13)\\\",\\n                                                      \\\" (in 'stan_model1', line 5, column 8 to column 9)\\\",\\n                                                      \\\" (in 'stan_model1', line 5, column 1 to column 13)\\\"};\\nclass model68037c8f4e89_stan_model1 final : public model_base_crtp<model68037c8f4e89_stan_model1> {\\nprivate:\\n  int N;\\n  Eigen::Matrix<double, -1, 1> x;\\n  Eigen::Matrix<double, -1, 1> y;\\n \\npublic:\\n  ~model68037c8f4e89_stan_model1() { }\\n  \\n  inline std::string model_name() const final { return \\\"model68037c8f4e89_stan_model1\\\"; }\\n  inline std::vector<std::string> model_compile_info() const noexcept {\\n    return std::vector<std::string>{\\\"stanc_version = stanc3 v2.26.1-1-g67504470\\\", \\\"stancflags = \\\"};\\n  }\\n  \\n  \\n  model68037c8f4e89_stan_model1(stan::io::var_context& context__,\\n                                unsigned int random_seed__ = 0,\\n                                std::ostream* pstream__ = nullptr) : model_base_crtp(0) {\\n    using local_scalar_t__ = double ;\\n    boost::ecuyer1988 base_rng__ = \\n        stan::services::util::create_rng(random_seed__, 0);\\n    (void) base_rng__;  // suppress unused var warning\\n    static const char* function__ = \\\"model68037c8f4e89_stan_model1_namespace::model68037c8f4e89_stan_model1\\\";\\n    (void) function__;  // suppress unused var warning\\n    local_scalar_t__ DUMMY_VAR__(std::numeric_limits<double>::quiet_NaN());\\n    (void) DUMMY_VAR__;  // suppress unused var warning\\n    \\n    try {\\n      int pos__;\\n      pos__ = std::numeric_limits<int>::min();\\n      \\n      pos__ = 1;\\n      current_statement__ = 5;\\n      context__.validate_dims(\\\"data initialization\\\",\\\"N\\\",\\\"int\\\",\\n          context__.to_vec());\\n      N = std::numeric_limits<int>::min();\\n      \\n      current_statement__ = 5;\\n      N = context__.vals_i(\\\"N\\\")[(1 - 1)];\\n      current_statement__ = 5;\\n      current_statement__ = 5;\\n      check_greater_or_equal(function__, \\\"N\\\", N, 1);\\n      current_statement__ = 6;\\n      validate_non_negative_index(\\\"x\\\", \\\"N\\\", N);\\n      current_statement__ = 7;\\n      context__.validate_dims(\\\"data initialization\\\",\\\"x\\\",\\\"double\\\",\\n          context__.to_vec(N));\\n      x = Eigen::Matrix<double, -1, 1>(N);\\n      stan::math::fill(x, std::numeric_limits<double>::quiet_NaN());\\n      \\n      {\\n        std::vector<local_scalar_t__> x_flat__;\\n        current_statement__ = 7;\\n        assign(x_flat__, nil_index_list(), context__.vals_r(\\\"x\\\"),\\n          \\\"assigning variable x_flat__\\\");\\n        current_statement__ = 7;\\n        pos__ = 1;\\n        current_statement__ = 7;\\n        for (int sym1__ = 1; sym1__ <= N; ++sym1__) {\\n          current_statement__ = 7;\\n          assign(x, cons_list(index_uni(sym1__), nil_index_list()),\\n            x_flat__[(pos__ - 1)], \\\"assigning variable x\\\");\\n          current_statement__ = 7;\\n          pos__ = (pos__ + 1);}\\n      }\\n      current_statement__ = 8;\\n      validate_non_negative_index(\\\"y\\\", \\\"N\\\", N);\\n      current_statement__ = 9;\\n      context__.validate_dims(\\\"data initialization\\\",\\\"y\\\",\\\"double\\\",\\n          context__.to_vec(N));\\n      y = Eigen::Matrix<double, -1, 1>(N);\\n      stan::math::fill(y, std::numeric_limits<double>::quiet_NaN());\\n      \\n      {\\n        std::vector<local_scalar_t__> y_flat__;\\n        current_statement__ = 9;\\n        assign(y_flat__, nil_index_list(), context__.vals_r(\\\"y\\\"),\\n          \\\"assigning variable y_flat__\\\");\\n        current_statement__ = 9;\\n        pos__ = 1;\\n        current_statement__ = 9;\\n        for (int sym1__ = 1; sym1__ <= N; ++sym1__) {\\n          current_statement__ = 9;\\n          assign(y, cons_list(index_uni(sym1__), nil_index_list()),\\n            y_flat__[(pos__ - 1)], \\\"assigning variable y\\\");\\n          current_statement__ = 9;\\n          pos__ = (pos__ + 1);}\\n      }\\n    } catch (const std::exception& e) {\\n      stan::lang::rethrow_located(e, locations_array__[current_statement__]);\\n      // Next line prevents compiler griping about no return\\n      throw std::runtime_error(\\\"*** IF YOU SEE THIS, PLEASE REPORT A BUG ***\\\"); \\n    }\\n    num_params_r__ = 0U;\\n    \\n    try {\\n      num_params_r__ += 1;\\n      num_params_r__ += 1;\\n      num_params_r__ += 1;\\n    } catch (const std::exception& e) {\\n      stan::lang::rethrow_located(e, locations_array__[current_statement__]);\\n      // Next line prevents compiler griping about no return\\n      throw std::runtime_error(\\\"*** IF YOU SEE THIS, PLEASE REPORT A BUG ***\\\"); \\n    }\\n  }\\n  template <bool propto__, bool jacobian__, typename VecR, typename VecI, stan::require_vector_like_t<VecR>* = nullptr, stan::require_vector_like_vt<std::is_integral, VecI>* = nullptr>\\n  inline stan::scalar_type_t<VecR> log_prob_impl(VecR& params_r__,\\n                                                 VecI& params_i__,\\n                                                 std::ostream* pstream__ = nullptr) const {\\n    using T__ = stan::scalar_type_t<VecR>;\\n    using local_scalar_t__ = T__;\\n    T__ lp__(0.0);\\n    stan::math::accumulator<T__> lp_accum__;\\n    static const char* function__ = \\\"model68037c8f4e89_stan_model1_namespace::log_prob\\\";\\n(void) function__;  // suppress unused var warning\\n    stan::io::reader<local_scalar_t__> in__(params_r__, params_i__);\\n    local_scalar_t__ DUMMY_VAR__(std::numeric_limits<double>::quiet_NaN());\\n    (void) DUMMY_VAR__;  // suppress unused var warning\\n    \\n    try {\\n      local_scalar_t__ alpha;\\n      alpha = DUMMY_VAR__;\\n      \\n      current_statement__ = 1;\\n      alpha = in__.scalar();\\n      local_scalar_t__ beta;\\n      beta = DUMMY_VAR__;\\n      \\n      current_statement__ = 2;\\n      beta = in__.scalar();\\n      local_scalar_t__ sigma;\\n      sigma = DUMMY_VAR__;\\n      \\n      current_statement__ = 3;\\n      sigma = in__.scalar();\\n      current_statement__ = 3;\\n      if (jacobian__) {\\n        current_statement__ = 3;\\n        sigma = stan::math::lb_constrain(sigma, 0, lp__);\\n      } else {\\n        current_statement__ = 3;\\n        sigma = stan::math::lb_constrain(sigma, 0);\\n      }\\n      {\\n        current_statement__ = 4;\\n        lp_accum__.add(\\n          normal_lpdf<propto__>(y, add(alpha, multiply(x, beta)), sigma));\\n      }\\n    } catch (const std::exception& e) {\\n      stan::lang::rethrow_located(e, locations_array__[current_statement__]);\\n      // Next line prevents compiler griping about no return\\n      throw std::runtime_error(\\\"*** IF YOU SEE THIS, PLEASE REPORT A BUG ***\\\"); \\n    }\\n    lp_accum__.add(lp__);\\n    return lp_accum__.sum();\\n    } // log_prob_impl() \\n    \\n  template <typename RNG, typename VecR, typename VecI, typename VecVar, stan::require_vector_like_vt<std::is_floating_point, VecR>* = nullptr, stan::require_vector_like_vt<std::is_integral, VecI>* = nullptr, stan::require_std_vector_vt<std::is_floating_point, VecVar>* = nullptr>\\n  inline void write_array_impl(RNG& base_rng__, VecR& params_r__,\\n                               VecI& params_i__, VecVar& vars__,\\n                               const bool emit_transformed_parameters__ = true,\\n                               const bool emit_generated_quantities__ = true,\\n                               std::ostream* pstream__ = nullptr) const {\\n    using local_scalar_t__ = double;\\n    vars__.resize(0);\\n    stan::io::reader<local_scalar_t__> in__(params_r__, params_i__);\\n    static const char* function__ = \\\"model68037c8f4e89_stan_model1_namespace::write_array\\\";\\n(void) function__;  // suppress unused var warning\\n    (void) function__;  // suppress unused var warning\\n    double lp__ = 0.0;\\n    (void) lp__;  // dummy to suppress unused var warning\\n    stan::math::accumulator<double> lp_accum__;\\n    local_scalar_t__ DUMMY_VAR__(std::numeric_limits<double>::quiet_NaN());\\n    (void) DUMMY_VAR__;  // suppress unused var warning\\n    \\n    try {\\n      double alpha;\\n      alpha = std::numeric_limits<double>::quiet_NaN();\\n      \\n      current_statement__ = 1;\\n      alpha = in__.scalar();\\n      double beta;\\n      beta = std::numeric_limits<double>::quiet_NaN();\\n      \\n      current_statement__ = 2;\\n      beta = in__.scalar();\\n      double sigma;\\n      sigma = std::numeric_limits<double>::quiet_NaN();\\n      \\n      current_statement__ = 3;\\n      sigma = in__.scalar();\\n      current_statement__ = 3;\\n      sigma = stan::math::lb_constrain(sigma, 0);\\n      vars__.emplace_back(alpha);\\n      vars__.emplace_back(beta);\\n      vars__.emplace_back(sigma);\\n      if (logical_negation((primitive_value(emit_transformed_parameters__) ||\\n            primitive_value(emit_generated_quantities__)))) {\\n        return ;\\n      } \\n      if (logical_negation(emit_generated_quantities__)) {\\n        return ;\\n      } \\n    } catch (const std::exception& e) {\\n      stan::lang::rethrow_located(e, locations_array__[current_statement__]);\\n      // Next line prevents compiler griping about no return\\n      throw std::runtime_error(\\\"*** IF YOU SEE THIS, PLEASE REPORT A BUG ***\\\"); \\n    }\\n    } // write_array_impl() \\n    \\n  template <typename VecVar, typename VecI, stan::require_std_vector_t<VecVar>* = nullptr, stan::require_vector_like_vt<std::is_integral, VecI>* = nullptr>\\n  inline void transform_inits_impl(const stan::io::var_context& context__,\\n                                   VecI& params_i__, VecVar& vars__,\\n                                   std::ostream* pstream__ = nullptr) const {\\n    using local_scalar_t__ = double;\\n    vars__.clear();\\n    vars__.reserve(num_params_r__);\\n    \\n    try {\\n      int pos__;\\n      pos__ = std::numeric_limits<int>::min();\\n      \\n      pos__ = 1;\\n      double alpha;\\n      alpha = std::numeric_limits<double>::quiet_NaN();\\n      \\n      current_statement__ = 1;\\n      alpha = context__.vals_r(\\\"alpha\\\")[(1 - 1)];\\n      double beta;\\n      beta = std::numeric_limits<double>::quiet_NaN();\\n      \\n      current_statement__ = 2;\\n      beta = context__.vals_r(\\\"beta\\\")[(1 - 1)];\\n      double sigma;\\n      sigma = std::numeric_limits<double>::quiet_NaN();\\n      \\n      current_statement__ = 3;\\n      sigma = context__.vals_r(\\\"sigma\\\")[(1 - 1)];\\n      double sigma_free__;\\n      sigma_free__ = std::numeric_limits<double>::quiet_NaN();\\n      \\n      current_statement__ = 3;\\n      sigma_free__ = stan::math::lb_free(sigma, 0);\\n      vars__.emplace_back(alpha);\\n      vars__.emplace_back(beta);\\n      vars__.emplace_back(sigma_free__);\\n    } catch (const std::exception& e) {\\n      stan::lang::rethrow_located(e, locations_array__[current_statement__]);\\n      // Next line prevents compiler griping about no return\\n      throw std::runtime_error(\\\"*** IF YOU SEE THIS, PLEASE REPORT A BUG ***\\\"); \\n    }\\n    } // transform_inits_impl() \\n    \\n  inline void get_param_names(std::vector<std::string>& names__) const {\\n    \\n    names__.clear();\\n    names__.emplace_back(\\\"alpha\\\");\\n    names__.emplace_back(\\\"beta\\\");\\n    names__.emplace_back(\\\"sigma\\\");\\n    } // get_param_names() \\n    \\n  inline void get_dims(std::vector<std::vector<size_t>>& dimss__) const {\\n    dimss__.clear();\\n    dimss__.emplace_back(std::vector<size_t>{});\\n    \\n    dimss__.emplace_back(std::vector<size_t>{});\\n    \\n    dimss__.emplace_back(std::vector<size_t>{});\\n    \\n    } // get_dims() \\n    \\n  inline void constrained_param_names(\\n                                      std::vector<std::string>& param_names__,\\n                                      bool emit_transformed_parameters__ = true,\\n                                      bool emit_generated_quantities__ = true) const\\n    final {\\n    \\n    param_names__.emplace_back(std::string() + \\\"alpha\\\");\\n    param_names__.emplace_back(std::string() + \\\"beta\\\");\\n    param_names__.emplace_back(std::string() + \\\"sigma\\\");\\n    if (emit_transformed_parameters__) {\\n      \\n    }\\n    \\n    if (emit_generated_quantities__) {\\n      \\n    }\\n    \\n    } // constrained_param_names() \\n    \\n  inline void unconstrained_param_names(\\n                                        std::vector<std::string>& param_names__,\\n                                        bool emit_transformed_parameters__ = true,\\n                                        bool emit_generated_quantities__ = true) const\\n    final {\\n    \\n    param_names__.emplace_back(std::string() + \\\"alpha\\\");\\n    param_names__.emplace_back(std::string() + \\\"beta\\\");\\n    param_names__.emplace_back(std::string() + \\\"sigma\\\");\\n    if (emit_transformed_parameters__) {\\n      \\n    }\\n    \\n    if (emit_generated_quantities__) {\\n      \\n    }\\n    \\n    } // unconstrained_param_names() \\n    \\n  inline std::string get_constrained_sizedtypes() const {\\n    stringstream s__;\\n    s__ << \\\"[{\\\\\\\"name\\\\\\\":\\\\\\\"alpha\\\\\\\",\\\\\\\"type\\\\\\\":{\\\\\\\"name\\\\\\\":\\\\\\\"real\\\\\\\"},\\\\\\\"block\\\\\\\":\\\\\\\"parameters\\\\\\\"},{\\\\\\\"name\\\\\\\":\\\\\\\"beta\\\\\\\",\\\\\\\"type\\\\\\\":{\\\\\\\"name\\\\\\\":\\\\\\\"real\\\\\\\"},\\\\\\\"block\\\\\\\":\\\\\\\"parameters\\\\\\\"},{\\\\\\\"name\\\\\\\":\\\\\\\"sigma\\\\\\\",\\\\\\\"type\\\\\\\":{\\\\\\\"name\\\\\\\":\\\\\\\"real\\\\\\\"},\\\\\\\"block\\\\\\\":\\\\\\\"parameters\\\\\\\"}]\\\";\\n    return s__.str();\\n    } // get_constrained_sizedtypes() \\n    \\n  inline std::string get_unconstrained_sizedtypes() const {\\n    stringstream s__;\\n    s__ << \\\"[{\\\\\\\"name\\\\\\\":\\\\\\\"alpha\\\\\\\",\\\\\\\"type\\\\\\\":{\\\\\\\"name\\\\\\\":\\\\\\\"real\\\\\\\"},\\\\\\\"block\\\\\\\":\\\\\\\"parameters\\\\\\\"},{\\\\\\\"name\\\\\\\":\\\\\\\"beta\\\\\\\",\\\\\\\"type\\\\\\\":{\\\\\\\"name\\\\\\\":\\\\\\\"real\\\\\\\"},\\\\\\\"block\\\\\\\":\\\\\\\"parameters\\\\\\\"},{\\\\\\\"name\\\\\\\":\\\\\\\"sigma\\\\\\\",\\\\\\\"type\\\\\\\":{\\\\\\\"name\\\\\\\":\\\\\\\"real\\\\\\\"},\\\\\\\"block\\\\\\\":\\\\\\\"parameters\\\\\\\"}]\\\";\\n    return s__.str();\\n    } // get_unconstrained_sizedtypes() \\n    \\n  \\n    // Begin method overload boilerplate\\n    template <typename RNG>\\n    inline void write_array(RNG& base_rng,\\n                            Eigen::Matrix<double,Eigen::Dynamic,1>& params_r,\\n                            Eigen::Matrix<double,Eigen::Dynamic,1>& vars,\\n                            const bool emit_transformed_parameters = true,\\n                            const bool emit_generated_quantities = true,\\n                            std::ostream* pstream = nullptr) const {\\n      std::vector<double> vars_vec(vars.size());\\n      std::vector<int> params_i;\\n      write_array_impl(base_rng, params_r, params_i, vars_vec,\\n          emit_transformed_parameters, emit_generated_quantities, pstream);\\n      vars.resize(vars_vec.size());\\n      for (int i = 0; i < vars.size(); ++i) {\\n        vars.coeffRef(i) = vars_vec[i];\\n      }\\n    }\\n    template <typename RNG>\\n    inline void write_array(RNG& base_rng, std::vector<double>& params_r,\\n                            std::vector<int>& params_i,\\n                            std::vector<double>& vars,\\n                            bool emit_transformed_parameters = true,\\n                            bool emit_generated_quantities = true,\\n                            std::ostream* pstream = nullptr) const {\\n      write_array_impl(base_rng, params_r, params_i, vars, emit_transformed_parameters, emit_generated_quantities, pstream);\\n    }\\n    template <bool propto__, bool jacobian__, typename T_>\\n    inline T_ log_prob(Eigen::Matrix<T_,Eigen::Dynamic,1>& params_r,\\n                       std::ostream* pstream = nullptr) const {\\n      Eigen::Matrix<int, -1, 1> params_i;\\n      return log_prob_impl<propto__, jacobian__>(params_r, params_i, pstream);\\n    }\\n    template <bool propto__, bool jacobian__, typename T__>\\n    inline T__ log_prob(std::vector<T__>& params_r,\\n                        std::vector<int>& params_i,\\n                        std::ostream* pstream = nullptr) const {\\n      return log_prob_impl<propto__, jacobian__>(params_r, params_i, pstream);\\n    }\\n  \\n    inline void transform_inits(const stan::io::var_context& context,\\n                         Eigen::Matrix<double, Eigen::Dynamic, 1>& params_r,\\n                         std::ostream* pstream = nullptr) const final {\\n      std::vector<double> params_r_vec(params_r.size());\\n      std::vector<int> params_i;\\n      transform_inits_impl(context, params_i, params_r_vec, pstream);\\n      params_r.resize(params_r_vec.size());\\n      for (int i = 0; i < params_r.size(); ++i) {\\n        params_r.coeffRef(i) = params_r_vec[i];\\n      }\\n    }\\n    inline void transform_inits(const stan::io::var_context& context,\\n                                std::vector<int>& params_i,\\n                                std::vector<double>& vars,\\n                                std::ostream* pstream = nullptr) const final {\\n      transform_inits_impl(context, params_i, vars, pstream);\\n    }        \\n};\\n}\\nusing stan_model = model68037c8f4e89_stan_model1_namespace::model68037c8f4e89_stan_model1;\\n#ifndef USING_R\\n// Boilerplate\\nstan::model::model_base& new_model(\\n        stan::io::var_context& data_context,\\n        unsigned int seed,\\n        std::ostream* msg_stream) {\\n  stan_model* m = new stan_model(data_context, seed, msg_stream);\\n  return *m;\\n}\\nstan::math::profile_map& get_stan_profile_data() {\\n  return model68037c8f4e89_stan_model1_namespace::profiles__;\\n}\\n#endif\"\n",
            "\n",
            "$model_name\n",
            "[1] \"stan_model1\"\n",
            "\n",
            "$model_code\n",
            "[1] \"// Stan model for simple linear regression\\ndata {\\n int < lower = 1 > N; // Sample size\\n vector[N] x; // Predictor\\n vector[N] y; // Outcome\\n}\\nparameters {\\n real alpha; // Intercept\\n real beta; // Slope (regression coefficients)\\n real < lower = 0 > sigma; // Error SD\\n}\\nmodel {\\n y ~ normal(alpha + x * beta , sigma);\\n}\\ngenerated quantities {\\n} // The posterior predictive distribution\"\n",
            "attr(,\"model_name2\")\n",
            "[1] \"stan_model1\"\n",
            "\n"
          ]
        }
      ]
    },
    {
      "cell_type": "code",
      "source": [
        "%%R\n",
        "stan_model1 <- \"stan_model1.stan\""
      ],
      "metadata": {
        "id": "vE7-ubH2GEMS"
      },
      "execution_count": 72,
      "outputs": []
    },
    {
      "cell_type": "code",
      "source": [
        "%%R\n",
        "fit <- stan(file = stan_model1, data = stan_data, warmup = 500, iter = 1000, chains = 4, cores = 2, thin = 1)"
      ],
      "metadata": {
        "id": "LnSmjUIgGhlw"
      },
      "execution_count": 73,
      "outputs": []
    },
    {
      "cell_type": "code",
      "source": [
        "%%R\n",
        "fit"
      ],
      "metadata": {
        "colab": {
          "base_uri": "https://localhost:8080/"
        },
        "id": "Q3AHR6ueGmDR",
        "outputId": "ac40bd63-73da-4025-8df1-4c2ed37063ac"
      },
      "execution_count": 76,
      "outputs": [
        {
          "output_type": "stream",
          "name": "stdout",
          "text": [
            "Inference for Stan model: anon_model.\n",
            "4 chains, each with iter=1000; warmup=500; thin=1; \n",
            "post-warmup draws per chain=500, total post-warmup draws=2000.\n",
            "\n",
            "         mean se_mean   sd    2.5%     25%     50%     75%   97.5% n_eff Rhat\n",
            "alpha   24.18    0.01 0.44   23.34   23.89   24.18   24.47   25.06   873 1.01\n",
            "beta     0.06    0.00 0.00    0.06    0.06    0.06    0.06    0.07  1049 1.00\n",
            "sigma    4.16    0.01 0.15    3.88    4.05    4.16    4.26    4.48   756 1.01\n",
            "lp__  -700.02    0.05 1.22 -703.12 -700.57 -699.71 -699.14 -698.63   494 1.00\n",
            "\n",
            "Samples were drawn using NUTS(diag_e) at Sun Oct 30 04:17:30 2022.\n",
            "For each parameter, n_eff is a crude measure of effective sample size,\n",
            "and Rhat is the potential scale reduction factor on split chains (at \n",
            "convergence, Rhat=1).\n"
          ]
        }
      ]
    },
    {
      "cell_type": "code",
      "source": [
        "%%R\n",
        "posterior <- extract(fit)\n",
        "str(posterior)"
      ],
      "metadata": {
        "id": "hnHi2HdqPZiN",
        "outputId": "17f9cf45-09f0-4d1f-d9b3-34ed5e06e956",
        "colab": {
          "base_uri": "https://localhost:8080/",
          "height": 571
        }
      },
      "execution_count": 78,
      "outputs": [
        {
          "output_type": "stream",
          "name": "stderr",
          "text": [
            "WARNING:rpy2.rinterface_lib.callbacks:R[write to console]: Error in extract(fit) : object of type 'S4' is not subsettable\n",
            "\n"
          ]
        },
        {
          "output_type": "stream",
          "name": "stdout",
          "text": [
            "\n",
            "Error in extract(fit) : object of type 'S4' is not subsettable\n"
          ]
        },
        {
          "output_type": "error",
          "ename": "RInterpreterError",
          "evalue": "ignored",
          "traceback": [
            "\u001b[0;31m---------------------------------------------------------------------------\u001b[0m",
            "\u001b[0;31mRRuntimeError\u001b[0m                             Traceback (most recent call last)",
            "\u001b[0;32m/usr/local/lib/python3.7/dist-packages/rpy2/ipython/rmagic.py\u001b[0m in \u001b[0;36meval\u001b[0;34m(self, code)\u001b[0m\n\u001b[1;32m    267\u001b[0m                 \u001b[0;31m# Need the newline in case the last line in code is a comment.\u001b[0m\u001b[0;34m\u001b[0m\u001b[0;34m\u001b[0m\u001b[0;34m\u001b[0m\u001b[0m\n\u001b[0;32m--> 268\u001b[0;31m                 \u001b[0mvalue\u001b[0m\u001b[0;34m,\u001b[0m \u001b[0mvisible\u001b[0m \u001b[0;34m=\u001b[0m \u001b[0mro\u001b[0m\u001b[0;34m.\u001b[0m\u001b[0mr\u001b[0m\u001b[0;34m(\u001b[0m\u001b[0;34m\"withVisible({%s\\n})\"\u001b[0m \u001b[0;34m%\u001b[0m \u001b[0mcode\u001b[0m\u001b[0;34m)\u001b[0m\u001b[0;34m\u001b[0m\u001b[0;34m\u001b[0m\u001b[0m\n\u001b[0m\u001b[1;32m    269\u001b[0m             \u001b[0;32mexcept\u001b[0m \u001b[0;34m(\u001b[0m\u001b[0mri\u001b[0m\u001b[0;34m.\u001b[0m\u001b[0membedded\u001b[0m\u001b[0;34m.\u001b[0m\u001b[0mRRuntimeError\u001b[0m\u001b[0;34m,\u001b[0m \u001b[0mValueError\u001b[0m\u001b[0;34m)\u001b[0m \u001b[0;32mas\u001b[0m \u001b[0mexception\u001b[0m\u001b[0;34m:\u001b[0m\u001b[0;34m\u001b[0m\u001b[0;34m\u001b[0m\u001b[0m\n",
            "\u001b[0;32m/usr/local/lib/python3.7/dist-packages/rpy2/robjects/__init__.py\u001b[0m in \u001b[0;36m__call__\u001b[0;34m(self, string)\u001b[0m\n\u001b[1;32m    437\u001b[0m         \u001b[0mp\u001b[0m \u001b[0;34m=\u001b[0m \u001b[0mrinterface\u001b[0m\u001b[0;34m.\u001b[0m\u001b[0mparse\u001b[0m\u001b[0;34m(\u001b[0m\u001b[0mstring\u001b[0m\u001b[0;34m)\u001b[0m\u001b[0;34m\u001b[0m\u001b[0;34m\u001b[0m\u001b[0m\n\u001b[0;32m--> 438\u001b[0;31m         \u001b[0mres\u001b[0m \u001b[0;34m=\u001b[0m \u001b[0mself\u001b[0m\u001b[0;34m.\u001b[0m\u001b[0meval\u001b[0m\u001b[0;34m(\u001b[0m\u001b[0mp\u001b[0m\u001b[0;34m)\u001b[0m\u001b[0;34m\u001b[0m\u001b[0;34m\u001b[0m\u001b[0m\n\u001b[0m\u001b[1;32m    439\u001b[0m         \u001b[0;32mreturn\u001b[0m \u001b[0mconversion\u001b[0m\u001b[0;34m.\u001b[0m\u001b[0mrpy2py\u001b[0m\u001b[0;34m(\u001b[0m\u001b[0mres\u001b[0m\u001b[0;34m)\u001b[0m\u001b[0;34m\u001b[0m\u001b[0;34m\u001b[0m\u001b[0m\n",
            "\u001b[0;32m/usr/local/lib/python3.7/dist-packages/rpy2/robjects/functions.py\u001b[0m in \u001b[0;36m__call__\u001b[0;34m(self, *args, **kwargs)\u001b[0m\n\u001b[1;32m    198\u001b[0m         return (super(SignatureTranslatedFunction, self)\n\u001b[0;32m--> 199\u001b[0;31m                 .__call__(*args, **kwargs))\n\u001b[0m\u001b[1;32m    200\u001b[0m \u001b[0;34m\u001b[0m\u001b[0m\n",
            "\u001b[0;32m/usr/local/lib/python3.7/dist-packages/rpy2/robjects/functions.py\u001b[0m in \u001b[0;36m__call__\u001b[0;34m(self, *args, **kwargs)\u001b[0m\n\u001b[1;32m    124\u001b[0m                 \u001b[0mnew_kwargs\u001b[0m\u001b[0;34m[\u001b[0m\u001b[0mk\u001b[0m\u001b[0;34m]\u001b[0m \u001b[0;34m=\u001b[0m \u001b[0mconversion\u001b[0m\u001b[0;34m.\u001b[0m\u001b[0mpy2rpy\u001b[0m\u001b[0;34m(\u001b[0m\u001b[0mv\u001b[0m\u001b[0;34m)\u001b[0m\u001b[0;34m\u001b[0m\u001b[0;34m\u001b[0m\u001b[0m\n\u001b[0;32m--> 125\u001b[0;31m         \u001b[0mres\u001b[0m \u001b[0;34m=\u001b[0m \u001b[0msuper\u001b[0m\u001b[0;34m(\u001b[0m\u001b[0mFunction\u001b[0m\u001b[0;34m,\u001b[0m \u001b[0mself\u001b[0m\u001b[0;34m)\u001b[0m\u001b[0;34m.\u001b[0m\u001b[0m__call__\u001b[0m\u001b[0;34m(\u001b[0m\u001b[0;34m*\u001b[0m\u001b[0mnew_args\u001b[0m\u001b[0;34m,\u001b[0m \u001b[0;34m**\u001b[0m\u001b[0mnew_kwargs\u001b[0m\u001b[0;34m)\u001b[0m\u001b[0;34m\u001b[0m\u001b[0;34m\u001b[0m\u001b[0m\n\u001b[0m\u001b[1;32m    126\u001b[0m         \u001b[0mres\u001b[0m \u001b[0;34m=\u001b[0m \u001b[0mconversion\u001b[0m\u001b[0;34m.\u001b[0m\u001b[0mrpy2py\u001b[0m\u001b[0;34m(\u001b[0m\u001b[0mres\u001b[0m\u001b[0;34m)\u001b[0m\u001b[0;34m\u001b[0m\u001b[0;34m\u001b[0m\u001b[0m\n",
            "\u001b[0;32m/usr/local/lib/python3.7/dist-packages/rpy2/rinterface_lib/conversion.py\u001b[0m in \u001b[0;36m_\u001b[0;34m(*args, **kwargs)\u001b[0m\n\u001b[1;32m     44\u001b[0m     \u001b[0;32mdef\u001b[0m \u001b[0m_\u001b[0m\u001b[0;34m(\u001b[0m\u001b[0;34m*\u001b[0m\u001b[0margs\u001b[0m\u001b[0;34m,\u001b[0m \u001b[0;34m**\u001b[0m\u001b[0mkwargs\u001b[0m\u001b[0;34m)\u001b[0m\u001b[0;34m:\u001b[0m\u001b[0;34m\u001b[0m\u001b[0;34m\u001b[0m\u001b[0m\n\u001b[0;32m---> 45\u001b[0;31m         \u001b[0mcdata\u001b[0m \u001b[0;34m=\u001b[0m \u001b[0mfunction\u001b[0m\u001b[0;34m(\u001b[0m\u001b[0;34m*\u001b[0m\u001b[0margs\u001b[0m\u001b[0;34m,\u001b[0m \u001b[0;34m**\u001b[0m\u001b[0mkwargs\u001b[0m\u001b[0;34m)\u001b[0m\u001b[0;34m\u001b[0m\u001b[0;34m\u001b[0m\u001b[0m\n\u001b[0m\u001b[1;32m     46\u001b[0m         \u001b[0;31m# TODO: test cdata is of the expected CType\u001b[0m\u001b[0;34m\u001b[0m\u001b[0;34m\u001b[0m\u001b[0;34m\u001b[0m\u001b[0m\n",
            "\u001b[0;32m/usr/local/lib/python3.7/dist-packages/rpy2/rinterface.py\u001b[0m in \u001b[0;36m__call__\u001b[0;34m(self, *args, **kwargs)\u001b[0m\n\u001b[1;32m    679\u001b[0m             \u001b[0;32mif\u001b[0m \u001b[0merror_occured\u001b[0m\u001b[0;34m[\u001b[0m\u001b[0;36m0\u001b[0m\u001b[0;34m]\u001b[0m\u001b[0;34m:\u001b[0m\u001b[0;34m\u001b[0m\u001b[0;34m\u001b[0m\u001b[0m\n\u001b[0;32m--> 680\u001b[0;31m                 \u001b[0;32mraise\u001b[0m \u001b[0membedded\u001b[0m\u001b[0;34m.\u001b[0m\u001b[0mRRuntimeError\u001b[0m\u001b[0;34m(\u001b[0m\u001b[0m_rinterface\u001b[0m\u001b[0;34m.\u001b[0m\u001b[0m_geterrmessage\u001b[0m\u001b[0;34m(\u001b[0m\u001b[0;34m)\u001b[0m\u001b[0;34m)\u001b[0m\u001b[0;34m\u001b[0m\u001b[0;34m\u001b[0m\u001b[0m\n\u001b[0m\u001b[1;32m    681\u001b[0m         \u001b[0;32mreturn\u001b[0m \u001b[0mres\u001b[0m\u001b[0;34m\u001b[0m\u001b[0;34m\u001b[0m\u001b[0m\n",
            "\u001b[0;31mRRuntimeError\u001b[0m: Error in extract(fit) : object of type 'S4' is not subsettable\n",
            "\nDuring handling of the above exception, another exception occurred:\n",
            "\u001b[0;31mRInterpreterError\u001b[0m                         Traceback (most recent call last)",
            "\u001b[0;32m<ipython-input-78-2841fb8541d2>\u001b[0m in \u001b[0;36m<module>\u001b[0;34m\u001b[0m\n\u001b[0;32m----> 1\u001b[0;31m \u001b[0mget_ipython\u001b[0m\u001b[0;34m(\u001b[0m\u001b[0;34m)\u001b[0m\u001b[0;34m.\u001b[0m\u001b[0mrun_cell_magic\u001b[0m\u001b[0;34m(\u001b[0m\u001b[0;34m'R'\u001b[0m\u001b[0;34m,\u001b[0m \u001b[0;34m''\u001b[0m\u001b[0;34m,\u001b[0m \u001b[0;34m'posterior <- extract(fit)\\nstr(posterior)\\n'\u001b[0m\u001b[0;34m)\u001b[0m\u001b[0;34m\u001b[0m\u001b[0;34m\u001b[0m\u001b[0m\n\u001b[0m",
            "\u001b[0;32m/usr/local/lib/python3.7/dist-packages/IPython/core/interactiveshell.py\u001b[0m in \u001b[0;36mrun_cell_magic\u001b[0;34m(self, magic_name, line, cell)\u001b[0m\n\u001b[1;32m   2357\u001b[0m             \u001b[0;32mwith\u001b[0m \u001b[0mself\u001b[0m\u001b[0;34m.\u001b[0m\u001b[0mbuiltin_trap\u001b[0m\u001b[0;34m:\u001b[0m\u001b[0;34m\u001b[0m\u001b[0;34m\u001b[0m\u001b[0m\n\u001b[1;32m   2358\u001b[0m                 \u001b[0margs\u001b[0m \u001b[0;34m=\u001b[0m \u001b[0;34m(\u001b[0m\u001b[0mmagic_arg_s\u001b[0m\u001b[0;34m,\u001b[0m \u001b[0mcell\u001b[0m\u001b[0;34m)\u001b[0m\u001b[0;34m\u001b[0m\u001b[0;34m\u001b[0m\u001b[0m\n\u001b[0;32m-> 2359\u001b[0;31m                 \u001b[0mresult\u001b[0m \u001b[0;34m=\u001b[0m \u001b[0mfn\u001b[0m\u001b[0;34m(\u001b[0m\u001b[0;34m*\u001b[0m\u001b[0margs\u001b[0m\u001b[0;34m,\u001b[0m \u001b[0;34m**\u001b[0m\u001b[0mkwargs\u001b[0m\u001b[0;34m)\u001b[0m\u001b[0;34m\u001b[0m\u001b[0;34m\u001b[0m\u001b[0m\n\u001b[0m\u001b[1;32m   2360\u001b[0m             \u001b[0;32mreturn\u001b[0m \u001b[0mresult\u001b[0m\u001b[0;34m\u001b[0m\u001b[0;34m\u001b[0m\u001b[0m\n\u001b[1;32m   2361\u001b[0m \u001b[0;34m\u001b[0m\u001b[0m\n",
            "\u001b[0;32m<decorator-gen-122>\u001b[0m in \u001b[0;36mR\u001b[0;34m(self, line, cell, local_ns)\u001b[0m\n",
            "\u001b[0;32m/usr/local/lib/python3.7/dist-packages/IPython/core/magic.py\u001b[0m in \u001b[0;36m<lambda>\u001b[0;34m(f, *a, **k)\u001b[0m\n\u001b[1;32m    185\u001b[0m     \u001b[0;31m# but it's overkill for just that one bit of state.\u001b[0m\u001b[0;34m\u001b[0m\u001b[0;34m\u001b[0m\u001b[0;34m\u001b[0m\u001b[0m\n\u001b[1;32m    186\u001b[0m     \u001b[0;32mdef\u001b[0m \u001b[0mmagic_deco\u001b[0m\u001b[0;34m(\u001b[0m\u001b[0marg\u001b[0m\u001b[0;34m)\u001b[0m\u001b[0;34m:\u001b[0m\u001b[0;34m\u001b[0m\u001b[0;34m\u001b[0m\u001b[0m\n\u001b[0;32m--> 187\u001b[0;31m         \u001b[0mcall\u001b[0m \u001b[0;34m=\u001b[0m \u001b[0;32mlambda\u001b[0m \u001b[0mf\u001b[0m\u001b[0;34m,\u001b[0m \u001b[0;34m*\u001b[0m\u001b[0ma\u001b[0m\u001b[0;34m,\u001b[0m \u001b[0;34m**\u001b[0m\u001b[0mk\u001b[0m\u001b[0;34m:\u001b[0m \u001b[0mf\u001b[0m\u001b[0;34m(\u001b[0m\u001b[0;34m*\u001b[0m\u001b[0ma\u001b[0m\u001b[0;34m,\u001b[0m \u001b[0;34m**\u001b[0m\u001b[0mk\u001b[0m\u001b[0;34m)\u001b[0m\u001b[0;34m\u001b[0m\u001b[0;34m\u001b[0m\u001b[0m\n\u001b[0m\u001b[1;32m    188\u001b[0m \u001b[0;34m\u001b[0m\u001b[0m\n\u001b[1;32m    189\u001b[0m         \u001b[0;32mif\u001b[0m \u001b[0mcallable\u001b[0m\u001b[0;34m(\u001b[0m\u001b[0marg\u001b[0m\u001b[0;34m)\u001b[0m\u001b[0;34m:\u001b[0m\u001b[0;34m\u001b[0m\u001b[0;34m\u001b[0m\u001b[0m\n",
            "\u001b[0;32m/usr/local/lib/python3.7/dist-packages/rpy2/ipython/rmagic.py\u001b[0m in \u001b[0;36mR\u001b[0;34m(self, line, cell, local_ns)\u001b[0m\n\u001b[1;32m    781\u001b[0m             \u001b[0;32mif\u001b[0m \u001b[0;32mnot\u001b[0m \u001b[0me\u001b[0m\u001b[0;34m.\u001b[0m\u001b[0mstdout\u001b[0m\u001b[0;34m.\u001b[0m\u001b[0mendswith\u001b[0m\u001b[0;34m(\u001b[0m\u001b[0me\u001b[0m\u001b[0;34m.\u001b[0m\u001b[0merr\u001b[0m\u001b[0;34m)\u001b[0m\u001b[0;34m:\u001b[0m\u001b[0;34m\u001b[0m\u001b[0;34m\u001b[0m\u001b[0m\n\u001b[1;32m    782\u001b[0m                 \u001b[0mprint\u001b[0m\u001b[0;34m(\u001b[0m\u001b[0me\u001b[0m\u001b[0;34m.\u001b[0m\u001b[0merr\u001b[0m\u001b[0;34m)\u001b[0m\u001b[0;34m\u001b[0m\u001b[0;34m\u001b[0m\u001b[0m\n\u001b[0;32m--> 783\u001b[0;31m             \u001b[0;32mraise\u001b[0m \u001b[0me\u001b[0m\u001b[0;34m\u001b[0m\u001b[0;34m\u001b[0m\u001b[0m\n\u001b[0m\u001b[1;32m    784\u001b[0m         \u001b[0;32mfinally\u001b[0m\u001b[0;34m:\u001b[0m\u001b[0;34m\u001b[0m\u001b[0;34m\u001b[0m\u001b[0m\n\u001b[1;32m    785\u001b[0m             \u001b[0;32mif\u001b[0m \u001b[0mself\u001b[0m\u001b[0;34m.\u001b[0m\u001b[0mdevice\u001b[0m \u001b[0;32min\u001b[0m \u001b[0;34m[\u001b[0m\u001b[0;34m'png'\u001b[0m\u001b[0;34m,\u001b[0m \u001b[0;34m'svg'\u001b[0m\u001b[0;34m]\u001b[0m\u001b[0;34m:\u001b[0m\u001b[0;34m\u001b[0m\u001b[0;34m\u001b[0m\u001b[0m\n",
            "\u001b[0;32m/usr/local/lib/python3.7/dist-packages/rpy2/ipython/rmagic.py\u001b[0m in \u001b[0;36mR\u001b[0;34m(self, line, cell, local_ns)\u001b[0m\n\u001b[1;32m    761\u001b[0m                     \u001b[0mreturn_output\u001b[0m \u001b[0;34m=\u001b[0m \u001b[0;32mFalse\u001b[0m\u001b[0;34m\u001b[0m\u001b[0;34m\u001b[0m\u001b[0m\n\u001b[1;32m    762\u001b[0m             \u001b[0;32melse\u001b[0m\u001b[0;34m:\u001b[0m\u001b[0;34m\u001b[0m\u001b[0;34m\u001b[0m\u001b[0m\n\u001b[0;32m--> 763\u001b[0;31m                 \u001b[0mtext_result\u001b[0m\u001b[0;34m,\u001b[0m \u001b[0mresult\u001b[0m\u001b[0;34m,\u001b[0m \u001b[0mvisible\u001b[0m \u001b[0;34m=\u001b[0m \u001b[0mself\u001b[0m\u001b[0;34m.\u001b[0m\u001b[0meval\u001b[0m\u001b[0;34m(\u001b[0m\u001b[0mcode\u001b[0m\u001b[0;34m)\u001b[0m\u001b[0;34m\u001b[0m\u001b[0;34m\u001b[0m\u001b[0m\n\u001b[0m\u001b[1;32m    764\u001b[0m                 \u001b[0mtext_output\u001b[0m \u001b[0;34m+=\u001b[0m \u001b[0mtext_result\u001b[0m\u001b[0;34m\u001b[0m\u001b[0;34m\u001b[0m\u001b[0m\n\u001b[1;32m    765\u001b[0m                 \u001b[0;32mif\u001b[0m \u001b[0mvisible\u001b[0m\u001b[0;34m:\u001b[0m\u001b[0;34m\u001b[0m\u001b[0;34m\u001b[0m\u001b[0m\n",
            "\u001b[0;32m/usr/local/lib/python3.7/dist-packages/rpy2/ipython/rmagic.py\u001b[0m in \u001b[0;36meval\u001b[0;34m(self, code)\u001b[0m\n\u001b[1;32m    271\u001b[0m                 \u001b[0mwarning_or_other_msg\u001b[0m \u001b[0;34m=\u001b[0m \u001b[0mself\u001b[0m\u001b[0;34m.\u001b[0m\u001b[0mflush\u001b[0m\u001b[0;34m(\u001b[0m\u001b[0;34m)\u001b[0m\u001b[0;34m\u001b[0m\u001b[0;34m\u001b[0m\u001b[0m\n\u001b[1;32m    272\u001b[0m                 raise RInterpreterError(code, str(exception),\n\u001b[0;32m--> 273\u001b[0;31m                                         warning_or_other_msg)\n\u001b[0m\u001b[1;32m    274\u001b[0m             \u001b[0mtext_output\u001b[0m \u001b[0;34m=\u001b[0m \u001b[0mself\u001b[0m\u001b[0;34m.\u001b[0m\u001b[0mflush\u001b[0m\u001b[0;34m(\u001b[0m\u001b[0;34m)\u001b[0m\u001b[0;34m\u001b[0m\u001b[0;34m\u001b[0m\u001b[0m\n\u001b[1;32m    275\u001b[0m             \u001b[0;32mreturn\u001b[0m \u001b[0mtext_output\u001b[0m\u001b[0;34m,\u001b[0m \u001b[0mvalue\u001b[0m\u001b[0;34m,\u001b[0m \u001b[0mvisible\u001b[0m\u001b[0;34m[\u001b[0m\u001b[0;36m0\u001b[0m\u001b[0;34m]\u001b[0m\u001b[0;34m\u001b[0m\u001b[0;34m\u001b[0m\u001b[0m\n",
            "\u001b[0;31mRInterpreterError\u001b[0m: Failed to parse and evaluate line 'posterior <- extract(fit)\\nstr(posterior)\\n'.\nR error message: \"Error in extract(fit) : object of type 'S4' is not subsettable\""
          ]
        }
      ]
    },
    {
      "cell_type": "code",
      "source": [
        "%%R\n",
        "glm1 <- glm(formula = Ano ~ Dia + Temp..Estator.Fase.U + Temp..Estator.Fase.WA + offset(log(Temp..Oleo.ULF)),\n",
        "            family = poisson(link = \"log\"),\n",
        "            data = df)\n",
        "summary(glm1)"
      ],
      "metadata": {
        "id": "sR_ksaCwgjSP"
      },
      "execution_count": null,
      "outputs": []
    }
  ]
}