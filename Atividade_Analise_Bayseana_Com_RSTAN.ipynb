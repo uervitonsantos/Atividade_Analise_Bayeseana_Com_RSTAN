{
  "nbformat": 4,
  "nbformat_minor": 0,
  "metadata": {
    "colab": {
      "provenance": [],
      "toc_visible": true,
      "mount_file_id": "1fXuRd_i4nMSCTLZjrZgZx1ZxCIe8miU1",
      "authorship_tag": "ABX9TyMtcwIFpCdTs/mJZpIeid0s",
      "include_colab_link": true
    },
    "kernelspec": {
      "name": "python3",
      "display_name": "Python 3"
    },
    "language_info": {
      "name": "python"
    }
  },
  "cells": [
    {
      "cell_type": "markdown",
      "metadata": {
        "id": "view-in-github",
        "colab_type": "text"
      },
      "source": [
        "<a href=\"https://colab.research.google.com/github/uervitonsantos/Atividade_Analise_Bayeseana_Com_RSTAN/blob/main/Atividade_Analise_Bayseana_Com_RSTAN.ipynb\" target=\"_parent\"><img src=\"https://colab.research.google.com/assets/colab-badge.svg\" alt=\"Open In Colab\"/></a>"
      ]
    },
    {
      "cell_type": "markdown",
      "source": [
        "#Atividade de analise inferencial Bayseana com RStan aplicado em um conjundo de dados de confiabilidade de motores\n",
        "\n",
        "Tutorial de referencia: https://ourcodingclub.github.io/tutorials/stan-intro/\n",
        "\n",
        "Bayesian Model with RStan: https://www.kaggle.com/code/dhafer/bayesian-model-with-rstan\n",
        "\n",
        "\n",
        "Fonte dos dados: https://www.kaggle.com/datasets/eduardopoleze/parmetros-operacionais-bombamotor-eltrico\n",
        "\n",
        "Estatística Bayesiana com R e Stan. prof. José Eduardo Storopoli: https://www.youtube.com/watch?v=m_kJwaL2KHQ&list=PLpTXaEnTpmwNwBwwwLTDmCLekoUPtc0cP&index=10\n",
        "\n",
        "Aula Inferência Bayesiana com prof. Gustavo Ferreira: https://www.youtube.com/watch?v=YKZ1euMRsbs&list=PL5nbzsxqG2FPrVmqbLafXqOrE3djThquN\n",
        "\n"
      ],
      "metadata": {
        "id": "RiMTbF6rdYI5"
      }
    },
    {
      "cell_type": "code",
      "source": [
        "%load_ext rpy2.ipython"
      ],
      "metadata": {
        "id": "9EbeZj5aC0-R"
      },
      "execution_count": null,
      "outputs": []
    },
    {
      "cell_type": "code",
      "source": [
        "# run the next line if you already have rstan installed\n",
        "# remove.packages(c(\"StanHeaders\", \"rstan\"))\n",
        "%%R\n",
        "install.packages(\"rstan\", repos = c(\"https://mc-stan.org/r-packages/\", getOption(\"repos\")))"
      ],
      "metadata": {
        "id": "oLY3ueR7LE1d"
      },
      "execution_count": null,
      "outputs": []
    },
    {
      "cell_type": "code",
      "source": [
        "%%R\n",
        "library(\"rstan\") # observe startup messages\n",
        "library(\"bayesplot\")\n",
        "library(\"ggplot2\")\n",
        "library(\"dplyr\")\n",
        "library(\"magrittr\")\n",
        "#library(\"ISwR\")"
      ],
      "metadata": {
        "id": "jp_z4QnEN84H"
      },
      "execution_count": 20,
      "outputs": []
    },
    {
      "cell_type": "code",
      "source": [
        "%%R\n",
        "df <- read.csv(\"/content/drive/MyDrive/Colab Notebooks/DateSet/Dataset_Motor_Bomba_3.csv\", header = TRUE, sep = \";\", dec = \",\")\n",
        "head(df)"
      ],
      "metadata": {
        "id": "xkuMbnDvgFaV"
      },
      "execution_count": null,
      "outputs": []
    },
    {
      "cell_type": "code",
      "source": [
        "%%R\n",
        "names(df)"
      ],
      "metadata": {
        "colab": {
          "base_uri": "https://localhost:8080/"
        },
        "id": "M3iLwNxSR-Tx",
        "outputId": "9b3ef0fc-d9fa-4bb9-ad81-c797f9593266"
      },
      "execution_count": 25,
      "outputs": [
        {
          "output_type": "stream",
          "name": "stdout",
          "text": [
            " [1] \"Data\"                            \"Hora\"                           \n",
            " [3] \"Temp..Estator.Fase.WA\"           \"Temp..Estator.Fase.WB\"          \n",
            " [5] \"Vibração.Bomba.LA\"               \"Vazão.Bomba\"                    \n",
            " [7] \"Corrente\"                        \"Pressão.Desc.\"                  \n",
            " [9] \"Pressão.Suc\"                     \"Posição.FCV\"                    \n",
            "[11] \"Temp..externo.mancal.escora.LNA\" \"Temp..interno.mancal.escora.LNA\"\n",
            "[13] \"Pressão.Selo.LA\"                 \"Pressão.Selo.LNA\"               \n",
            "[15] \"Temp..mancal.LA.bomba\"           \"Temp..mancal.LA.motor\"          \n",
            "[17] \"Temp..mancal.LNA.bomba\"          \"Temp..mancal.LNA.motor\"         \n",
            "[19] \"Temp..Oleo.ULF\"                 \n"
          ]
        }
      ]
    },
    {
      "cell_type": "code",
      "source": [
        "%%R\n",
        "glm1 <- glm(formula = Pressão.Suc ~ Data + Temp..Oleo.ULF + offset(log(Pressão.Selo.LNA)),\n",
        "            family  = poisson(link = \"log\"),\n",
        "            data    = df)\n",
        "summary(glm1)"
      ],
      "metadata": {
        "id": "sR_ksaCwgjSP"
      },
      "execution_count": null,
      "outputs": []
    },
    {
      "cell_type": "code",
      "source": [
        "%%R\n",
        "str(df)"
      ],
      "metadata": {
        "colab": {
          "base_uri": "https://localhost:8080/"
        },
        "id": "J_mI9Us3etkd",
        "outputId": "53750326-c89b-476a-c515-02b1f949b4a6"
      },
      "execution_count": 26,
      "outputs": [
        {
          "output_type": "stream",
          "name": "stdout",
          "text": [
            "'data.frame':\t1028881 obs. of  19 variables:\n",
            " $ Data                           : chr  \"02.01.2016\" \"02.01.2016\" \"02.01.2016\" \"02.01.2016\" ...\n",
            " $ Hora                           : chr  \"0:00:00\" \"0:02:00\" \"0:04:00\" \"0:06:00\" ...\n",
            " $ Temp..Estator.Fase.WA          : num  36.6 36.6 36.6 36.5 36.5 ...\n",
            " $ Temp..Estator.Fase.WB          : num  38.8 38.8 38.8 38.7 38.7 ...\n",
            " $ Vibração.Bomba.LA              : num  0 0 0.0367 0 0 ...\n",
            " $ Vazão.Bomba                    : num  0 0 0 0 0 0 0 0 0 0 ...\n",
            " $ Corrente                       : num  0 0 0 0 0 0 0 0 0 0 ...\n",
            " $ Pressão.Desc.                  : num  0.203 0.203 0.203 0.203 0.203 ...\n",
            " $ Pressão.Suc                    : num  0 0 0 0 0 0 0 0 0 0 ...\n",
            " $ Posição.FCV                    : int  0 0 0 0 0 0 0 0 0 0 ...\n",
            " $ Temp..externo.mancal.escora.LNA: num  20.7 20.7 20.7 20.7 20.7 ...\n",
            " $ Temp..interno.mancal.escora.LNA: num  21 21 21 21 20.9 ...\n",
            " $ Pressão.Selo.LA                : num  0 0 0 0 0 0 0 0 0 0 ...\n",
            " $ Pressão.Selo.LNA               : num  0 0 0 0 0 0 0 0 0 0 ...\n",
            " $ Temp..mancal.LA.bomba          : num  23.1 23.1 23.1 23.1 23.1 ...\n",
            " $ Temp..mancal.LA.motor          : num  29.4 29.4 29.3 29.3 29.3 ...\n",
            " $ Temp..mancal.LNA.bomba         : num  17 17 17 17 17 ...\n",
            " $ Temp..mancal.LNA.motor         : num  25.2 25.2 25.2 25.2 25.2 ...\n",
            " $ Temp..Oleo.ULF                 : num  21.4 21.4 21.4 21.4 21.4 ...\n"
          ]
        }
      ]
    },
    {
      "cell_type": "code",
      "source": [
        "%%R\n",
        "lm1 <- lm(Pressão.Suc ~ Pressão.Selo.LNA, data = df)\n",
        "summary(lm1)"
      ],
      "metadata": {
        "id": "NPuPRDiKaTQo",
        "colab": {
          "base_uri": "https://localhost:8080/"
        },
        "outputId": "98bb1605-f5a5-434f-d8df-b0f0bc38cff1"
      },
      "execution_count": 17,
      "outputs": [
        {
          "output_type": "stream",
          "name": "stdout",
          "text": [
            "\n",
            "Call:\n",
            "lm(formula = Pressão.Suc ~ Pressão.Selo.LNA, data = df)\n",
            "\n",
            "Residuals:\n",
            "    Min      1Q  Median      3Q     Max \n",
            "-9.7950 -0.0296  0.0380  0.0804  9.9098 \n",
            "\n",
            "Coefficients:\n",
            "                   Estimate Std. Error t value Pr(>|t|)    \n",
            "(Intercept)      -0.0135986  0.0005317  -25.58   <2e-16 ***\n",
            "Pressão.Selo.LNA  0.9808560  0.0001576 6224.87   <2e-16 ***\n",
            "---\n",
            "Signif. codes:  0 ‘***’ 0.001 ‘**’ 0.01 ‘*’ 0.05 ‘.’ 0.1 ‘ ’ 1\n",
            "\n",
            "Residual standard error: 0.3685 on 1028879 degrees of freedom\n",
            "Multiple R-squared:  0.9741,\tAdjusted R-squared:  0.9741 \n",
            "F-statistic: 3.875e+07 on 1 and 1028879 DF,  p-value: < 2.2e-16\n",
            "\n"
          ]
        }
      ]
    },
    {
      "cell_type": "code",
      "source": [
        "%%R\n",
        "plot(Pressão.Suc ~ Pressão.Selo.LNA, pch = 20, data = df)\n",
        "abline(lm1, col = 2, lty = 2, lw = 3)"
      ],
      "metadata": {
        "colab": {
          "base_uri": "https://localhost:8080/",
          "height": 497
        },
        "id": "HMQXbTIw0ZWA",
        "outputId": "48576771-cb56-4786-fb81-726ace2479e2"
      },
      "execution_count": 18,
      "outputs": [
        {
          "output_type": "display_data",
          "data": {
            "image/png": "[encoded data removed]"
          },
          "metadata": {}
        }
      ]
    },
    {
      "cell_type": "code",
      "source": [
        "%%R\n",
        "abline(lm1, col = 2, lty = 2, lw = 3)"
      ],
      "metadata": {
        "id": "idnMWyPOaxil"
      },
      "execution_count": null,
      "outputs": []
    }
  ]
}