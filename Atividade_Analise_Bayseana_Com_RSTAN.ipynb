{
  "nbformat": 4,
  "nbformat_minor": 0,
  "metadata": {
    "colab": {
      "provenance": [],
      "mount_file_id": "https://github.com/uervitonsantos/Atividade_Analise_Bayseana_Com_RSTAN/blob/main/Atividade_Analise_Bayseana_Com_RSTAN.ipynb",
      "authorship_tag": "ABX9TyNdfZyLg4ceKZB/XiHj3ekc",
      "include_colab_link": true
    },
    "kernelspec": {
      "name": "python3",
      "display_name": "Python 3"
    },
    "language_info": {
      "name": "python"
    },
    "gpuClass": "standard"
  },
  "cells": [
    {
      "cell_type": "markdown",
      "metadata": {
        "id": "view-in-github",
        "colab_type": "text"
      },
      "source": [
        "<a href=\"https://colab.research.google.com/github/uervitonsantos/Atividade_Analise_Bayeseana_Com_RSTAN/blob/main/Atividade_Analise_Bayseana_Com_RSTAN.ipynb\" target=\"_parent\"><img src=\"https://colab.research.google.com/assets/colab-badge.svg\" alt=\"Open In Colab\"/></a>"
      ]
    },
    {
      "cell_type": "markdown",
      "source": [
        "#Atividade de analise inferencial Bayseana com RStan aplicado em um conjundo de dados de confiabilidade de motores\n",
        "\n",
        "Tutorial de referencia: https://ourcodingclub.github.io/tutorials/stan-intro/\n",
        "\n",
        "Bayesian Model with RStan: https://www.kaggle.com/code/dhafer/bayesian-model-with-rstan\n",
        "\n",
        "\n",
        "Fonte dos dados: https://www.kaggle.com/datasets/eduardopoleze/parmetros-operacionais-bombamotor-eltrico\n",
        "\n",
        "Estatística Bayesiana com R e Stan. prof. José Eduardo Storopoli: https://www.youtube.com/watch?v=m_kJwaL2KHQ&list=PLpTXaEnTpmwNwBwwwLTDmCLekoUPtc0cP&index=10\n",
        "\n",
        "Aula Inferência Bayesiana com prof. Gustavo Ferreira: https://www.youtube.com/watch?v=YKZ1euMRsbs&list=PL5nbzsxqG2FPrVmqbLafXqOrE3djThquN\n",
        "\n",
        "Poisson regression in Stan: https://rpubs.com/kaz_yos/stan-pois1\n",
        "\n",
        " Discoveries data revisited: https://study.sagepub.com/sites/default/files/chapter16.pdf\n",
        "\n",
        "Beginners Exercise: Bayesian computation with Stan and Farmer Jöns: https://www.sumsar.net/files/posts/2017-01-15-bayesian-computation-with-stan-and-farmer-jons/stan_exercise.html\n",
        "\n",
        "\n",
        "https://mc-stan.org/\n",
        "\n",
        "http://mc-stan.org/bayesplot/\n",
        "\n",
        "https://mc-stan.org/rstanarm/articles/rstanarm.html\n",
        "\n"
      ],
      "metadata": {
        "id": "RiMTbF6rdYI5"
      }
    },
    {
      "cell_type": "code",
      "source": [
        "!pip install rpy2==3.5.4"
      ],
      "metadata": {
        "id": "u9Iyjaezvgg5",
        "outputId": "4eb59195-72ce-4310-c130-15233f82b256",
        "colab": {
          "base_uri": "https://localhost:8080/"
        }
      },
      "execution_count": 1,
      "outputs": [
        {
          "output_type": "stream",
          "name": "stdout",
          "text": [
            "Looking in indexes: https://pypi.org/simple, https://us-python.pkg.dev/colab-wheels/public/simple/\n",
            "Requirement already satisfied: rpy2==3.5.4 in /usr/local/lib/python3.7/dist-packages (3.5.4)\n",
            "Requirement already satisfied: pytz in /usr/local/lib/python3.7/dist-packages (from rpy2==3.5.4) (2022.5)\n",
            "Requirement already satisfied: typing-extensions in /usr/local/lib/python3.7/dist-packages (from rpy2==3.5.4) (4.1.1)\n",
            "Requirement already satisfied: tzlocal in /usr/local/lib/python3.7/dist-packages (from rpy2==3.5.4) (1.5.1)\n",
            "Requirement already satisfied: jinja2 in /usr/local/lib/python3.7/dist-packages (from rpy2==3.5.4) (2.11.3)\n",
            "Requirement already satisfied: cffi>=1.10.0 in /usr/local/lib/python3.7/dist-packages (from rpy2==3.5.4) (1.15.1)\n",
            "Requirement already satisfied: pycparser in /usr/local/lib/python3.7/dist-packages (from cffi>=1.10.0->rpy2==3.5.4) (2.21)\n",
            "Requirement already satisfied: MarkupSafe>=0.23 in /usr/local/lib/python3.7/dist-packages (from jinja2->rpy2==3.5.4) (2.0.1)\n"
          ]
        }
      ]
    },
    {
      "cell_type": "code",
      "source": [
        "%load_ext rpy2.ipython"
      ],
      "metadata": {
        "id": "INhfT8sAufjf"
      },
      "execution_count": 2,
      "outputs": []
    },
    {
      "cell_type": "code",
      "source": [
        "# Change 2 to however many cores you can/want to use to parallelize install\n",
        "# If you experience crashes or run out RAM during installation, try changing this to 1\n",
        "%%R\n",
        "Sys.setenv(MAKEFLAGS = \"-j2\")\n",
        "Sys.setenv(\"R_REMOTES_NO_ERRORS_FROM_WARNINGS\" = \"true\")\n",
        "remotes::install_github(\"stan-dev/rstanarm\", INSTALL_opts = \"--no-multiarch\", force = TRUE)"
      ],
      "metadata": {
        "id": "oLY3ueR7LE1d"
      },
      "execution_count": 3,
      "outputs": []
    },
    {
      "cell_type": "code",
      "source": [
        "%%R\n",
        "install.packages(\"gdata\")"
      ],
      "metadata": {
        "id": "NqETbKMZFUl3"
      },
      "execution_count": null,
      "outputs": []
    },
    {
      "cell_type": "code",
      "source": [
        "%%R\n",
        "library(rstan) # observe startup messages\n",
        "library(bayesplot)\n",
        "library(ggplot2)\n",
        "library(dplyr)\n",
        "library(magrittr)\n",
        "library(gdata)"
      ],
      "metadata": {
        "id": "jp_z4QnEN84H"
      },
      "execution_count": null,
      "outputs": []
    },
    {
      "cell_type": "code",
      "source": [
        "%%R\n",
        "df <- read.csv(\"/content/drive/MyDrive/Colab Notebooks/DateSet/Motor_Bomba_1.csv\", header = TRUE, sep = \";\", dec = \",\")\n",
        "head(df)"
      ],
      "metadata": {
        "id": "xkuMbnDvgFaV",
        "colab": {
          "base_uri": "https://localhost:8080/"
        },
        "outputId": "a589fcf0-ccf9-44e0-a75f-cb0895f8445b"
      },
      "execution_count": 6,
      "outputs": [
        {
          "output_type": "stream",
          "name": "stdout",
          "text": [
            "   Ano Dia Temp..Estator.Fase.U Temp..Estator.Fase.V Temp..Estator.Fase.WA\n",
            "1 2016   1             38.13657             39.87268              36.57407\n",
            "2 2016   2             38.13657             39.87268              36.57407\n",
            "3 2016   3             38.13657             39.87268              36.57407\n",
            "4 2016   4             38.02083             39.75694              36.51620\n",
            "5 2016   5             38.02083             39.75694              36.51620\n",
            "6 2016   6             37.96296             39.69907              36.51620\n",
            "  Temp..Estator.Fase.WB Vibração.Bomba.LA Vazão.Bomba Corrente Pressão.Desc.\n",
            "1              38.77315        0.00000000           0        0     0.2025463\n",
            "2              38.77315        0.00000000           0        0     0.2025463\n",
            "3              38.77315        0.03674769           0        0     0.2025463\n",
            "4              38.71528        0.00000000           0        0     0.2025463\n",
            "5              38.71528        0.00000000           0        0     0.2025463\n",
            "6              38.59954        0.00000000           0        0     0.2025463\n",
            "  Pressão.Suc Posição.FCV Temp..externo.mancal.escora.LNA\n",
            "1           0           0                        20.70313\n",
            "2           0           0                        20.70313\n",
            "3           0           0                        20.70313\n",
            "4           0           0                        20.70313\n",
            "5           0           0                        20.70313\n",
            "6           0           0                        20.70313\n",
            "  Temp..interno.mancal.escora.LNA Pressão.Selo.LA Pressão.Selo.LNA\n",
            "1                        21.00694               0                0\n",
            "2                        21.00694               0                0\n",
            "3                        21.00694               0                0\n",
            "4                        21.00694               0                0\n",
            "5                        20.92014               0                0\n",
            "6                        20.92014               0                0\n",
            "  Temp..mancal.LA.bomba Temp..mancal.LA.motor Temp..mancal.LNA.bomba\n",
            "1              23.09028              29.38368               17.01389\n",
            "2              23.09028              29.38368               17.01389\n",
            "3              23.09028              29.34028               17.01389\n",
            "4              23.09028              29.34028               16.97049\n",
            "5              23.09028              29.34028               16.97049\n",
            "6              23.09028              29.34028               16.97049\n",
            "  Temp..mancal.LNA.motor Temp..Oleo.ULF\n",
            "1               25.17361       21.35417\n",
            "2               25.17361       21.35417\n",
            "3               25.17361       21.35417\n",
            "4               25.17361       21.35417\n",
            "5               25.17361       21.35417\n",
            "6               25.13021       21.35417\n"
          ]
        }
      ]
    },
    {
      "cell_type": "code",
      "source": [
        "%%R\n",
        "names(df)"
      ],
      "metadata": {
        "colab": {
          "base_uri": "https://localhost:8080/"
        },
        "id": "M3iLwNxSR-Tx",
        "outputId": "2b0170dc-2c74-43ea-a178-519aa26f5b77"
      },
      "execution_count": 7,
      "outputs": [
        {
          "output_type": "stream",
          "name": "stdout",
          "text": [
            " [1] \"Ano\"                             \"Dia\"                            \n",
            " [3] \"Temp..Estator.Fase.U\"            \"Temp..Estator.Fase.V\"           \n",
            " [5] \"Temp..Estator.Fase.WA\"           \"Temp..Estator.Fase.WB\"          \n",
            " [7] \"Vibração.Bomba.LA\"               \"Vazão.Bomba\"                    \n",
            " [9] \"Corrente\"                        \"Pressão.Desc.\"                  \n",
            "[11] \"Pressão.Suc\"                     \"Posição.FCV\"                    \n",
            "[13] \"Temp..externo.mancal.escora.LNA\" \"Temp..interno.mancal.escora.LNA\"\n",
            "[15] \"Pressão.Selo.LA\"                 \"Pressão.Selo.LNA\"               \n",
            "[17] \"Temp..mancal.LA.bomba\"           \"Temp..mancal.LA.motor\"          \n",
            "[19] \"Temp..mancal.LNA.bomba\"          \"Temp..mancal.LNA.motor\"         \n",
            "[21] \"Temp..Oleo.ULF\"                 \n"
          ]
        }
      ]
    },
    {
      "cell_type": "code",
      "source": [
        "%%R\n",
        "str(df)"
      ],
      "metadata": {
        "colab": {
          "base_uri": "https://localhost:8080/"
        },
        "id": "z281WLqXoy0c",
        "outputId": "f13ff7ea-faf2-4890-9ebf-10108c68edc4"
      },
      "execution_count": 8,
      "outputs": [
        {
          "output_type": "stream",
          "name": "stdout",
          "text": [
            "'data.frame':\t365 obs. of  21 variables:\n",
            " $ Ano                            : int  2016 2016 2016 2016 2016 2016 2016 2016 2016 2016 ...\n",
            " $ Dia                            : int  1 2 3 4 5 6 7 8 9 10 ...\n",
            " $ Temp..Estator.Fase.U           : num  38.1 38.1 38.1 38 38 ...\n",
            " $ Temp..Estator.Fase.V           : num  39.9 39.9 39.9 39.8 39.8 ...\n",
            " $ Temp..Estator.Fase.WA          : num  36.6 36.6 36.6 36.5 36.5 ...\n",
            " $ Temp..Estator.Fase.WB          : num  38.8 38.8 38.8 38.7 38.7 ...\n",
            " $ Vibração.Bomba.LA              : num  0 0 0.0367 0 0 ...\n",
            " $ Vazão.Bomba                    : num  0 0 0 0 0 0 0 0 0 0 ...\n",
            " $ Corrente                       : num  0 0 0 0 0 0 0 0 0 0 ...\n",
            " $ Pressão.Desc.                  : num  0.203 0.203 0.203 0.203 0.203 ...\n",
            " $ Pressão.Suc                    : num  0 0 0 0 0 0 0 0 0 0 ...\n",
            " $ Posição.FCV                    : int  0 0 0 0 0 0 0 0 0 0 ...\n",
            " $ Temp..externo.mancal.escora.LNA: num  20.7 20.7 20.7 20.7 20.7 ...\n",
            " $ Temp..interno.mancal.escora.LNA: num  21 21 21 21 20.9 ...\n",
            " $ Pressão.Selo.LA                : num  0 0 0 0 0 0 0 0 0 0 ...\n",
            " $ Pressão.Selo.LNA               : num  0 0 0 0 0 0 0 0 0 0 ...\n",
            " $ Temp..mancal.LA.bomba          : num  23.1 23.1 23.1 23.1 23.1 ...\n",
            " $ Temp..mancal.LA.motor          : num  29.4 29.4 29.3 29.3 29.3 ...\n",
            " $ Temp..mancal.LNA.bomba         : num  17 17 17 17 17 ...\n",
            " $ Temp..mancal.LNA.motor         : num  25.2 25.2 25.2 25.2 25.2 ...\n",
            " $ Temp..Oleo.ULF                 : num  21.4 21.4 21.4 21.4 21.4 ...\n"
          ]
        }
      ]
    },
    {
      "cell_type": "code",
      "source": [
        "%%R\n",
        "lm1 <- lm(Temp..mancal.LA.motor ~ Dia, data = df)\n",
        "summary(lm1)"
      ],
      "metadata": {
        "colab": {
          "base_uri": "https://localhost:8080/"
        },
        "id": "L81SVJkPDiH6",
        "outputId": "5a4c3717-04a6-4899-fda1-58481aa4f9c0"
      },
      "execution_count": 9,
      "outputs": [
        {
          "output_type": "stream",
          "name": "stdout",
          "text": [
            "\n",
            "Call:\n",
            "lm(formula = Temp..mancal.LA.motor ~ Dia, data = df)\n",
            "\n",
            "Residuals:\n",
            "    Min      1Q  Median      3Q     Max \n",
            "-8.6134 -3.1472  0.3514  3.8893  5.5081 \n",
            "\n",
            "Coefficients:\n",
            "             Estimate Std. Error t value Pr(>|t|)    \n",
            "(Intercept) 24.124734   0.434141   55.57   <2e-16 ***\n",
            "Dia          0.062544   0.002056   30.42   <2e-16 ***\n",
            "---\n",
            "Signif. codes:  0 ‘***’ 0.001 ‘**’ 0.01 ‘*’ 0.05 ‘.’ 0.1 ‘ ’ 1\n",
            "\n",
            "Residual standard error: 4.139 on 363 degrees of freedom\n",
            "Multiple R-squared:  0.7183,\tAdjusted R-squared:  0.7175 \n",
            "F-statistic: 925.5 on 1 and 363 DF,  p-value: < 2.2e-16\n",
            "\n"
          ]
        }
      ]
    },
    {
      "cell_type": "code",
      "source": [
        "%%R\n",
        "plot(Temp..mancal.LA.motor ~ Dia, pch = 20, data = df)\n",
        "abline(lm1, col = 2, lty = 2, lw = 3)"
      ],
      "metadata": {
        "colab": {
          "base_uri": "https://localhost:8080/",
          "height": 497
        },
        "id": "afatQKWV-_7A",
        "outputId": "1a33c695-fe7b-4856-d5b1-8bb87e52faf6"
      },
      "execution_count": 10,
      "outputs": [
        {
          "output_type": "display_data",
          "data": {
            "image/png": "[encoded data removed]"
          },
          "metadata": {}
        }
      ]
    },
    {
      "cell_type": "code",
      "source": [
        "%%R\n",
        "x <- I(df$Dia - 01)\n",
        "y <- df$Temp..mancal.LA.motor\n",
        "N <- length(df$Dia)"
      ],
      "metadata": {
        "id": "Cx_ZNE0jD6FY"
      },
      "execution_count": 11,
      "outputs": []
    },
    {
      "cell_type": "code",
      "source": [
        "%%R\n",
        "lm1 <- lm(y ~ x)\n",
        "summary(lm1)"
      ],
      "metadata": {
        "colab": {
          "base_uri": "https://localhost:8080/"
        },
        "id": "PJMVpOtVEHq0",
        "outputId": "6ffe58b1-8d49-4627-d22b-34594a7e9e27"
      },
      "execution_count": 12,
      "outputs": [
        {
          "output_type": "stream",
          "name": "stdout",
          "text": [
            "\n",
            "Call:\n",
            "lm(formula = y ~ x)\n",
            "\n",
            "Residuals:\n",
            "    Min      1Q  Median      3Q     Max \n",
            "-8.6134 -3.1472  0.3514  3.8893  5.5081 \n",
            "\n",
            "Coefficients:\n",
            "             Estimate Std. Error t value Pr(>|t|)    \n",
            "(Intercept) 24.187279   0.432361   55.94   <2e-16 ***\n",
            "x            0.062544   0.002056   30.42   <2e-16 ***\n",
            "---\n",
            "Signif. codes:  0 ‘***’ 0.001 ‘**’ 0.01 ‘*’ 0.05 ‘.’ 0.1 ‘ ’ 1\n",
            "\n",
            "Residual standard error: 4.139 on 363 degrees of freedom\n",
            "Multiple R-squared:  0.7183,\tAdjusted R-squared:  0.7175 \n",
            "F-statistic: 925.5 on 1 and 363 DF,  p-value: < 2.2e-16\n",
            "\n"
          ]
        }
      ]
    },
    {
      "cell_type": "code",
      "source": [
        "%%R\n",
        "lm_alpha <- summary(lm1)$coeff[1]  # the intercept\n",
        "lm_beta <- summary(lm1)$coeff[2]  # the slope\n",
        "lm_sigma <- sigma(lm1)  # the residual error"
      ],
      "metadata": {
        "id": "avwvJPRPEc7N"
      },
      "execution_count": 13,
      "outputs": []
    },
    {
      "cell_type": "code",
      "source": [
        "%%R\n",
        "stan_data <- list(N = N, x = x, y = y)"
      ],
      "metadata": {
        "id": "52Gxwip9EjaG"
      },
      "execution_count": 14,
      "outputs": []
    },
    {
      "cell_type": "code",
      "source": [
        "%%R\n",
        "write(\"// Stan model for simple linear regression\n",
        "\n",
        "data {\n",
        " int < lower = 1 > N; // Sample size\n",
        " vector[N] x; // Predictor\n",
        " vector[N] y; // Outcome\n",
        "}\n",
        "\n",
        "parameters {\n",
        " real alpha; // Intercept\n",
        " real beta; // Slope (regression coefficients)\n",
        " real < lower = 0 > sigma; // Error SD\n",
        "}\n",
        "\n",
        "model {\n",
        " y ~ normal(alpha + x * beta , sigma);\n",
        "}\n",
        "\n",
        "generated quantities {\n",
        "} // The posterior predictive distribution\",\n",
        "\n",
        "\"stan_model1.stan\")"
      ],
      "metadata": {
        "id": "VWDywI3jF7VT"
      },
      "execution_count": 15,
      "outputs": []
    },
    {
      "cell_type": "code",
      "source": [
        "%%R\n",
        "stanc(\"stan_model1.stan\")"
      ],
      "metadata": {
        "id": "uFA2KNTrGBIW",
        "colab": {
          "base_uri": "https://localhost:8080/"
        },
        "outputId": "049ee258-8747-4763-e867-fdc68c409b3d"
      },
      "execution_count": 16,
      "outputs": [
        {
          "output_type": "stream",
          "name": "stdout",
          "text": [
            "$status\n",
            "[1] TRUE\n",
            "\n",
            "$model_cppname\n",
            "[1] \"model6237aa1e5f4_stan_model1\"\n",
            "\n",
            "$cppcode\n",
            "[1] \"// Code generated by Stan version 2.21.0\\n\\n#include <stan/model/model_header.hpp>\\n\\nnamespace model6237aa1e5f4_stan_model1_namespace {\\n\\nusing std::istream;\\nusing std::string;\\nusing std::stringstream;\\nusing std::vector;\\nusing stan::io::dump;\\nusing stan::math::lgamma;\\nusing stan::model::prob_grad;\\nusing namespace stan::math;\\n\\nstatic int current_statement_begin__;\\n\\nstan::io::program_reader prog_reader__() {\\n    stan::io::program_reader reader;\\n    reader.add_event(0, 0, \\\"start\\\", \\\"model6237aa1e5f4_stan_model1\\\");\\n    reader.add_event(22, 20, \\\"end\\\", \\\"model6237aa1e5f4_stan_model1\\\");\\n    return reader;\\n}\\n\\nclass model6237aa1e5f4_stan_model1\\n  : public stan::model::model_base_crtp<model6237aa1e5f4_stan_model1> {\\nprivate:\\n        int N;\\n        vector_d x;\\n        vector_d y;\\npublic:\\n    model6237aa1e5f4_stan_model1(stan::io::var_context& context__,\\n        std::ostream* pstream__ = 0)\\n        : model_base_crtp(0) {\\n        ctor_body(context__, 0, pstream__);\\n    }\\n\\n    model6237aa1e5f4_stan_model1(stan::io::var_context& context__,\\n        unsigned int random_seed__,\\n        std::ostream* pstream__ = 0)\\n        : model_base_crtp(0) {\\n        ctor_body(context__, random_seed__, pstream__);\\n    }\\n\\n    void ctor_body(stan::io::var_context& context__,\\n                   unsigned int random_seed__,\\n                   std::ostream* pstream__) {\\n        typedef double local_scalar_t__;\\n\\n        boost::ecuyer1988 base_rng__ =\\n          stan::services::util::create_rng(random_seed__, 0);\\n        (void) base_rng__;  // suppress unused var warning\\n\\n        current_statement_begin__ = -1;\\n\\n        static const char* function__ = \\\"model6237aa1e5f4_stan_model1_namespace::model6237aa1e5f4_stan_model1\\\";\\n        (void) function__;  // dummy to suppress unused var warning\\n        size_t pos__;\\n        (void) pos__;  // dummy to suppress unused var warning\\n        std::vector<int> vals_i__;\\n        std::vector<double> vals_r__;\\n        local_scalar_t__ DUMMY_VAR__(std::numeric_limits<double>::quiet_NaN());\\n        (void) DUMMY_VAR__;  // suppress unused var warning\\n\\n        try {\\n            // initialize data block variables from context__\\n            current_statement_begin__ = 4;\\n            context__.validate_dims(\\\"data initialization\\\", \\\"N\\\", \\\"int\\\", context__.to_vec());\\n            N = int(0);\\n            vals_i__ = context__.vals_i(\\\"N\\\");\\n            pos__ = 0;\\n            N = vals_i__[pos__++];\\n            check_greater_or_equal(function__, \\\"N\\\", N, 1);\\n\\n            current_statement_begin__ = 5;\\n            validate_non_negative_index(\\\"x\\\", \\\"N\\\", N);\\n            context__.validate_dims(\\\"data initialization\\\", \\\"x\\\", \\\"vector_d\\\", context__.to_vec(N));\\n            x = Eigen::Matrix<double, Eigen::Dynamic, 1>(N);\\n            vals_r__ = context__.vals_r(\\\"x\\\");\\n            pos__ = 0;\\n            size_t x_j_1_max__ = N;\\n            for (size_t j_1__ = 0; j_1__ < x_j_1_max__; ++j_1__) {\\n                x(j_1__) = vals_r__[pos__++];\\n            }\\n\\n            current_statement_begin__ = 6;\\n            validate_non_negative_index(\\\"y\\\", \\\"N\\\", N);\\n            context__.validate_dims(\\\"data initialization\\\", \\\"y\\\", \\\"vector_d\\\", context__.to_vec(N));\\n            y = Eigen::Matrix<double, Eigen::Dynamic, 1>(N);\\n            vals_r__ = context__.vals_r(\\\"y\\\");\\n            pos__ = 0;\\n            size_t y_j_1_max__ = N;\\n            for (size_t j_1__ = 0; j_1__ < y_j_1_max__; ++j_1__) {\\n                y(j_1__) = vals_r__[pos__++];\\n            }\\n\\n\\n            // initialize transformed data variables\\n            // execute transformed data statements\\n\\n            // validate transformed data\\n\\n            // validate, set parameter ranges\\n            num_params_r__ = 0U;\\n            param_ranges_i__.clear();\\n            current_statement_begin__ = 10;\\n            num_params_r__ += 1;\\n            current_statement_begin__ = 11;\\n            num_params_r__ += 1;\\n            current_statement_begin__ = 12;\\n            num_params_r__ += 1;\\n        } catch (const std::exception& e) {\\n            stan::lang::rethrow_located(e, current_statement_begin__, prog_reader__());\\n            // Next line prevents compiler griping about no return\\n            throw std::runtime_error(\\\"*** IF YOU SEE THIS, PLEASE REPORT A BUG ***\\\");\\n        }\\n    }\\n\\n    ~model6237aa1e5f4_stan_model1() { }\\n\\n\\n    void transform_inits(const stan::io::var_context& context__,\\n                         std::vector<int>& params_i__,\\n                         std::vector<double>& params_r__,\\n                         std::ostream* pstream__) const {\\n        typedef double local_scalar_t__;\\n        stan::io::writer<double> writer__(params_r__, params_i__);\\n        size_t pos__;\\n        (void) pos__; // dummy call to supress warning\\n        std::vector<double> vals_r__;\\n        std::vector<int> vals_i__;\\n\\n        current_statement_begin__ = 10;\\n        if (!(context__.contains_r(\\\"alpha\\\")))\\n            stan::lang::rethrow_located(std::runtime_error(std::string(\\\"Variable alpha missing\\\")), current_statement_begin__, prog_reader__());\\n        vals_r__ = context__.vals_r(\\\"alpha\\\");\\n        pos__ = 0U;\\n        context__.validate_dims(\\\"parameter initialization\\\", \\\"alpha\\\", \\\"double\\\", context__.to_vec());\\n        double alpha(0);\\n        alpha = vals_r__[pos__++];\\n        try {\\n            writer__.scalar_unconstrain(alpha);\\n        } catch (const std::exception& e) {\\n            stan::lang::rethrow_located(std::runtime_error(std::string(\\\"Error transforming variable alpha: \\\") + e.what()), current_statement_begin__, prog_reader__());\\n        }\\n\\n        current_statement_begin__ = 11;\\n        if (!(context__.contains_r(\\\"beta\\\")))\\n            stan::lang::rethrow_located(std::runtime_error(std::string(\\\"Variable beta missing\\\")), current_statement_begin__, prog_reader__());\\n        vals_r__ = context__.vals_r(\\\"beta\\\");\\n        pos__ = 0U;\\n        context__.validate_dims(\\\"parameter initialization\\\", \\\"beta\\\", \\\"double\\\", context__.to_vec());\\n        double beta(0);\\n        beta = vals_r__[pos__++];\\n        try {\\n            writer__.scalar_unconstrain(beta);\\n        } catch (const std::exception& e) {\\n            stan::lang::rethrow_located(std::runtime_error(std::string(\\\"Error transforming variable beta: \\\") + e.what()), current_statement_begin__, prog_reader__());\\n        }\\n\\n        current_statement_begin__ = 12;\\n        if (!(context__.contains_r(\\\"sigma\\\")))\\n            stan::lang::rethrow_located(std::runtime_error(std::string(\\\"Variable sigma missing\\\")), current_statement_begin__, prog_reader__());\\n        vals_r__ = context__.vals_r(\\\"sigma\\\");\\n        pos__ = 0U;\\n        context__.validate_dims(\\\"parameter initialization\\\", \\\"sigma\\\", \\\"double\\\", context__.to_vec());\\n        double sigma(0);\\n        sigma = vals_r__[pos__++];\\n        try {\\n            writer__.scalar_lb_unconstrain(0, sigma);\\n        } catch (const std::exception& e) {\\n            stan::lang::rethrow_located(std::runtime_error(std::string(\\\"Error transforming variable sigma: \\\") + e.what()), current_statement_begin__, prog_reader__());\\n        }\\n\\n        params_r__ = writer__.data_r();\\n        params_i__ = writer__.data_i();\\n    }\\n\\n    void transform_inits(const stan::io::var_context& context,\\n                         Eigen::Matrix<double, Eigen::Dynamic, 1>& params_r,\\n                         std::ostream* pstream__) const {\\n      std::vector<double> params_r_vec;\\n      std::vector<int> params_i_vec;\\n      transform_inits(context, params_i_vec, params_r_vec, pstream__);\\n      params_r.resize(params_r_vec.size());\\n      for (int i = 0; i < params_r.size(); ++i)\\n        params_r(i) = params_r_vec[i];\\n    }\\n\\n\\n    template <bool propto__, bool jacobian__, typename T__>\\n    T__ log_prob(std::vector<T__>& params_r__,\\n                 std::vector<int>& params_i__,\\n                 std::ostream* pstream__ = 0) const {\\n\\n        typedef T__ local_scalar_t__;\\n\\n        local_scalar_t__ DUMMY_VAR__(std::numeric_limits<double>::quiet_NaN());\\n        (void) DUMMY_VAR__;  // dummy to suppress unused var warning\\n\\n        T__ lp__(0.0);\\n        stan::math::accumulator<T__> lp_accum__;\\n        try {\\n            stan::io::reader<local_scalar_t__> in__(params_r__, params_i__);\\n\\n            // model parameters\\n            current_statement_begin__ = 10;\\n            local_scalar_t__ alpha;\\n            (void) alpha;  // dummy to suppress unused var warning\\n            if (jacobian__)\\n                alpha = in__.scalar_constrain(lp__);\\n            else\\n                alpha = in__.scalar_constrain();\\n\\n            current_statement_begin__ = 11;\\n            local_scalar_t__ beta;\\n            (void) beta;  // dummy to suppress unused var warning\\n            if (jacobian__)\\n                beta = in__.scalar_constrain(lp__);\\n            else\\n                beta = in__.scalar_constrain();\\n\\n            current_statement_begin__ = 12;\\n            local_scalar_t__ sigma;\\n            (void) sigma;  // dummy to suppress unused var warning\\n            if (jacobian__)\\n                sigma = in__.scalar_lb_constrain(0, lp__);\\n            else\\n                sigma = in__.scalar_lb_constrain(0);\\n\\n            // model body\\n\\n            current_statement_begin__ = 16;\\n            lp_accum__.add(normal_log<propto__>(y, add(alpha, multiply(x, beta)), sigma));\\n\\n        } catch (const std::exception& e) {\\n            stan::lang::rethrow_located(e, current_statement_begin__, prog_reader__());\\n            // Next line prevents compiler griping about no return\\n            throw std::runtime_error(\\\"*** IF YOU SEE THIS, PLEASE REPORT A BUG ***\\\");\\n        }\\n\\n        lp_accum__.add(lp__);\\n        return lp_accum__.sum();\\n\\n    } // log_prob()\\n\\n    template <bool propto, bool jacobian, typename T_>\\n    T_ log_prob(Eigen::Matrix<T_,Eigen::Dynamic,1>& params_r,\\n               std::ostream* pstream = 0) const {\\n      std::vector<T_> vec_params_r;\\n      vec_params_r.reserve(params_r.size());\\n      for (int i = 0; i < params_r.size(); ++i)\\n        vec_params_r.push_back(params_r(i));\\n      std::vector<int> vec_params_i;\\n      return log_prob<propto,jacobian,T_>(vec_params_r, vec_params_i, pstream);\\n    }\\n\\n\\n    void get_param_names(std::vector<std::string>& names__) const {\\n        names__.resize(0);\\n        names__.push_back(\\\"alpha\\\");\\n        names__.push_back(\\\"beta\\\");\\n        names__.push_back(\\\"sigma\\\");\\n    }\\n\\n\\n    void get_dims(std::vector<std::vector<size_t> >& dimss__) const {\\n        dimss__.resize(0);\\n        std::vector<size_t> dims__;\\n        dims__.resize(0);\\n        dimss__.push_back(dims__);\\n        dims__.resize(0);\\n        dimss__.push_back(dims__);\\n        dims__.resize(0);\\n        dimss__.push_back(dims__);\\n    }\\n\\n    template <typename RNG>\\n    void write_array(RNG& base_rng__,\\n                     std::vector<double>& params_r__,\\n                     std::vector<int>& params_i__,\\n                     std::vector<double>& vars__,\\n                     bool include_tparams__ = true,\\n                     bool include_gqs__ = true,\\n                     std::ostream* pstream__ = 0) const {\\n        typedef double local_scalar_t__;\\n\\n        vars__.resize(0);\\n        stan::io::reader<local_scalar_t__> in__(params_r__, params_i__);\\n        static const char* function__ = \\\"model6237aa1e5f4_stan_model1_namespace::write_array\\\";\\n        (void) function__;  // dummy to suppress unused var warning\\n\\n        // read-transform, write parameters\\n        double alpha = in__.scalar_constrain();\\n        vars__.push_back(alpha);\\n\\n        double beta = in__.scalar_constrain();\\n        vars__.push_back(beta);\\n\\n        double sigma = in__.scalar_lb_constrain(0);\\n        vars__.push_back(sigma);\\n\\n        double lp__ = 0.0;\\n        (void) lp__;  // dummy to suppress unused var warning\\n        stan::math::accumulator<double> lp_accum__;\\n\\n        local_scalar_t__ DUMMY_VAR__(std::numeric_limits<double>::quiet_NaN());\\n        (void) DUMMY_VAR__;  // suppress unused var warning\\n\\n        if (!include_tparams__ && !include_gqs__) return;\\n\\n        try {\\n            if (!include_gqs__ && !include_tparams__) return;\\n            if (!include_gqs__) return;\\n        } catch (const std::exception& e) {\\n            stan::lang::rethrow_located(e, current_statement_begin__, prog_reader__());\\n            // Next line prevents compiler griping about no return\\n            throw std::runtime_error(\\\"*** IF YOU SEE THIS, PLEASE REPORT A BUG ***\\\");\\n        }\\n    }\\n\\n    template <typename RNG>\\n    void write_array(RNG& base_rng,\\n                     Eigen::Matrix<double,Eigen::Dynamic,1>& params_r,\\n                     Eigen::Matrix<double,Eigen::Dynamic,1>& vars,\\n                     bool include_tparams = true,\\n                     bool include_gqs = true,\\n                     std::ostream* pstream = 0) const {\\n      std::vector<double> params_r_vec(params_r.size());\\n      for (int i = 0; i < params_r.size(); ++i)\\n        params_r_vec[i] = params_r(i);\\n      std::vector<double> vars_vec;\\n      std::vector<int> params_i_vec;\\n      write_array(base_rng, params_r_vec, params_i_vec, vars_vec, include_tparams, include_gqs, pstream);\\n      vars.resize(vars_vec.size());\\n      for (int i = 0; i < vars.size(); ++i)\\n        vars(i) = vars_vec[i];\\n    }\\n\\n    std::string model_name() const {\\n        return \\\"model6237aa1e5f4_stan_model1\\\";\\n    }\\n\\n\\n    void constrained_param_names(std::vector<std::string>& param_names__,\\n                                 bool include_tparams__ = true,\\n                                 bool include_gqs__ = true) const {\\n        std::stringstream param_name_stream__;\\n        param_name_stream__.str(std::string());\\n        param_name_stream__ << \\\"alpha\\\";\\n        param_names__.push_back(param_name_stream__.str());\\n        param_name_stream__.str(std::string());\\n        param_name_stream__ << \\\"beta\\\";\\n        param_names__.push_back(param_name_stream__.str());\\n        param_name_stream__.str(std::string());\\n        param_name_stream__ << \\\"sigma\\\";\\n        param_names__.push_back(param_name_stream__.str());\\n\\n        if (!include_gqs__ && !include_tparams__) return;\\n\\n        if (include_tparams__) {\\n        }\\n\\n        if (!include_gqs__) return;\\n    }\\n\\n\\n    void unconstrained_param_names(std::vector<std::string>& param_names__,\\n                                   bool include_tparams__ = true,\\n                                   bool include_gqs__ = true) const {\\n        std::stringstream param_name_stream__;\\n        param_name_stream__.str(std::string());\\n        param_name_stream__ << \\\"alpha\\\";\\n        param_names__.push_back(param_name_stream__.str());\\n        param_name_stream__.str(std::string());\\n        param_name_stream__ << \\\"beta\\\";\\n        param_names__.push_back(param_name_stream__.str());\\n        param_name_stream__.str(std::string());\\n        param_name_stream__ << \\\"sigma\\\";\\n        param_names__.push_back(param_name_stream__.str());\\n\\n        if (!include_gqs__ && !include_tparams__) return;\\n\\n        if (include_tparams__) {\\n        }\\n\\n        if (!include_gqs__) return;\\n    }\\n\\n}; // model\\n\\n}  // namespace\\n\\ntypedef model6237aa1e5f4_stan_model1_namespace::model6237aa1e5f4_stan_model1 stan_model;\\n\\n#ifndef USING_R\\n\\nstan::model::model_base& new_model(\\n        stan::io::var_context& data_context,\\n        unsigned int seed,\\n        std::ostream* msg_stream) {\\n  stan_model* m = new stan_model(data_context, seed, msg_stream);\\n  return *m;\\n}\\n\\n#endif\\n\\n\"\n",
            "\n",
            "$model_name\n",
            "[1] \"stan_model1\"\n",
            "\n",
            "$model_code\n",
            "[1] \"// Stan model for simple linear regression\\n\\ndata {\\n int < lower = 1 > N; // Sample size\\n vector[N] x; // Predictor\\n vector[N] y; // Outcome\\n}\\n\\nparameters {\\n real alpha; // Intercept\\n real beta; // Slope (regression coefficients)\\n real < lower = 0 > sigma; // Error SD\\n}\\n\\nmodel {\\n y ~ normal(alpha + x * beta , sigma);\\n}\\n\\ngenerated quantities {\\n} // The posterior predictive distribution\"\n",
            "attr(,\"model_name2\")\n",
            "[1] \"stan_model1\"\n",
            "\n"
          ]
        }
      ]
    },
    {
      "cell_type": "code",
      "source": [
        "%%R\n",
        "stan_model1 <- \"stan_model1.stan\""
      ],
      "metadata": {
        "id": "vE7-ubH2GEMS"
      },
      "execution_count": 17,
      "outputs": []
    },
    {
      "cell_type": "code",
      "source": [
        "%%R\n",
        "fit <- stan(file = stan_model1, data = stan_data, warmup = 500, iter = 1000, chains = 4, cores = 2, thin = 1)"
      ],
      "metadata": {
        "id": "LnSmjUIgGhlw"
      },
      "execution_count": 18,
      "outputs": []
    },
    {
      "cell_type": "code",
      "source": [
        "%%R\n",
        "fit"
      ],
      "metadata": {
        "colab": {
          "base_uri": "https://localhost:8080/"
        },
        "id": "Q3AHR6ueGmDR",
        "outputId": "5c76c8bd-2d2a-46d6-9e68-f3cb75c66956"
      },
      "execution_count": 19,
      "outputs": [
        {
          "output_type": "stream",
          "name": "stdout",
          "text": [
            "Inference for Stan model: stan_model1.\n",
            "4 chains, each with iter=1000; warmup=500; thin=1; \n",
            "post-warmup draws per chain=500, total post-warmup draws=2000.\n",
            "\n",
            "         mean se_mean   sd    2.5%     25%     50%     75%   97.5% n_eff Rhat\n",
            "alpha   24.16    0.02 0.45   23.26   23.86   24.17   24.47   25.01   794    1\n",
            "beta     0.06    0.00 0.00    0.06    0.06    0.06    0.06    0.07   885    1\n",
            "sigma    4.16    0.00 0.16    3.86    4.05    4.15    4.26    4.48  1044    1\n",
            "lp__  -700.07    0.05 1.30 -703.29 -700.60 -699.73 -699.15 -698.62   588    1\n",
            "\n",
            "Samples were drawn using NUTS(diag_e) at Wed Nov  2 20:01:34 2022.\n",
            "For each parameter, n_eff is a crude measure of effective sample size,\n",
            "and Rhat is the potential scale reduction factor on split chains (at \n",
            "convergence, Rhat=1).\n"
          ]
        }
      ]
    },
    {
      "cell_type": "code",
      "source": [
        "%%R\n",
        "posterior <- extract(fit)\n",
        "str(posterior)"
      ],
      "metadata": {
        "id": "hnHi2HdqPZiN",
        "colab": {
          "base_uri": "https://localhost:8080/",
          "height": 571
        },
        "outputId": "26fbc66b-ed1d-4d3a-f035-823a30dad888"
      },
      "execution_count": 20,
      "outputs": [
        {
          "output_type": "stream",
          "name": "stderr",
          "text": [
            "WARNING:rpy2.rinterface_lib.callbacks:R[write to console]: Error in extract(fit) : object of type 'S4' is not subsettable\n",
            "\n"
          ]
        },
        {
          "output_type": "stream",
          "name": "stdout",
          "text": [
            "\n",
            "Error in extract(fit) : object of type 'S4' is not subsettable\n"
          ]
        },
        {
          "output_type": "error",
          "ename": "RInterpreterError",
          "evalue": "ignored",
          "traceback": [
            "\u001b[0;31m---------------------------------------------------------------------------\u001b[0m",
            "\u001b[0;31mRRuntimeError\u001b[0m                             Traceback (most recent call last)",
            "\u001b[0;32m/usr/local/lib/python3.7/dist-packages/rpy2/ipython/rmagic.py\u001b[0m in \u001b[0;36meval\u001b[0;34m(self, code)\u001b[0m\n\u001b[1;32m    284\u001b[0m                 \u001b[0;31m# Need the newline in case the last line in code is a comment.\u001b[0m\u001b[0;34m\u001b[0m\u001b[0;34m\u001b[0m\u001b[0;34m\u001b[0m\u001b[0m\n\u001b[0;32m--> 285\u001b[0;31m                 \u001b[0mvalue\u001b[0m\u001b[0;34m,\u001b[0m \u001b[0mvisible\u001b[0m \u001b[0;34m=\u001b[0m \u001b[0mro\u001b[0m\u001b[0;34m.\u001b[0m\u001b[0mr\u001b[0m\u001b[0;34m(\u001b[0m\u001b[0;34m\"withVisible({%s\\n})\"\u001b[0m \u001b[0;34m%\u001b[0m \u001b[0mcode\u001b[0m\u001b[0;34m)\u001b[0m\u001b[0;34m\u001b[0m\u001b[0;34m\u001b[0m\u001b[0m\n\u001b[0m\u001b[1;32m    286\u001b[0m             \u001b[0;32mexcept\u001b[0m \u001b[0;34m(\u001b[0m\u001b[0mri\u001b[0m\u001b[0;34m.\u001b[0m\u001b[0membedded\u001b[0m\u001b[0;34m.\u001b[0m\u001b[0mRRuntimeError\u001b[0m\u001b[0;34m,\u001b[0m \u001b[0mValueError\u001b[0m\u001b[0;34m)\u001b[0m \u001b[0;32mas\u001b[0m \u001b[0mexception\u001b[0m\u001b[0;34m:\u001b[0m\u001b[0;34m\u001b[0m\u001b[0;34m\u001b[0m\u001b[0m\n",
            "\u001b[0;32m/usr/local/lib/python3.7/dist-packages/rpy2/robjects/__init__.py\u001b[0m in \u001b[0;36m__call__\u001b[0;34m(self, string)\u001b[0m\n\u001b[1;32m    458\u001b[0m         \u001b[0mp\u001b[0m \u001b[0;34m=\u001b[0m \u001b[0mrinterface\u001b[0m\u001b[0;34m.\u001b[0m\u001b[0mparse\u001b[0m\u001b[0;34m(\u001b[0m\u001b[0mstring\u001b[0m\u001b[0;34m)\u001b[0m\u001b[0;34m\u001b[0m\u001b[0;34m\u001b[0m\u001b[0m\n\u001b[0;32m--> 459\u001b[0;31m         \u001b[0mres\u001b[0m \u001b[0;34m=\u001b[0m \u001b[0mself\u001b[0m\u001b[0;34m.\u001b[0m\u001b[0meval\u001b[0m\u001b[0;34m(\u001b[0m\u001b[0mp\u001b[0m\u001b[0;34m)\u001b[0m\u001b[0;34m\u001b[0m\u001b[0;34m\u001b[0m\u001b[0m\n\u001b[0m\u001b[1;32m    460\u001b[0m         \u001b[0;32mreturn\u001b[0m \u001b[0mconversion\u001b[0m\u001b[0;34m.\u001b[0m\u001b[0mget_conversion\u001b[0m\u001b[0;34m(\u001b[0m\u001b[0;34m)\u001b[0m\u001b[0;34m.\u001b[0m\u001b[0mrpy2py\u001b[0m\u001b[0;34m(\u001b[0m\u001b[0mres\u001b[0m\u001b[0;34m)\u001b[0m\u001b[0;34m\u001b[0m\u001b[0;34m\u001b[0m\u001b[0m\n",
            "\u001b[0;32m/usr/local/lib/python3.7/dist-packages/rpy2/robjects/functions.py\u001b[0m in \u001b[0;36m__call__\u001b[0;34m(self, *args, **kwargs)\u001b[0m\n\u001b[1;32m    203\u001b[0m         return (super(SignatureTranslatedFunction, self)\n\u001b[0;32m--> 204\u001b[0;31m                 .__call__(*args, **kwargs))\n\u001b[0m\u001b[1;32m    205\u001b[0m \u001b[0;34m\u001b[0m\u001b[0m\n",
            "\u001b[0;32m/usr/local/lib/python3.7/dist-packages/rpy2/robjects/functions.py\u001b[0m in \u001b[0;36m__call__\u001b[0;34m(self, *args, **kwargs)\u001b[0m\n\u001b[1;32m    125\u001b[0m                 \u001b[0mnew_kwargs\u001b[0m\u001b[0;34m[\u001b[0m\u001b[0mk\u001b[0m\u001b[0;34m]\u001b[0m \u001b[0;34m=\u001b[0m \u001b[0mcv\u001b[0m\u001b[0;34m.\u001b[0m\u001b[0mpy2rpy\u001b[0m\u001b[0;34m(\u001b[0m\u001b[0mv\u001b[0m\u001b[0;34m)\u001b[0m\u001b[0;34m\u001b[0m\u001b[0;34m\u001b[0m\u001b[0m\n\u001b[0;32m--> 126\u001b[0;31m         \u001b[0mres\u001b[0m \u001b[0;34m=\u001b[0m \u001b[0msuper\u001b[0m\u001b[0;34m(\u001b[0m\u001b[0mFunction\u001b[0m\u001b[0;34m,\u001b[0m \u001b[0mself\u001b[0m\u001b[0;34m)\u001b[0m\u001b[0;34m.\u001b[0m\u001b[0m__call__\u001b[0m\u001b[0;34m(\u001b[0m\u001b[0;34m*\u001b[0m\u001b[0mnew_args\u001b[0m\u001b[0;34m,\u001b[0m \u001b[0;34m**\u001b[0m\u001b[0mnew_kwargs\u001b[0m\u001b[0;34m)\u001b[0m\u001b[0;34m\u001b[0m\u001b[0;34m\u001b[0m\u001b[0m\n\u001b[0m\u001b[1;32m    127\u001b[0m         \u001b[0mres\u001b[0m \u001b[0;34m=\u001b[0m \u001b[0mcv\u001b[0m\u001b[0;34m.\u001b[0m\u001b[0mrpy2py\u001b[0m\u001b[0;34m(\u001b[0m\u001b[0mres\u001b[0m\u001b[0;34m)\u001b[0m\u001b[0;34m\u001b[0m\u001b[0;34m\u001b[0m\u001b[0m\n",
            "\u001b[0;32m/usr/local/lib/python3.7/dist-packages/rpy2/rinterface_lib/conversion.py\u001b[0m in \u001b[0;36m_\u001b[0;34m(*args, **kwargs)\u001b[0m\n\u001b[1;32m     44\u001b[0m     \u001b[0;32mdef\u001b[0m \u001b[0m_\u001b[0m\u001b[0;34m(\u001b[0m\u001b[0;34m*\u001b[0m\u001b[0margs\u001b[0m\u001b[0;34m,\u001b[0m \u001b[0;34m**\u001b[0m\u001b[0mkwargs\u001b[0m\u001b[0;34m)\u001b[0m\u001b[0;34m:\u001b[0m\u001b[0;34m\u001b[0m\u001b[0;34m\u001b[0m\u001b[0m\n\u001b[0;32m---> 45\u001b[0;31m         \u001b[0mcdata\u001b[0m \u001b[0;34m=\u001b[0m \u001b[0mfunction\u001b[0m\u001b[0;34m(\u001b[0m\u001b[0;34m*\u001b[0m\u001b[0margs\u001b[0m\u001b[0;34m,\u001b[0m \u001b[0;34m**\u001b[0m\u001b[0mkwargs\u001b[0m\u001b[0;34m)\u001b[0m\u001b[0;34m\u001b[0m\u001b[0;34m\u001b[0m\u001b[0m\n\u001b[0m\u001b[1;32m     46\u001b[0m         \u001b[0;31m# TODO: test cdata is of the expected CType\u001b[0m\u001b[0;34m\u001b[0m\u001b[0;34m\u001b[0m\u001b[0;34m\u001b[0m\u001b[0m\n",
            "\u001b[0;32m/usr/local/lib/python3.7/dist-packages/rpy2/rinterface.py\u001b[0m in \u001b[0;36m__call__\u001b[0;34m(self, *args, **kwargs)\u001b[0m\n\u001b[1;32m    814\u001b[0m             \u001b[0;32mif\u001b[0m \u001b[0merror_occured\u001b[0m\u001b[0;34m[\u001b[0m\u001b[0;36m0\u001b[0m\u001b[0;34m]\u001b[0m\u001b[0;34m:\u001b[0m\u001b[0;34m\u001b[0m\u001b[0;34m\u001b[0m\u001b[0m\n\u001b[0;32m--> 815\u001b[0;31m                 \u001b[0;32mraise\u001b[0m \u001b[0membedded\u001b[0m\u001b[0;34m.\u001b[0m\u001b[0mRRuntimeError\u001b[0m\u001b[0;34m(\u001b[0m\u001b[0m_rinterface\u001b[0m\u001b[0;34m.\u001b[0m\u001b[0m_geterrmessage\u001b[0m\u001b[0;34m(\u001b[0m\u001b[0;34m)\u001b[0m\u001b[0;34m)\u001b[0m\u001b[0;34m\u001b[0m\u001b[0;34m\u001b[0m\u001b[0m\n\u001b[0m\u001b[1;32m    816\u001b[0m         \u001b[0;32mreturn\u001b[0m \u001b[0mres\u001b[0m\u001b[0;34m\u001b[0m\u001b[0;34m\u001b[0m\u001b[0m\n",
            "\u001b[0;31mRRuntimeError\u001b[0m: Error in extract(fit) : object of type 'S4' is not subsettable\n",
            "\nDuring handling of the above exception, another exception occurred:\n",
            "\u001b[0;31mRInterpreterError\u001b[0m                         Traceback (most recent call last)",
            "\u001b[0;32m<ipython-input-20-2841fb8541d2>\u001b[0m in \u001b[0;36m<module>\u001b[0;34m\u001b[0m\n\u001b[0;32m----> 1\u001b[0;31m \u001b[0mget_ipython\u001b[0m\u001b[0;34m(\u001b[0m\u001b[0;34m)\u001b[0m\u001b[0;34m.\u001b[0m\u001b[0mrun_cell_magic\u001b[0m\u001b[0;34m(\u001b[0m\u001b[0;34m'R'\u001b[0m\u001b[0;34m,\u001b[0m \u001b[0;34m''\u001b[0m\u001b[0;34m,\u001b[0m \u001b[0;34m'posterior <- extract(fit)\\nstr(posterior)\\n'\u001b[0m\u001b[0;34m)\u001b[0m\u001b[0;34m\u001b[0m\u001b[0;34m\u001b[0m\u001b[0m\n\u001b[0m",
            "\u001b[0;32m/usr/local/lib/python3.7/dist-packages/IPython/core/interactiveshell.py\u001b[0m in \u001b[0;36mrun_cell_magic\u001b[0;34m(self, magic_name, line, cell)\u001b[0m\n\u001b[1;32m   2357\u001b[0m             \u001b[0;32mwith\u001b[0m \u001b[0mself\u001b[0m\u001b[0;34m.\u001b[0m\u001b[0mbuiltin_trap\u001b[0m\u001b[0;34m:\u001b[0m\u001b[0;34m\u001b[0m\u001b[0;34m\u001b[0m\u001b[0m\n\u001b[1;32m   2358\u001b[0m                 \u001b[0margs\u001b[0m \u001b[0;34m=\u001b[0m \u001b[0;34m(\u001b[0m\u001b[0mmagic_arg_s\u001b[0m\u001b[0;34m,\u001b[0m \u001b[0mcell\u001b[0m\u001b[0;34m)\u001b[0m\u001b[0;34m\u001b[0m\u001b[0;34m\u001b[0m\u001b[0m\n\u001b[0;32m-> 2359\u001b[0;31m                 \u001b[0mresult\u001b[0m \u001b[0;34m=\u001b[0m \u001b[0mfn\u001b[0m\u001b[0;34m(\u001b[0m\u001b[0;34m*\u001b[0m\u001b[0margs\u001b[0m\u001b[0;34m,\u001b[0m \u001b[0;34m**\u001b[0m\u001b[0mkwargs\u001b[0m\u001b[0;34m)\u001b[0m\u001b[0;34m\u001b[0m\u001b[0;34m\u001b[0m\u001b[0m\n\u001b[0m\u001b[1;32m   2360\u001b[0m             \u001b[0;32mreturn\u001b[0m \u001b[0mresult\u001b[0m\u001b[0;34m\u001b[0m\u001b[0;34m\u001b[0m\u001b[0m\n\u001b[1;32m   2361\u001b[0m \u001b[0;34m\u001b[0m\u001b[0m\n",
            "\u001b[0;32m<decorator-gen-122>\u001b[0m in \u001b[0;36mR\u001b[0;34m(self, line, cell, local_ns)\u001b[0m\n",
            "\u001b[0;32m/usr/local/lib/python3.7/dist-packages/IPython/core/magic.py\u001b[0m in \u001b[0;36m<lambda>\u001b[0;34m(f, *a, **k)\u001b[0m\n\u001b[1;32m    185\u001b[0m     \u001b[0;31m# but it's overkill for just that one bit of state.\u001b[0m\u001b[0;34m\u001b[0m\u001b[0;34m\u001b[0m\u001b[0;34m\u001b[0m\u001b[0m\n\u001b[1;32m    186\u001b[0m     \u001b[0;32mdef\u001b[0m \u001b[0mmagic_deco\u001b[0m\u001b[0;34m(\u001b[0m\u001b[0marg\u001b[0m\u001b[0;34m)\u001b[0m\u001b[0;34m:\u001b[0m\u001b[0;34m\u001b[0m\u001b[0;34m\u001b[0m\u001b[0m\n\u001b[0;32m--> 187\u001b[0;31m         \u001b[0mcall\u001b[0m \u001b[0;34m=\u001b[0m \u001b[0;32mlambda\u001b[0m \u001b[0mf\u001b[0m\u001b[0;34m,\u001b[0m \u001b[0;34m*\u001b[0m\u001b[0ma\u001b[0m\u001b[0;34m,\u001b[0m \u001b[0;34m**\u001b[0m\u001b[0mk\u001b[0m\u001b[0;34m:\u001b[0m \u001b[0mf\u001b[0m\u001b[0;34m(\u001b[0m\u001b[0;34m*\u001b[0m\u001b[0ma\u001b[0m\u001b[0;34m,\u001b[0m \u001b[0;34m**\u001b[0m\u001b[0mk\u001b[0m\u001b[0;34m)\u001b[0m\u001b[0;34m\u001b[0m\u001b[0;34m\u001b[0m\u001b[0m\n\u001b[0m\u001b[1;32m    188\u001b[0m \u001b[0;34m\u001b[0m\u001b[0m\n\u001b[1;32m    189\u001b[0m         \u001b[0;32mif\u001b[0m \u001b[0mcallable\u001b[0m\u001b[0;34m(\u001b[0m\u001b[0marg\u001b[0m\u001b[0;34m)\u001b[0m\u001b[0;34m:\u001b[0m\u001b[0;34m\u001b[0m\u001b[0;34m\u001b[0m\u001b[0m\n",
            "\u001b[0;32m/usr/local/lib/python3.7/dist-packages/rpy2/ipython/rmagic.py\u001b[0m in \u001b[0;36mR\u001b[0;34m(self, line, cell, local_ns)\u001b[0m\n\u001b[1;32m    799\u001b[0m             \u001b[0;32mif\u001b[0m \u001b[0;32mnot\u001b[0m \u001b[0me\u001b[0m\u001b[0;34m.\u001b[0m\u001b[0mstdout\u001b[0m\u001b[0;34m.\u001b[0m\u001b[0mendswith\u001b[0m\u001b[0;34m(\u001b[0m\u001b[0me\u001b[0m\u001b[0;34m.\u001b[0m\u001b[0merr\u001b[0m\u001b[0;34m)\u001b[0m\u001b[0;34m:\u001b[0m\u001b[0;34m\u001b[0m\u001b[0;34m\u001b[0m\u001b[0m\n\u001b[1;32m    800\u001b[0m                 \u001b[0mprint\u001b[0m\u001b[0;34m(\u001b[0m\u001b[0me\u001b[0m\u001b[0;34m.\u001b[0m\u001b[0merr\u001b[0m\u001b[0;34m)\u001b[0m\u001b[0;34m\u001b[0m\u001b[0;34m\u001b[0m\u001b[0m\n\u001b[0;32m--> 801\u001b[0;31m             \u001b[0;32mraise\u001b[0m \u001b[0me\u001b[0m\u001b[0;34m\u001b[0m\u001b[0;34m\u001b[0m\u001b[0m\n\u001b[0m\u001b[1;32m    802\u001b[0m         \u001b[0;32mfinally\u001b[0m\u001b[0;34m:\u001b[0m\u001b[0;34m\u001b[0m\u001b[0;34m\u001b[0m\u001b[0m\n\u001b[1;32m    803\u001b[0m             \u001b[0;32mif\u001b[0m \u001b[0mself\u001b[0m\u001b[0;34m.\u001b[0m\u001b[0mdevice\u001b[0m \u001b[0;32min\u001b[0m \u001b[0;34m[\u001b[0m\u001b[0;34m'png'\u001b[0m\u001b[0;34m,\u001b[0m \u001b[0;34m'svg'\u001b[0m\u001b[0;34m]\u001b[0m\u001b[0;34m:\u001b[0m\u001b[0;34m\u001b[0m\u001b[0;34m\u001b[0m\u001b[0m\n",
            "\u001b[0;32m/usr/local/lib/python3.7/dist-packages/rpy2/ipython/rmagic.py\u001b[0m in \u001b[0;36mR\u001b[0;34m(self, line, cell, local_ns)\u001b[0m\n\u001b[1;32m    779\u001b[0m                     \u001b[0mreturn_output\u001b[0m \u001b[0;34m=\u001b[0m \u001b[0;32mFalse\u001b[0m\u001b[0;34m\u001b[0m\u001b[0;34m\u001b[0m\u001b[0m\n\u001b[1;32m    780\u001b[0m             \u001b[0;32melse\u001b[0m\u001b[0;34m:\u001b[0m\u001b[0;34m\u001b[0m\u001b[0;34m\u001b[0m\u001b[0m\n\u001b[0;32m--> 781\u001b[0;31m                 \u001b[0mtext_result\u001b[0m\u001b[0;34m,\u001b[0m \u001b[0mresult\u001b[0m\u001b[0;34m,\u001b[0m \u001b[0mvisible\u001b[0m \u001b[0;34m=\u001b[0m \u001b[0mself\u001b[0m\u001b[0;34m.\u001b[0m\u001b[0meval\u001b[0m\u001b[0;34m(\u001b[0m\u001b[0mcode\u001b[0m\u001b[0;34m)\u001b[0m\u001b[0;34m\u001b[0m\u001b[0;34m\u001b[0m\u001b[0m\n\u001b[0m\u001b[1;32m    782\u001b[0m                 \u001b[0mtext_output\u001b[0m \u001b[0;34m+=\u001b[0m \u001b[0mtext_result\u001b[0m\u001b[0;34m\u001b[0m\u001b[0;34m\u001b[0m\u001b[0m\n\u001b[1;32m    783\u001b[0m                 \u001b[0;32mif\u001b[0m \u001b[0mvisible\u001b[0m\u001b[0;34m:\u001b[0m\u001b[0;34m\u001b[0m\u001b[0;34m\u001b[0m\u001b[0m\n",
            "\u001b[0;32m/usr/local/lib/python3.7/dist-packages/rpy2/ipython/rmagic.py\u001b[0m in \u001b[0;36meval\u001b[0;34m(self, code)\u001b[0m\n\u001b[1;32m    288\u001b[0m                 \u001b[0mwarning_or_other_msg\u001b[0m \u001b[0;34m=\u001b[0m \u001b[0mself\u001b[0m\u001b[0;34m.\u001b[0m\u001b[0mflush\u001b[0m\u001b[0;34m(\u001b[0m\u001b[0;34m)\u001b[0m\u001b[0;34m\u001b[0m\u001b[0;34m\u001b[0m\u001b[0m\n\u001b[1;32m    289\u001b[0m                 raise RInterpreterError(code, str(exception),\n\u001b[0;32m--> 290\u001b[0;31m                                         warning_or_other_msg)\n\u001b[0m\u001b[1;32m    291\u001b[0m             \u001b[0mtext_output\u001b[0m \u001b[0;34m=\u001b[0m \u001b[0mself\u001b[0m\u001b[0;34m.\u001b[0m\u001b[0mflush\u001b[0m\u001b[0;34m(\u001b[0m\u001b[0;34m)\u001b[0m\u001b[0;34m\u001b[0m\u001b[0;34m\u001b[0m\u001b[0m\n\u001b[1;32m    292\u001b[0m             \u001b[0;32mreturn\u001b[0m \u001b[0mtext_output\u001b[0m\u001b[0;34m,\u001b[0m \u001b[0mvalue\u001b[0m\u001b[0;34m,\u001b[0m \u001b[0mvisible\u001b[0m\u001b[0;34m[\u001b[0m\u001b[0;36m0\u001b[0m\u001b[0;34m]\u001b[0m\u001b[0;34m\u001b[0m\u001b[0;34m\u001b[0m\u001b[0m\n",
            "\u001b[0;31mRInterpreterError\u001b[0m: Failed to parse and evaluate line 'posterior <- extract(fit)\\nstr(posterior)\\n'.\nR error message: \"Error in extract(fit) : object of type 'S4' is not subsettable\""
          ]
        }
      ]
    },
    {
      "cell_type": "code",
      "source": [
        "%%R\n",
        "glm1 <- glm(formula = Ano ~ Dia + Temp..Estator.Fase.U + Temp..Estator.Fase.WA + offset(log(Temp..Oleo.ULF)),\n",
        "            family = poisson(link = \"log\"),\n",
        "            data = df)\n",
        "summary(glm1)"
      ],
      "metadata": {
        "id": "sR_ksaCwgjSP"
      },
      "execution_count": null,
      "outputs": []
    }
  ]
}